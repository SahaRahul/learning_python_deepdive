{
 "metadata": {
  "language_info": {
   "codemirror_mode": {
    "name": "ipython",
    "version": 3
   },
   "file_extension": ".py",
   "mimetype": "text/x-python",
   "name": "python",
   "nbconvert_exporter": "python",
   "pygments_lexer": "ipython3",
   "version": "3.6.6-final"
  },
  "orig_nbformat": 2,
  "kernelspec": {
   "name": "python36864bitvenvvenv48c739131d7f49f69ff93d798d30262b",
   "display_name": "Python 3.6.8 64-bit ('.venv': venv)"
  }
 },
 "nbformat": 4,
 "nbformat_minor": 2,
 "cells": [
  {
   "source": [
    "# Class and OOPs concept"
   ],
   "cell_type": "markdown",
   "metadata": {}
  },
  {
   "cell_type": "code",
   "execution_count": 18,
   "metadata": {},
   "outputs": [],
   "source": [
    "class Dog:\n",
    "    \"\"\"A simple class for dog model\"\"\"\n",
    "\n",
    "    # Special method which is creating the instance of class\n",
    "    def __init__(self, name, age):\n",
    "        \"\"\"Initialize name and age attribute\"\"\"\n",
    "        self.name = name\n",
    "        self.age  = age\n",
    "        self.owner = ''\n",
    "    \n",
    "    def sit(self, place):\n",
    "        \"\"\"Simulate a dog sitting in response to a command\"\"\"\n",
    "        self.place = place\n",
    "        print(f\"{self.name} is now sitting. Sitting at {place}.\")\n",
    "\n",
    "\n",
    "    def running(self):\n",
    "        print(f\"{self.name} is running.\")\n",
    "\n",
    "    def get_current_owner(self, owner):\n",
    "        self.current_owner = owner\n",
    "        print(f\"{self.current_owner} is the owner now.\")\n"
   ]
  },
  {
   "cell_type": "code",
   "execution_count": 19,
   "metadata": {},
   "outputs": [],
   "source": [
    "my_dog = Dog('Rocky', 8)"
   ]
  },
  {
   "cell_type": "code",
   "execution_count": 17,
   "metadata": {},
   "outputs": [
    {
     "output_type": "execute_result",
     "data": {
      "text/plain": [
       "('Rocky', 8)"
      ]
     },
     "metadata": {},
     "execution_count": 17
    }
   ],
   "source": [
    "my_dog.name, my_dog.age"
   ]
  },
  {
   "cell_type": "code",
   "execution_count": 6,
   "metadata": {},
   "outputs": [
    {
     "output_type": "stream",
     "name": "stdout",
     "text": [
      "Rocky is running.\n"
     ]
    }
   ],
   "source": [
    "my_dog.running()"
   ]
  },
  {
   "cell_type": "code",
   "execution_count": 11,
   "metadata": {},
   "outputs": [
    {
     "output_type": "stream",
     "name": "stdout",
     "text": [
      "Rocky is now sitting. Sitting at Lone.\n"
     ]
    }
   ],
   "source": [
    "my_dog.sit(\"Lone\")"
   ]
  },
  {
   "cell_type": "code",
   "execution_count": 21,
   "metadata": {},
   "outputs": [
    {
     "output_type": "stream",
     "name": "stdout",
     "text": [
      "Rahul is the owner now.\n"
     ]
    }
   ],
   "source": [
    "my_dog.get_current_owner(\"Rahul\")"
   ]
  },
  {
   "cell_type": "code",
   "execution_count": 22,
   "metadata": {},
   "outputs": [
    {
     "output_type": "execute_result",
     "data": {
      "text/plain": [
       "'Rahul'"
      ]
     },
     "metadata": {},
     "execution_count": 22
    }
   ],
   "source": [
    "my_dog.current_owner"
   ]
  },
  {
   "source": [
    "# User of Super Class"
   ],
   "cell_type": "markdown",
   "metadata": {}
  },
  {
   "cell_type": "code",
   "execution_count": 24,
   "metadata": {},
   "outputs": [],
   "source": [
    "class Car:\n",
    "\n",
    "    def __init__(self, make, model, year):\n",
    "\n",
    "        self.make = make\n",
    "        self.model = model\n",
    "        self.year = year\n",
    "\n",
    "    def get_description(self):\n",
    "\n",
    "        description = f\"Manufactured in {self.year}\"\n",
    "\n",
    "        return description"
   ]
  },
  {
   "cell_type": "code",
   "execution_count": 40,
   "metadata": {},
   "outputs": [],
   "source": [
    "class ElectricCar(Car):\n",
    "\n",
    "    def __init__(self, make, model, year, charger_name):\n",
    "\n",
    "        super().__init__(make, model, year)\n",
    "        self.charger_name = charger_name\n",
    "\n",
    "    def check_charging(self, charge_flag):\n",
    "        if charge_flag == True:\n",
    "            return \"Yes\"\n",
    "        else:\n",
    "            return \"No\"\n"
   ]
  },
  {
   "cell_type": "code",
   "execution_count": 41,
   "metadata": {},
   "outputs": [
    {
     "output_type": "stream",
     "name": "stdout",
     "text": [
      "Manufactured in 2020\n"
     ]
    }
   ],
   "source": [
    "my_electric_car = ElectricCar('Tesla', 'small model', 2020, \"Exide\")\n",
    "\n",
    "print(my_electric_car.get_description())"
   ]
  },
  {
   "cell_type": "code",
   "execution_count": 42,
   "metadata": {},
   "outputs": [
    {
     "output_type": "execute_result",
     "data": {
      "text/plain": [
       "'Exide'"
      ]
     },
     "metadata": {},
     "execution_count": 42
    }
   ],
   "source": [
    "my_electric_car.charger_name"
   ]
  },
  {
   "cell_type": "code",
   "execution_count": 43,
   "metadata": {},
   "outputs": [
    {
     "output_type": "execute_result",
     "data": {
      "text/plain": [
       "'Yes'"
      ]
     },
     "metadata": {},
     "execution_count": 43
    }
   ],
   "source": [
    "my_electric_car.check_charging(True)"
   ]
  },
  {
   "cell_type": "code",
   "execution_count": 38,
   "metadata": {},
   "outputs": [],
   "source": [
    "my_car = Car('Maruti', 'Swift', 2019)"
   ]
  },
  {
   "cell_type": "code",
   "execution_count": 39,
   "metadata": {},
   "outputs": [
    {
     "output_type": "execute_result",
     "data": {
      "text/plain": [
       "'Manufactured in 2019'"
      ]
     },
     "metadata": {},
     "execution_count": 39
    }
   ],
   "source": [
    "my_car.get_description()"
   ]
  },
  {
   "source": [
    "# Use map function with iterator"
   ],
   "cell_type": "markdown",
   "metadata": {}
  },
  {
   "cell_type": "code",
   "execution_count": 47,
   "metadata": {},
   "outputs": [
    {
     "output_type": "stream",
     "name": "stdout",
     "text": [
      "[9, 16, 25, 36, 49]\n"
     ]
    }
   ],
   "source": [
    "def multi(num):\n",
    "    return num*num\n",
    "\n",
    "num_list = [3, 4, 5, 6, 7]\n",
    "\n",
    "# map() creates a generator\n",
    "print(list(map(multi, num_list)))"
   ]
  },
  {
   "cell_type": "code",
   "execution_count": 48,
   "metadata": {},
   "outputs": [
    {
     "output_type": "execute_result",
     "data": {
      "text/plain": [
       "[9, 16, 25, 36, 49]"
      ]
     },
     "metadata": {},
     "execution_count": 48
    }
   ],
   "source": [
    "list(map(multi, num_list))"
   ]
  },
  {
   "source": [
    "# Using itertools module to iterate"
   ],
   "cell_type": "markdown",
   "metadata": {}
  },
  {
   "cell_type": "code",
   "execution_count": 49,
   "metadata": {},
   "outputs": [],
   "source": [
    "Zipcodes = ['121212','232323','434334']\n",
    "newZipcodes = ['  131313 ',' 242424   ',' 212121 ','  323232','342312  ',' 565656 ']"
   ]
  },
  {
   "cell_type": "code",
   "execution_count": 50,
   "metadata": {},
   "outputs": [
    {
     "output_type": "execute_result",
     "data": {
      "text/plain": [
       "['121212',\n",
       " '232323',\n",
       " '434334',\n",
       " '131313',\n",
       " '242424',\n",
       " '212121',\n",
       " '323232',\n",
       " '342312',\n",
       " '565656']"
      ]
     },
     "metadata": {},
     "execution_count": 50
    }
   ],
   "source": [
    "import itertools\n",
    "\n",
    "list(itertools.chain(Zipcodes, (iter.strip() for iter in newZipcodes)))"
   ]
  },
  {
   "cell_type": "code",
   "execution_count": 51,
   "metadata": {},
   "outputs": [
    {
     "output_type": "execute_result",
     "data": {
      "text/plain": [
       "['131313', '242424', '212121', '323232', '342312', '565656']"
      ]
     },
     "metadata": {},
     "execution_count": 51
    }
   ],
   "source": [
    "[iter.strip() for iter in newZipcodes]"
   ]
  },
  {
   "cell_type": "code",
   "execution_count": 58,
   "metadata": {},
   "outputs": [],
   "source": [
    "import pandas as pd\n",
    "data1 = {\"name\":['Rahul','Sudipta'], \"mark\": [89,90]}\n",
    "data2 = {\"name\":['Priya','Rabi'], \"mark\": [89,90]}\n",
    "data3 = {\"name\":[], \"mark\": []}"
   ]
  },
  {
   "cell_type": "code",
   "execution_count": 59,
   "metadata": {},
   "outputs": [],
   "source": [
    "df1 = pd.DataFrame(data1)"
   ]
  },
  {
   "cell_type": "code",
   "execution_count": 60,
   "metadata": {},
   "outputs": [],
   "source": [
    "df2 = pd.DataFrame(data2)"
   ]
  },
  {
   "cell_type": "code",
   "execution_count": 61,
   "metadata": {},
   "outputs": [],
   "source": [
    "df3 = pd.DataFrame()"
   ]
  },
  {
   "cell_type": "code",
   "execution_count": 66,
   "metadata": {},
   "outputs": [],
   "source": [
    "df_final = pd.concat([df1, df2, df3]).reset_index(drop = True)"
   ]
  },
  {
   "cell_type": "code",
   "execution_count": 67,
   "metadata": {},
   "outputs": [
    {
     "output_type": "execute_result",
     "data": {
      "text/plain": [
       "      name  mark\n",
       "0    Rahul    89\n",
       "1  Sudipta    90\n",
       "2    Priya    89\n",
       "3     Rabi    90"
      ],
      "text/html": "<div>\n<style scoped>\n    .dataframe tbody tr th:only-of-type {\n        vertical-align: middle;\n    }\n\n    .dataframe tbody tr th {\n        vertical-align: top;\n    }\n\n    .dataframe thead th {\n        text-align: right;\n    }\n</style>\n<table border=\"1\" class=\"dataframe\">\n  <thead>\n    <tr style=\"text-align: right;\">\n      <th></th>\n      <th>name</th>\n      <th>mark</th>\n    </tr>\n  </thead>\n  <tbody>\n    <tr>\n      <th>0</th>\n      <td>Rahul</td>\n      <td>89</td>\n    </tr>\n    <tr>\n      <th>1</th>\n      <td>Sudipta</td>\n      <td>90</td>\n    </tr>\n    <tr>\n      <th>2</th>\n      <td>Priya</td>\n      <td>89</td>\n    </tr>\n    <tr>\n      <th>3</th>\n      <td>Rabi</td>\n      <td>90</td>\n    </tr>\n  </tbody>\n</table>\n</div>"
     },
     "metadata": {},
     "execution_count": 67
    }
   ],
   "source": [
    "df_final"
   ]
  },
  {
   "cell_type": "code",
   "execution_count": 72,
   "metadata": {},
   "outputs": [],
   "source": [
    "def funct1(num1):\n",
    "    num2 = num1 + 3\n",
    "\n",
    "    def sqnum():\n",
    "        print(num2*num2)\n",
    "\n",
    "    sqnum()\n"
   ]
  },
  {
   "cell_type": "code",
   "execution_count": 73,
   "metadata": {},
   "outputs": [
    {
     "output_type": "stream",
     "name": "stdout",
     "text": [
      "64\n"
     ]
    }
   ],
   "source": [
    "funct1(5)"
   ]
  },
  {
   "cell_type": "code",
   "execution_count": 74,
   "metadata": {},
   "outputs": [],
   "source": [
    "def funct2(num1):\n",
    "    num2 = num1 + 3\n",
    "\n",
    "    def sqnum(num2):\n",
    "        print(num2*num2)\n",
    "\n",
    "    sqnum(num2)\n"
   ]
  },
  {
   "cell_type": "code",
   "execution_count": 75,
   "metadata": {},
   "outputs": [
    {
     "output_type": "stream",
     "name": "stdout",
     "text": [
      "64\n"
     ]
    }
   ],
   "source": [
    "funct2(5)"
   ]
  },
  {
   "cell_type": "code",
   "execution_count": null,
   "metadata": {},
   "outputs": [],
   "source": []
  }
 ]
}