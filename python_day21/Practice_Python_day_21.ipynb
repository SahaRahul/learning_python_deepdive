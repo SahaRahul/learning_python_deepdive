{
  "nbformat": 4,
  "nbformat_minor": 0,
  "metadata": {
    "colab": {
      "name": "Practice Python day#21.ipynb",
      "provenance": [],
      "collapsed_sections": []
    },
    "kernelspec": {
      "name": "python3",
      "display_name": "Python 3"
    }
  },
  "cells": [
    {
      "cell_type": "code",
      "metadata": {
        "id": "CMlYTLVCxjif"
      },
      "source": [
        "import numpy as np"
      ],
      "execution_count": 1,
      "outputs": []
    },
    {
      "cell_type": "code",
      "metadata": {
        "id": "tBSBqqTd4rXi"
      },
      "source": [
        "X = 2 * np.random.rand(100, 1)\r\n",
        "y = 3 + 6 * X + np.random.randn(100, 1)"
      ],
      "execution_count": 10,
      "outputs": []
    },
    {
      "cell_type": "markdown",
      "metadata": {
        "id": "A43IS7cm-HP0"
      },
      "source": [
        "### Normal Equation"
      ]
    },
    {
      "cell_type": "code",
      "metadata": {
        "id": "Uzy7Vgrb5XVZ"
      },
      "source": [
        "X_b = np.c_[np.ones((100,1)), X]\r\n",
        "theta_best = np.linalg.inv(X_b.T.dot(X_b)).dot(X_b.T).dot(y)"
      ],
      "execution_count": 11,
      "outputs": []
    },
    {
      "cell_type": "code",
      "metadata": {
        "colab": {
          "base_uri": "https://localhost:8080/"
        },
        "id": "hrDdEmAh5106",
        "outputId": "40c47a9a-2ec5-4ada-d556-b79cbeb5ffcc"
      },
      "source": [
        "theta_best"
      ],
      "execution_count": 12,
      "outputs": [
        {
          "output_type": "execute_result",
          "data": {
            "text/plain": [
              "array([[2.87135586],\n",
              "       [6.20260015]])"
            ]
          },
          "metadata": {
            "tags": []
          },
          "execution_count": 12
        }
      ]
    },
    {
      "cell_type": "code",
      "metadata": {
        "id": "sjdCUYVM53f3"
      },
      "source": [
        "np.ones((100,1))"
      ],
      "execution_count": null,
      "outputs": []
    },
    {
      "cell_type": "code",
      "metadata": {
        "id": "Udqxrhkq6I2V"
      },
      "source": [
        "X_b"
      ],
      "execution_count": null,
      "outputs": []
    },
    {
      "cell_type": "code",
      "metadata": {
        "colab": {
          "base_uri": "https://localhost:8080/"
        },
        "id": "wW7z22FQ6OVY",
        "outputId": "d7f8414e-97f5-441f-b66e-5514098e7adc"
      },
      "source": [
        "X_new = np.array([[0],[2]])\r\n",
        "X_new_b = np.c_[np.ones((2, 1)), X_new]\r\n",
        "\r\n",
        "y_predict = X_new_b.dot(theta_best)\r\n",
        "y_predict"
      ],
      "execution_count": 7,
      "outputs": [
        {
          "output_type": "execute_result",
          "data": {
            "text/plain": [
              "array([[ 4.0864481],\n",
              "       [10.0777447]])"
            ]
          },
          "metadata": {
            "tags": []
          },
          "execution_count": 7
        }
      ]
    },
    {
      "cell_type": "code",
      "metadata": {
        "colab": {
          "base_uri": "https://localhost:8080/",
          "height": 265
        },
        "id": "0PdpoEr07K72",
        "outputId": "dd2e2fcb-ef83-4bab-8e17-63c7b144d480"
      },
      "source": [
        "import matplotlib.pyplot as plt\r\n",
        "\r\n",
        "plt.plot(X_new, y_predict, \"r-\")\r\n",
        "plt.plot(X, y, \"b.\")\r\n",
        "plt.axis([0,3,0,15])\r\n",
        "plt.show()"
      ],
      "execution_count": 9,
      "outputs": [
        {
          "output_type": "display_data",
          "data": {
            "image/png": "[encoded data removed]",
            "text/plain": [
              "<Figure size 432x288 with 1 Axes>"
            ]
          },
          "metadata": {
            "tags": [],
            "needs_background": "light"
          }
        }
      ]
    },
    {
      "cell_type": "code",
      "metadata": {
        "colab": {
          "base_uri": "https://localhost:8080/"
        },
        "id": "DUO0hAIF7dxI",
        "outputId": "628cfc27-d24c-4544-9172-050e3133002f"
      },
      "source": [
        "from sklearn.linear_model import LinearRegression\r\n",
        "\r\n",
        "lin_reg = LinearRegression()\r\n",
        "lin_reg.fit(X, y)"
      ],
      "execution_count": 13,
      "outputs": [
        {
          "output_type": "execute_result",
          "data": {
            "text/plain": [
              "LinearRegression(copy_X=True, fit_intercept=True, n_jobs=None, normalize=False)"
            ]
          },
          "metadata": {
            "tags": []
          },
          "execution_count": 13
        }
      ]
    },
    {
      "cell_type": "code",
      "metadata": {
        "colab": {
          "base_uri": "https://localhost:8080/"
        },
        "id": "msykq1DS8YOH",
        "outputId": "363fcbb6-fe79-4c13-9296-f9ee73f169ae"
      },
      "source": [
        "lin_reg.intercept_, lin_reg.coef_"
      ],
      "execution_count": 14,
      "outputs": [
        {
          "output_type": "execute_result",
          "data": {
            "text/plain": [
              "(array([2.87135586]), array([[6.20260015]]))"
            ]
          },
          "metadata": {
            "tags": []
          },
          "execution_count": 14
        }
      ]
    },
    {
      "cell_type": "markdown",
      "metadata": {
        "id": "ppI3KmqC9kPN"
      },
      "source": [
        "###  SVD is used by Sklearn, inner logic"
      ]
    },
    {
      "cell_type": "code",
      "metadata": {
        "colab": {
          "base_uri": "https://localhost:8080/"
        },
        "id": "vRroeYML8c_m",
        "outputId": "3f309e1e-2177-44e0-9b0b-15fd721f1e51"
      },
      "source": [
        "theta_best_svd, residuals, rank, s = np.linalg.lstsq(X_b, y, rcond=1e-6)\r\n",
        "theta_best_svd"
      ],
      "execution_count": 15,
      "outputs": [
        {
          "output_type": "execute_result",
          "data": {
            "text/plain": [
              "array([[2.87135586],\n",
              "       [6.20260015]])"
            ]
          },
          "metadata": {
            "tags": []
          },
          "execution_count": 15
        }
      ]
    },
    {
      "cell_type": "code",
      "metadata": {
        "colab": {
          "base_uri": "https://localhost:8080/"
        },
        "id": "10ZkJm4s84Ia",
        "outputId": "b35279ed-9e33-45d4-a902-abc3ff9d5f3c"
      },
      "source": [
        "# Singular Value Decomposition (SVD)\r\n",
        "\r\n",
        "np.linalg.pinv(X_b).dot(y)"
      ],
      "execution_count": 16,
      "outputs": [
        {
          "output_type": "execute_result",
          "data": {
            "text/plain": [
              "array([[2.87135586],\n",
              "       [6.20260015]])"
            ]
          },
          "metadata": {
            "tags": []
          },
          "execution_count": 16
        }
      ]
    },
    {
      "cell_type": "code",
      "metadata": {
        "colab": {
          "base_uri": "https://localhost:8080/"
        },
        "id": "MosYXHAL9Zz5",
        "outputId": "2ca31117-2a5c-4e5f-b067-5b989ed07379"
      },
      "source": [
        "np.linalg.svd(np.linalg.pinv(X_b).dot(y))"
      ],
      "execution_count": 17,
      "outputs": [
        {
          "output_type": "execute_result",
          "data": {
            "text/plain": [
              "(array([[ 0.42009727, -0.90747908],\n",
              "        [ 0.90747908,  0.42009727]]), array([6.83497865]), array([[1.]]))"
            ]
          },
          "metadata": {
            "tags": []
          },
          "execution_count": 17
        }
      ]
    },
    {
      "cell_type": "markdown",
      "metadata": {
        "id": "0NjjErZI-hk6"
      },
      "source": [
        "### Gradient Descent"
      ]
    },
    {
      "cell_type": "code",
      "metadata": {
        "id": "yL1ZddAt98sU"
      },
      "source": [
        "import numpy as np\r\n",
        "import matplotlib.pyplot as plt\r\n",
        "from matplotlib import cm"
      ],
      "execution_count": 18,
      "outputs": []
    },
    {
      "cell_type": "markdown",
      "metadata": {
        "id": "2gdnmhE9ANRL"
      },
      "source": [
        "#### Batch GD"
      ]
    },
    {
      "cell_type": "code",
      "metadata": {
        "colab": {
          "base_uri": "https://localhost:8080/",
          "height": 265
        },
        "id": "RIdrP2RN-wKz",
        "outputId": "63f7e1ce-e218-4fee-8497-5773201d87d3"
      },
      "source": [
        "eta = 0.1 # LR\r\n",
        "n_iter = 1000\r\n",
        "m = 100\r\n",
        "\r\n",
        "theta = np.random.randn(2, 1)\r\n",
        "\r\n",
        "plt.plot(X, y, \"g.\")\r\n",
        "\r\n",
        "for iteration in range(n_iter):\r\n",
        "  gradients = 2/m * X_b.T.dot(X_b.dot(theta) - y)\r\n",
        "  theta = theta - eta * gradients\r\n",
        "\r\n",
        "  y_predict = X_b.dot(theta)\r\n",
        "  plt.plot(X_b, y_predict, c = cm.hsv_r(iteration), linewidth = 0.5)\r\n",
        "\r\n",
        "plt.axis([0, 2, 0, 15])\r\n",
        "plt.show()"
      ],
      "execution_count": 19,
      "outputs": [
        {
          "output_type": "display_data",
          "data": {
            "image/png": "[encoded data removed]",
            "text/plain": [
              "<Figure size 432x288 with 1 Axes>"
            ]
          },
          "metadata": {
            "tags": [],
            "needs_background": "light"
          }
        }
      ]
    },
    {
      "cell_type": "code",
      "metadata": {
        "colab": {
          "base_uri": "https://localhost:8080/"
        },
        "id": "UIIRxCH7_z9e",
        "outputId": "a046b89b-bb03-4664-f5dd-286ec6c2389c"
      },
      "source": [
        "theta"
      ],
      "execution_count": 20,
      "outputs": [
        {
          "output_type": "execute_result",
          "data": {
            "text/plain": [
              "array([[2.87135586],\n",
              "       [6.20260015]])"
            ]
          },
          "metadata": {
            "tags": []
          },
          "execution_count": 20
        }
      ]
    },
    {
      "cell_type": "code",
      "metadata": {
        "colab": {
          "base_uri": "https://localhost:8080/",
          "height": 265
        },
        "id": "PkJV-D6UADwS",
        "outputId": "4d3ae24a-cad1-441c-87c6-3d5c9cbf41e4"
      },
      "source": [
        "eta = 0.01 # LR\r\n",
        "n_iter = 1000\r\n",
        "m = 100\r\n",
        "\r\n",
        "theta = np.random.randn(2, 1)\r\n",
        "\r\n",
        "plt.plot(X, y, \"g.\")\r\n",
        "\r\n",
        "for iteration in range(n_iter):\r\n",
        "  gradients = 2/m * X_b.T.dot(X_b.dot(theta) - y)\r\n",
        "  theta = theta - eta * gradients\r\n",
        "\r\n",
        "  y_predict = X_b.dot(theta)\r\n",
        "  plt.plot(X_b, y_predict, c = cm.hsv_r(iteration), linewidth = 0.5)\r\n",
        "\r\n",
        "plt.axis([0, 2, 0, 15])\r\n",
        "plt.show()"
      ],
      "execution_count": 21,
      "outputs": [
        {
          "output_type": "display_data",
          "data": {
            "image/png": "[encoded data removed]",
            "text/plain": [
              "<Figure size 432x288 with 1 Axes>"
            ]
          },
          "metadata": {
            "tags": [],
            "needs_background": "light"
          }
        }
      ]
    },
    {
      "cell_type": "code",
      "metadata": {
        "colab": {
          "base_uri": "https://localhost:8080/",
          "height": 265
        },
        "id": "OX8pziQ1Adr4",
        "outputId": "9db689a1-183d-43a6-b705-f12b3af12776"
      },
      "source": [
        "eta = 0.5 # LR\r\n",
        "n_iter = 1000\r\n",
        "m = 100\r\n",
        "\r\n",
        "theta = np.random.randn(2, 1)\r\n",
        "\r\n",
        "plt.plot(X, y, \"g.\")\r\n",
        "\r\n",
        "for iteration in range(n_iter):\r\n",
        "  gradients = 2/m * X_b.T.dot(X_b.dot(theta) - y)\r\n",
        "  theta = theta - eta * gradients\r\n",
        "\r\n",
        "  y_predict = X_b.dot(theta)\r\n",
        "  plt.plot(X_b, y_predict, c = cm.hsv_r(iteration), linewidth = 0.5)\r\n",
        "\r\n",
        "plt.axis([0, 2, 0, 15])\r\n",
        "plt.show()"
      ],
      "execution_count": 25,
      "outputs": [
        {
          "output_type": "display_data",
          "data": {
            "image/png": "[encoded data removed]",
            "text/plain": [
              "<Figure size 432x288 with 1 Axes>"
            ]
          },
          "metadata": {
            "tags": [],
            "needs_background": "light"
          }
        }
      ]
    },
    {
      "cell_type": "code",
      "metadata": {
        "colab": {
          "base_uri": "https://localhost:8080/"
        },
        "id": "VPGRKSW6Aq8L",
        "outputId": "dc9edbbb-1c06-41d0-a527-3b7dda189285"
      },
      "source": [
        "theta"
      ],
      "execution_count": 26,
      "outputs": [
        {
          "output_type": "execute_result",
          "data": {
            "text/plain": [
              "array([[-1.78051140e+70],\n",
              "       [-2.08732138e+70]])"
            ]
          },
          "metadata": {
            "tags": []
          },
          "execution_count": 26
        }
      ]
    },
    {
      "cell_type": "code",
      "metadata": {
        "colab": {
          "base_uri": "https://localhost:8080/",
          "height": 265
        },
        "id": "-zUnsAJUA1CQ",
        "outputId": "68063e01-6d13-442d-80a8-1270caedf99c"
      },
      "source": [
        "n_epochs = 50\r\n",
        "m = 100\r\n",
        "t0, t1 = 5, 50\r\n",
        "\r\n",
        "def learning_schedule(t):\r\n",
        "  return t0 / (t + t1)\r\n",
        "\r\n",
        "theta = np.random.randn(2, 1)\r\n",
        "plt.plot(X, y, \"g.\")\r\n",
        "\r\n",
        "for epoch in range(n_epochs):\r\n",
        "  for i in range(m):\r\n",
        "    random_index = np.random.randint(m)\r\n",
        "\r\n",
        "    xi = X_b[random_index:random_index + 1]\r\n",
        "    yi = y[random_index:random_index + 1]\r\n",
        "\r\n",
        "    gradients = 2 * xi.T.dot(xi.dot(theta) - yi) \r\n",
        "    eta = learning_schedule(epoch * m + i)\r\n",
        "    theta = theta - eta * gradients\r\n",
        "\r\n",
        "    y_predict = X_b.dot(theta)\r\n",
        "    plt.plot(X_b, y_predict, c=cm.hsv_r(iteration), linewidth = 0.5)\r\n",
        "\r\n",
        "plt.show()"
      ],
      "execution_count": 27,
      "outputs": [
        {
          "output_type": "display_data",
          "data": {
            "image/png": "[encoded data removed]",
            "text/plain": [
              "<Figure size 432x288 with 1 Axes>"
            ]
          },
          "metadata": {
            "tags": [],
            "needs_background": "light"
          }
        }
      ]
    },
    {
      "cell_type": "code",
      "metadata": {
        "colab": {
          "base_uri": "https://localhost:8080/"
        },
        "id": "iyd5DePUEWrE",
        "outputId": "942b5515-31aa-4db9-9d38-1f85708dd9a2"
      },
      "source": [
        "theta"
      ],
      "execution_count": 28,
      "outputs": [
        {
          "output_type": "execute_result",
          "data": {
            "text/plain": [
              "array([[2.86558998],\n",
              "       [6.23141276]])"
            ]
          },
          "metadata": {
            "tags": []
          },
          "execution_count": 28
        }
      ]
    },
    {
      "cell_type": "code",
      "metadata": {
        "colab": {
          "base_uri": "https://localhost:8080/"
        },
        "id": "D9TYmiRREe1A",
        "outputId": "b50fca0d-3511-4291-b698-fe78f3a01117"
      },
      "source": [
        "from sklearn.linear_model import SGDRegressor\r\n",
        "\r\n",
        "sgd_reg = SGDRegressor(max_iter = 1000, tol = 1e-3, penalty = None, eta0 = 0.1)\r\n",
        "sgd_reg.fit(X, y.ravel())"
      ],
      "execution_count": 29,
      "outputs": [
        {
          "output_type": "execute_result",
          "data": {
            "text/plain": [
              "SGDRegressor(alpha=0.0001, average=False, early_stopping=False, epsilon=0.1,\n",
              "             eta0=0.1, fit_intercept=True, l1_ratio=0.15,\n",
              "             learning_rate='invscaling', loss='squared_loss', max_iter=1000,\n",
              "             n_iter_no_change=5, penalty=None, power_t=0.25, random_state=None,\n",
              "             shuffle=True, tol=0.001, validation_fraction=0.1, verbose=0,\n",
              "             warm_start=False)"
            ]
          },
          "metadata": {
            "tags": []
          },
          "execution_count": 29
        }
      ]
    },
    {
      "cell_type": "code",
      "metadata": {
        "colab": {
          "base_uri": "https://localhost:8080/"
        },
        "id": "HTs5mFJ0E_Oe",
        "outputId": "e3987e06-fb5c-4856-8ab6-8b082d8e029b"
      },
      "source": [
        "sgd_reg.intercept_, sgd_reg.coef_"
      ],
      "execution_count": 30,
      "outputs": [
        {
          "output_type": "execute_result",
          "data": {
            "text/plain": [
              "(array([2.86742354]), array([6.20812836]))"
            ]
          },
          "metadata": {
            "tags": []
          },
          "execution_count": 30
        }
      ]
    },
    {
      "cell_type": "code",
      "metadata": {
        "id": "nbKclV7CFTEp"
      },
      "source": [
        ""
      ],
      "execution_count": null,
      "outputs": []
    }
  ]
}