{
  "nbformat": 4,
  "nbformat_minor": 0,
  "metadata": {
    "colab": {
      "name": "Practice ML Day#19 - Classification.ipynb",
      "provenance": []
    },
    "kernelspec": {
      "name": "python3",
      "display_name": "Python 3"
    }
  },
  "cells": [
    {
      "cell_type": "code",
      "metadata": {
        "id": "eEIfGIXc7GFw"
      },
      "source": [
        "import pandas as pd\r\n",
        "import numpy as np\r\n",
        "import matplotlib.pyplot as plt\r\n",
        "import seaborn as sns\r\n",
        "%matplotlib inline"
      ],
      "execution_count": 22,
      "outputs": []
    },
    {
      "cell_type": "markdown",
      "metadata": {
        "id": "bE1NLT2a8Kb0"
      },
      "source": [
        "# Classification\r\n",
        "\r\n",
        "PROBLEM STATEMENT\r\n",
        "\r\n",
        "You own an online clothing business and you would like to develop a new app (or in-store) feature in which customers would enter their own height and weight and the system would predict what T-shirt size should they wear. Features are height and weight and output is either L (Large) or S (Small)."
      ]
    },
    {
      "cell_type": "code",
      "metadata": {
        "id": "NggrtdNn8O3k"
      },
      "source": [
        "Tshirt = pd.read_csv(\"Tshirt_Sizing_Dataset.csv\")"
      ],
      "execution_count": 23,
      "outputs": []
    },
    {
      "cell_type": "code",
      "metadata": {
        "colab": {
          "base_uri": "https://localhost:8080/",
          "height": 195
        },
        "id": "DtuoP8n58rzX",
        "outputId": "59b35c2a-2af5-41f0-889c-a5b5e7d1d16d"
      },
      "source": [
        "Tshirt.head()"
      ],
      "execution_count": 24,
      "outputs": [
        {
          "output_type": "execute_result",
          "data": {
            "text/html": [
              "<div>\n",
              "<style scoped>\n",
              "    .dataframe tbody tr th:only-of-type {\n",
              "        vertical-align: middle;\n",
              "    }\n",
              "\n",
              "    .dataframe tbody tr th {\n",
              "        vertical-align: top;\n",
              "    }\n",
              "\n",
              "    .dataframe thead th {\n",
              "        text-align: right;\n",
              "    }\n",
              "</style>\n",
              "<table border=\"1\" class=\"dataframe\">\n",
              "  <thead>\n",
              "    <tr style=\"text-align: right;\">\n",
              "      <th></th>\n",
              "      <th>Height (in cms)</th>\n",
              "      <th>Weight (in kgs)</th>\n",
              "      <th>T Shirt Size</th>\n",
              "    </tr>\n",
              "  </thead>\n",
              "  <tbody>\n",
              "    <tr>\n",
              "      <th>0</th>\n",
              "      <td>158</td>\n",
              "      <td>58</td>\n",
              "      <td>S</td>\n",
              "    </tr>\n",
              "    <tr>\n",
              "      <th>1</th>\n",
              "      <td>158</td>\n",
              "      <td>59</td>\n",
              "      <td>S</td>\n",
              "    </tr>\n",
              "    <tr>\n",
              "      <th>2</th>\n",
              "      <td>158</td>\n",
              "      <td>63</td>\n",
              "      <td>S</td>\n",
              "    </tr>\n",
              "    <tr>\n",
              "      <th>3</th>\n",
              "      <td>160</td>\n",
              "      <td>59</td>\n",
              "      <td>S</td>\n",
              "    </tr>\n",
              "    <tr>\n",
              "      <th>4</th>\n",
              "      <td>160</td>\n",
              "      <td>60</td>\n",
              "      <td>S</td>\n",
              "    </tr>\n",
              "  </tbody>\n",
              "</table>\n",
              "</div>"
            ],
            "text/plain": [
              "   Height (in cms)  Weight (in kgs) T Shirt Size\n",
              "0              158               58            S\n",
              "1              158               59            S\n",
              "2              158               63            S\n",
              "3              160               59            S\n",
              "4              160               60            S"
            ]
          },
          "metadata": {
            "tags": []
          },
          "execution_count": 24
        }
      ]
    },
    {
      "cell_type": "code",
      "metadata": {
        "colab": {
          "base_uri": "https://localhost:8080/"
        },
        "id": "IskCV9PB8wea",
        "outputId": "f53f24b5-abf9-4306-b2a2-218bf147666f"
      },
      "source": [
        "X = Tshirt.iloc[:, 0:2].values\r\n",
        "X"
      ],
      "execution_count": 25,
      "outputs": [
        {
          "output_type": "execute_result",
          "data": {
            "text/plain": [
              "array([[158,  58],\n",
              "       [158,  59],\n",
              "       [158,  63],\n",
              "       [160,  59],\n",
              "       [160,  60],\n",
              "       [163,  60],\n",
              "       [163,  61],\n",
              "       [160,  64],\n",
              "       [163,  64],\n",
              "       [165,  61],\n",
              "       [165,  62],\n",
              "       [165,  65],\n",
              "       [168,  62],\n",
              "       [168,  63],\n",
              "       [168,  66],\n",
              "       [170,  63],\n",
              "       [170,  64],\n",
              "       [170,  68]])"
            ]
          },
          "metadata": {
            "tags": []
          },
          "execution_count": 25
        }
      ]
    },
    {
      "cell_type": "code",
      "metadata": {
        "colab": {
          "base_uri": "https://localhost:8080/"
        },
        "id": "ri0rSR0q82DN",
        "outputId": "94cc16fa-6ed9-47b3-fb69-9e11d6203f86"
      },
      "source": [
        "y = Tshirt.iloc[:, 2].values\r\n",
        "y"
      ],
      "execution_count": 26,
      "outputs": [
        {
          "output_type": "execute_result",
          "data": {
            "text/plain": [
              "array(['S', 'S', 'S', 'S', 'S', 'S', 'S', 'L', 'L', 'L', 'L', 'L', 'L',\n",
              "       'L', 'L', 'L', 'L', 'L'], dtype=object)"
            ]
          },
          "metadata": {
            "tags": []
          },
          "execution_count": 26
        }
      ]
    },
    {
      "cell_type": "code",
      "metadata": {
        "id": "YUq9zA069VA2"
      },
      "source": [
        "from sklearn.preprocessing import LabelEncoder\r\n",
        "le_y = LabelEncoder()\r\n",
        "\r\n",
        "y = le_y.fit_transform(y)"
      ],
      "execution_count": 27,
      "outputs": []
    },
    {
      "cell_type": "code",
      "metadata": {
        "colab": {
          "base_uri": "https://localhost:8080/"
        },
        "id": "Wrk5hi1895C9",
        "outputId": "c27e8f48-5f09-497a-f742-e6f057a3d802"
      },
      "source": [
        "y"
      ],
      "execution_count": 28,
      "outputs": [
        {
          "output_type": "execute_result",
          "data": {
            "text/plain": [
              "array([1, 1, 1, 1, 1, 1, 1, 0, 0, 0, 0, 0, 0, 0, 0, 0, 0, 0])"
            ]
          },
          "metadata": {
            "tags": []
          },
          "execution_count": 28
        }
      ]
    },
    {
      "cell_type": "code",
      "metadata": {
        "id": "Zfhr202l-DVc"
      },
      "source": [
        "from sklearn.model_selection import train_test_split"
      ],
      "execution_count": 29,
      "outputs": []
    },
    {
      "cell_type": "code",
      "metadata": {
        "id": "ObqUca4d-I9t"
      },
      "source": [
        "X_train, X_test, y_train, y_test = train_test_split(X, y, test_size=0.25)"
      ],
      "execution_count": 30,
      "outputs": []
    },
    {
      "cell_type": "code",
      "metadata": {
        "id": "UCsN9LoY-mb-"
      },
      "source": [
        "# # Feature Scaling\r\n",
        "# from sklearn.preprocessing import StandardScaler\r\n",
        "# sc = StandardScaler()\r\n",
        "# X_train = sc.fit_transform(X_train)\r\n",
        "# X_test = sc.transform(X_test)"
      ],
      "execution_count": 31,
      "outputs": []
    },
    {
      "cell_type": "code",
      "metadata": {
        "id": "VvdLkgq9_Ewd"
      },
      "source": [
        "from sklearn.neighbors import KNeighborsClassifier"
      ],
      "execution_count": 32,
      "outputs": []
    },
    {
      "cell_type": "code",
      "metadata": {
        "id": "RbPRVl15_Npg"
      },
      "source": [
        "classifier = KNeighborsClassifier(n_neighbors = 5, metric = 'minkowski', p = 2)"
      ],
      "execution_count": 33,
      "outputs": []
    },
    {
      "cell_type": "code",
      "metadata": {
        "colab": {
          "base_uri": "https://localhost:8080/"
        },
        "id": "dGQwE7W6_U38",
        "outputId": "667fe220-7c3a-4058-c11f-63db576ce8c5"
      },
      "source": [
        "classifier.fit(X_train, y_train)"
      ],
      "execution_count": 34,
      "outputs": [
        {
          "output_type": "execute_result",
          "data": {
            "text/plain": [
              "KNeighborsClassifier(algorithm='auto', leaf_size=30, metric='minkowski',\n",
              "                     metric_params=None, n_jobs=None, n_neighbors=5, p=2,\n",
              "                     weights='uniform')"
            ]
          },
          "metadata": {
            "tags": []
          },
          "execution_count": 34
        }
      ]
    },
    {
      "cell_type": "code",
      "metadata": {
        "colab": {
          "base_uri": "https://localhost:8080/"
        },
        "id": "w6bTVbpGCcvv",
        "outputId": "7332b1bf-3328-4c6c-c5ba-2be5a1d244e4"
      },
      "source": [
        "X_test"
      ],
      "execution_count": 41,
      "outputs": [
        {
          "output_type": "execute_result",
          "data": {
            "text/plain": [
              "array([[165,  65],\n",
              "       [170,  64],\n",
              "       [163,  60],\n",
              "       [163,  64],\n",
              "       [158,  63]])"
            ]
          },
          "metadata": {
            "tags": []
          },
          "execution_count": 41
        }
      ]
    },
    {
      "cell_type": "code",
      "metadata": {
        "colab": {
          "base_uri": "https://localhost:8080/"
        },
        "id": "90IVBbiP_yrx",
        "outputId": "3a348b13-9f68-4ca2-949b-2c4894468fcf"
      },
      "source": [
        "# Predicting the Test set results\r\n",
        "y_pred = classifier.predict(X_test)\r\n",
        "y_pred"
      ],
      "execution_count": 35,
      "outputs": [
        {
          "output_type": "execute_result",
          "data": {
            "text/plain": [
              "array([0, 0, 1, 0, 1])"
            ]
          },
          "metadata": {
            "tags": []
          },
          "execution_count": 35
        }
      ]
    },
    {
      "cell_type": "code",
      "metadata": {
        "colab": {
          "base_uri": "https://localhost:8080/"
        },
        "id": "tWzHWROmDBPz",
        "outputId": "14373197-139f-4ce9-b5d3-48e290ccabe8"
      },
      "source": [
        "classifier.predict([[163,66]])"
      ],
      "execution_count": 46,
      "outputs": [
        {
          "output_type": "execute_result",
          "data": {
            "text/plain": [
              "array([0])"
            ]
          },
          "metadata": {
            "tags": []
          },
          "execution_count": 46
        }
      ]
    },
    {
      "cell_type": "code",
      "metadata": {
        "colab": {
          "base_uri": "https://localhost:8080/"
        },
        "id": "3sxMn8t_BSo0",
        "outputId": "ddd8065c-cdae-4ee7-f25a-8e4dba865f32"
      },
      "source": [
        "X_test"
      ],
      "execution_count": 36,
      "outputs": [
        {
          "output_type": "execute_result",
          "data": {
            "text/plain": [
              "array([[165,  65],\n",
              "       [170,  64],\n",
              "       [163,  60],\n",
              "       [163,  64],\n",
              "       [158,  63]])"
            ]
          },
          "metadata": {
            "tags": []
          },
          "execution_count": 36
        }
      ]
    },
    {
      "cell_type": "code",
      "metadata": {
        "colab": {
          "base_uri": "https://localhost:8080/",
          "height": 580
        },
        "id": "WMvBwoMcBaPY",
        "outputId": "21eadc15-e6f0-4fbf-9fbd-fafeef8e552e"
      },
      "source": [
        "Tshirt"
      ],
      "execution_count": 38,
      "outputs": [
        {
          "output_type": "execute_result",
          "data": {
            "text/html": [
              "<div>\n",
              "<style scoped>\n",
              "    .dataframe tbody tr th:only-of-type {\n",
              "        vertical-align: middle;\n",
              "    }\n",
              "\n",
              "    .dataframe tbody tr th {\n",
              "        vertical-align: top;\n",
              "    }\n",
              "\n",
              "    .dataframe thead th {\n",
              "        text-align: right;\n",
              "    }\n",
              "</style>\n",
              "<table border=\"1\" class=\"dataframe\">\n",
              "  <thead>\n",
              "    <tr style=\"text-align: right;\">\n",
              "      <th></th>\n",
              "      <th>Height (in cms)</th>\n",
              "      <th>Weight (in kgs)</th>\n",
              "      <th>T Shirt Size</th>\n",
              "    </tr>\n",
              "  </thead>\n",
              "  <tbody>\n",
              "    <tr>\n",
              "      <th>0</th>\n",
              "      <td>158</td>\n",
              "      <td>58</td>\n",
              "      <td>S</td>\n",
              "    </tr>\n",
              "    <tr>\n",
              "      <th>1</th>\n",
              "      <td>158</td>\n",
              "      <td>59</td>\n",
              "      <td>S</td>\n",
              "    </tr>\n",
              "    <tr>\n",
              "      <th>2</th>\n",
              "      <td>158</td>\n",
              "      <td>63</td>\n",
              "      <td>S</td>\n",
              "    </tr>\n",
              "    <tr>\n",
              "      <th>3</th>\n",
              "      <td>160</td>\n",
              "      <td>59</td>\n",
              "      <td>S</td>\n",
              "    </tr>\n",
              "    <tr>\n",
              "      <th>4</th>\n",
              "      <td>160</td>\n",
              "      <td>60</td>\n",
              "      <td>S</td>\n",
              "    </tr>\n",
              "    <tr>\n",
              "      <th>5</th>\n",
              "      <td>163</td>\n",
              "      <td>60</td>\n",
              "      <td>S</td>\n",
              "    </tr>\n",
              "    <tr>\n",
              "      <th>6</th>\n",
              "      <td>163</td>\n",
              "      <td>61</td>\n",
              "      <td>S</td>\n",
              "    </tr>\n",
              "    <tr>\n",
              "      <th>7</th>\n",
              "      <td>160</td>\n",
              "      <td>64</td>\n",
              "      <td>L</td>\n",
              "    </tr>\n",
              "    <tr>\n",
              "      <th>8</th>\n",
              "      <td>163</td>\n",
              "      <td>64</td>\n",
              "      <td>L</td>\n",
              "    </tr>\n",
              "    <tr>\n",
              "      <th>9</th>\n",
              "      <td>165</td>\n",
              "      <td>61</td>\n",
              "      <td>L</td>\n",
              "    </tr>\n",
              "    <tr>\n",
              "      <th>10</th>\n",
              "      <td>165</td>\n",
              "      <td>62</td>\n",
              "      <td>L</td>\n",
              "    </tr>\n",
              "    <tr>\n",
              "      <th>11</th>\n",
              "      <td>165</td>\n",
              "      <td>65</td>\n",
              "      <td>L</td>\n",
              "    </tr>\n",
              "    <tr>\n",
              "      <th>12</th>\n",
              "      <td>168</td>\n",
              "      <td>62</td>\n",
              "      <td>L</td>\n",
              "    </tr>\n",
              "    <tr>\n",
              "      <th>13</th>\n",
              "      <td>168</td>\n",
              "      <td>63</td>\n",
              "      <td>L</td>\n",
              "    </tr>\n",
              "    <tr>\n",
              "      <th>14</th>\n",
              "      <td>168</td>\n",
              "      <td>66</td>\n",
              "      <td>L</td>\n",
              "    </tr>\n",
              "    <tr>\n",
              "      <th>15</th>\n",
              "      <td>170</td>\n",
              "      <td>63</td>\n",
              "      <td>L</td>\n",
              "    </tr>\n",
              "    <tr>\n",
              "      <th>16</th>\n",
              "      <td>170</td>\n",
              "      <td>64</td>\n",
              "      <td>L</td>\n",
              "    </tr>\n",
              "    <tr>\n",
              "      <th>17</th>\n",
              "      <td>170</td>\n",
              "      <td>68</td>\n",
              "      <td>L</td>\n",
              "    </tr>\n",
              "  </tbody>\n",
              "</table>\n",
              "</div>"
            ],
            "text/plain": [
              "    Height (in cms)  Weight (in kgs) T Shirt Size\n",
              "0               158               58            S\n",
              "1               158               59            S\n",
              "2               158               63            S\n",
              "3               160               59            S\n",
              "4               160               60            S\n",
              "5               163               60            S\n",
              "6               163               61            S\n",
              "7               160               64            L\n",
              "8               163               64            L\n",
              "9               165               61            L\n",
              "10              165               62            L\n",
              "11              165               65            L\n",
              "12              168               62            L\n",
              "13              168               63            L\n",
              "14              168               66            L\n",
              "15              170               63            L\n",
              "16              170               64            L\n",
              "17              170               68            L"
            ]
          },
          "metadata": {
            "tags": []
          },
          "execution_count": 38
        }
      ]
    },
    {
      "cell_type": "code",
      "metadata": {
        "id": "i99zrUcWBp_x"
      },
      "source": [
        "# Making the Confusion Matrix\r\n",
        "from sklearn.metrics import confusion_matrix\r\n",
        "cm = confusion_matrix(y_test, y_pred)"
      ],
      "execution_count": 39,
      "outputs": []
    },
    {
      "cell_type": "code",
      "metadata": {
        "colab": {
          "base_uri": "https://localhost:8080/",
          "height": 286
        },
        "id": "urWk0JBYCBXa",
        "outputId": "ef5bfd75-547c-47fe-ee46-0e45f6d12d78"
      },
      "source": [
        "sns.heatmap(cm, annot=True, fmt=\"d\")"
      ],
      "execution_count": 40,
      "outputs": [
        {
          "output_type": "execute_result",
          "data": {
            "text/plain": [
              "<matplotlib.axes._subplots.AxesSubplot at 0x7ff395bb6748>"
            ]
          },
          "metadata": {
            "tags": []
          },
          "execution_count": 40
        },
        {
          "output_type": "display_data",
          "data": {
            "image/png": "[encoded data removed]",
            "text/plain": [
              "<Figure size 432x288 with 2 Axes>"
            ]
          },
          "metadata": {
            "tags": [],
            "needs_background": "light"
          }
        }
      ]
    },
    {
      "cell_type": "markdown",
      "metadata": {
        "id": "dIKZFcMoEvP2"
      },
      "source": [
        "###<font color='cyan'> Decison Tree Algorithm </font>"
      ]
    },
    {
      "cell_type": "markdown",
      "metadata": {
        "id": "uHRAMuNOE58v"
      },
      "source": [
        "PROBLEM STATEMENT\r\n",
        "\r\n",
        "Kyphosis is an abnormally excessive convex curvature of the spine. The kyphosis data frame has 81 rows and 4 columns. representing data on children who have had corrective spinal surgery. Dataset contains 3 inputs and 1 output INPUTS:\r\n",
        "\r\n",
        "Age: in months Number: the number of vertebrae involved Start: the number of the first (topmost) vertebra operated on. OUTPUTS:\r\n",
        "\r\n",
        "Kyphosis: a factor with levels absent present indicating if a kyphosis (a type of deformation) was present after the operation. Link to the dataset: https://www.kaggle.com/abbasit/kyphosis-dataset\r\n",
        "\r\n",
        "Source: John M. Chambers and Trevor J. Hastie eds. (1992) Statistical Models in S, Wadsworth and Brooks/Cole, Pacific Grove, CA."
      ]
    },
    {
      "cell_type": "code",
      "metadata": {
        "id": "iNiM7WRmCD4i"
      },
      "source": [
        "import pandas as pd\r\n",
        "import numpy as np\r\n",
        "import matplotlib.pyplot as plt\r\n",
        "import seaborn as sns\r\n",
        "%matplotlib inline"
      ],
      "execution_count": 47,
      "outputs": []
    },
    {
      "cell_type": "code",
      "metadata": {
        "colab": {
          "base_uri": "https://localhost:8080/",
          "height": 343
        },
        "id": "Q5qhefGhG89k",
        "outputId": "8cd9fb98-2f55-4ccf-b7b5-132f9801682d"
      },
      "source": [
        "Kyphosis_df = pd.read_csv(\"kyphosis.csv\")\r\n",
        "Kyphosis_df.head(10)"
      ],
      "execution_count": 48,
      "outputs": [
        {
          "output_type": "execute_result",
          "data": {
            "text/html": [
              "<div>\n",
              "<style scoped>\n",
              "    .dataframe tbody tr th:only-of-type {\n",
              "        vertical-align: middle;\n",
              "    }\n",
              "\n",
              "    .dataframe tbody tr th {\n",
              "        vertical-align: top;\n",
              "    }\n",
              "\n",
              "    .dataframe thead th {\n",
              "        text-align: right;\n",
              "    }\n",
              "</style>\n",
              "<table border=\"1\" class=\"dataframe\">\n",
              "  <thead>\n",
              "    <tr style=\"text-align: right;\">\n",
              "      <th></th>\n",
              "      <th>Kyphosis</th>\n",
              "      <th>Age</th>\n",
              "      <th>Number</th>\n",
              "      <th>Start</th>\n",
              "    </tr>\n",
              "  </thead>\n",
              "  <tbody>\n",
              "    <tr>\n",
              "      <th>0</th>\n",
              "      <td>absent</td>\n",
              "      <td>71</td>\n",
              "      <td>3</td>\n",
              "      <td>5</td>\n",
              "    </tr>\n",
              "    <tr>\n",
              "      <th>1</th>\n",
              "      <td>absent</td>\n",
              "      <td>158</td>\n",
              "      <td>3</td>\n",
              "      <td>14</td>\n",
              "    </tr>\n",
              "    <tr>\n",
              "      <th>2</th>\n",
              "      <td>present</td>\n",
              "      <td>128</td>\n",
              "      <td>4</td>\n",
              "      <td>5</td>\n",
              "    </tr>\n",
              "    <tr>\n",
              "      <th>3</th>\n",
              "      <td>absent</td>\n",
              "      <td>2</td>\n",
              "      <td>5</td>\n",
              "      <td>1</td>\n",
              "    </tr>\n",
              "    <tr>\n",
              "      <th>4</th>\n",
              "      <td>absent</td>\n",
              "      <td>1</td>\n",
              "      <td>4</td>\n",
              "      <td>15</td>\n",
              "    </tr>\n",
              "    <tr>\n",
              "      <th>5</th>\n",
              "      <td>absent</td>\n",
              "      <td>1</td>\n",
              "      <td>2</td>\n",
              "      <td>16</td>\n",
              "    </tr>\n",
              "    <tr>\n",
              "      <th>6</th>\n",
              "      <td>absent</td>\n",
              "      <td>61</td>\n",
              "      <td>2</td>\n",
              "      <td>17</td>\n",
              "    </tr>\n",
              "    <tr>\n",
              "      <th>7</th>\n",
              "      <td>absent</td>\n",
              "      <td>37</td>\n",
              "      <td>3</td>\n",
              "      <td>16</td>\n",
              "    </tr>\n",
              "    <tr>\n",
              "      <th>8</th>\n",
              "      <td>absent</td>\n",
              "      <td>113</td>\n",
              "      <td>2</td>\n",
              "      <td>16</td>\n",
              "    </tr>\n",
              "    <tr>\n",
              "      <th>9</th>\n",
              "      <td>present</td>\n",
              "      <td>59</td>\n",
              "      <td>6</td>\n",
              "      <td>12</td>\n",
              "    </tr>\n",
              "  </tbody>\n",
              "</table>\n",
              "</div>"
            ],
            "text/plain": [
              "  Kyphosis  Age  Number  Start\n",
              "0   absent   71       3      5\n",
              "1   absent  158       3     14\n",
              "2  present  128       4      5\n",
              "3   absent    2       5      1\n",
              "4   absent    1       4     15\n",
              "5   absent    1       2     16\n",
              "6   absent   61       2     17\n",
              "7   absent   37       3     16\n",
              "8   absent  113       2     16\n",
              "9  present   59       6     12"
            ]
          },
          "metadata": {
            "tags": []
          },
          "execution_count": 48
        }
      ]
    },
    {
      "cell_type": "code",
      "metadata": {
        "colab": {
          "base_uri": "https://localhost:8080/",
          "height": 350
        },
        "id": "dUPeHi5pG_bX",
        "outputId": "9d10e7c9-96d9-499d-b430-82a38451f012"
      },
      "source": [
        "sns.countplot(Kyphosis_df['Kyphosis'], label = \"Count\")"
      ],
      "execution_count": 49,
      "outputs": [
        {
          "output_type": "stream",
          "text": [
            "/usr/local/lib/python3.6/dist-packages/seaborn/_decorators.py:43: FutureWarning: Pass the following variable as a keyword arg: x. From version 0.12, the only valid positional argument will be `data`, and passing other arguments without an explicit keyword will result in an error or misinterpretation.\n",
            "  FutureWarning\n"
          ],
          "name": "stderr"
        },
        {
          "output_type": "execute_result",
          "data": {
            "text/plain": [
              "<matplotlib.axes._subplots.AxesSubplot at 0x7ff38dace4a8>"
            ]
          },
          "metadata": {
            "tags": []
          },
          "execution_count": 49
        },
        {
          "output_type": "display_data",
          "data": {
            "image/png": "[encoded data removed]",
            "text/plain": [
              "<Figure size 432x288 with 1 Axes>"
            ]
          },
          "metadata": {
            "tags": [],
            "needs_background": "light"
          }
        }
      ]
    },
    {
      "cell_type": "code",
      "metadata": {
        "id": "M1AxFHCzIkQS"
      },
      "source": [
        "from sklearn.preprocessing import LabelEncoder, OneHotEncoder\r\n",
        "LabelEncoder_y = LabelEncoder()\r\n",
        "Kyphosis_df['Kyphosis'] = LabelEncoder_y.fit_transform(Kyphosis_df['Kyphosis'])"
      ],
      "execution_count": 50,
      "outputs": []
    },
    {
      "cell_type": "code",
      "metadata": {
        "colab": {
          "base_uri": "https://localhost:8080/",
          "height": 402
        },
        "id": "jc553NwgIwLo",
        "outputId": "5434ace6-90fb-4d10-97d9-626c4f114d46"
      },
      "source": [
        "Kyphosis_df"
      ],
      "execution_count": 51,
      "outputs": [
        {
          "output_type": "execute_result",
          "data": {
            "text/html": [
              "<div>\n",
              "<style scoped>\n",
              "    .dataframe tbody tr th:only-of-type {\n",
              "        vertical-align: middle;\n",
              "    }\n",
              "\n",
              "    .dataframe tbody tr th {\n",
              "        vertical-align: top;\n",
              "    }\n",
              "\n",
              "    .dataframe thead th {\n",
              "        text-align: right;\n",
              "    }\n",
              "</style>\n",
              "<table border=\"1\" class=\"dataframe\">\n",
              "  <thead>\n",
              "    <tr style=\"text-align: right;\">\n",
              "      <th></th>\n",
              "      <th>Kyphosis</th>\n",
              "      <th>Age</th>\n",
              "      <th>Number</th>\n",
              "      <th>Start</th>\n",
              "    </tr>\n",
              "  </thead>\n",
              "  <tbody>\n",
              "    <tr>\n",
              "      <th>0</th>\n",
              "      <td>0</td>\n",
              "      <td>71</td>\n",
              "      <td>3</td>\n",
              "      <td>5</td>\n",
              "    </tr>\n",
              "    <tr>\n",
              "      <th>1</th>\n",
              "      <td>0</td>\n",
              "      <td>158</td>\n",
              "      <td>3</td>\n",
              "      <td>14</td>\n",
              "    </tr>\n",
              "    <tr>\n",
              "      <th>2</th>\n",
              "      <td>1</td>\n",
              "      <td>128</td>\n",
              "      <td>4</td>\n",
              "      <td>5</td>\n",
              "    </tr>\n",
              "    <tr>\n",
              "      <th>3</th>\n",
              "      <td>0</td>\n",
              "      <td>2</td>\n",
              "      <td>5</td>\n",
              "      <td>1</td>\n",
              "    </tr>\n",
              "    <tr>\n",
              "      <th>4</th>\n",
              "      <td>0</td>\n",
              "      <td>1</td>\n",
              "      <td>4</td>\n",
              "      <td>15</td>\n",
              "    </tr>\n",
              "    <tr>\n",
              "      <th>...</th>\n",
              "      <td>...</td>\n",
              "      <td>...</td>\n",
              "      <td>...</td>\n",
              "      <td>...</td>\n",
              "    </tr>\n",
              "    <tr>\n",
              "      <th>76</th>\n",
              "      <td>1</td>\n",
              "      <td>157</td>\n",
              "      <td>3</td>\n",
              "      <td>13</td>\n",
              "    </tr>\n",
              "    <tr>\n",
              "      <th>77</th>\n",
              "      <td>0</td>\n",
              "      <td>26</td>\n",
              "      <td>7</td>\n",
              "      <td>13</td>\n",
              "    </tr>\n",
              "    <tr>\n",
              "      <th>78</th>\n",
              "      <td>0</td>\n",
              "      <td>120</td>\n",
              "      <td>2</td>\n",
              "      <td>13</td>\n",
              "    </tr>\n",
              "    <tr>\n",
              "      <th>79</th>\n",
              "      <td>1</td>\n",
              "      <td>42</td>\n",
              "      <td>7</td>\n",
              "      <td>6</td>\n",
              "    </tr>\n",
              "    <tr>\n",
              "      <th>80</th>\n",
              "      <td>0</td>\n",
              "      <td>36</td>\n",
              "      <td>4</td>\n",
              "      <td>13</td>\n",
              "    </tr>\n",
              "  </tbody>\n",
              "</table>\n",
              "<p>81 rows × 4 columns</p>\n",
              "</div>"
            ],
            "text/plain": [
              "    Kyphosis  Age  Number  Start\n",
              "0          0   71       3      5\n",
              "1          0  158       3     14\n",
              "2          1  128       4      5\n",
              "3          0    2       5      1\n",
              "4          0    1       4     15\n",
              "..       ...  ...     ...    ...\n",
              "76         1  157       3     13\n",
              "77         0   26       7     13\n",
              "78         0  120       2     13\n",
              "79         1   42       7      6\n",
              "80         0   36       4     13\n",
              "\n",
              "[81 rows x 4 columns]"
            ]
          },
          "metadata": {
            "tags": []
          },
          "execution_count": 51
        }
      ]
    },
    {
      "cell_type": "code",
      "metadata": {
        "colab": {
          "base_uri": "https://localhost:8080/",
          "height": 567
        },
        "id": "0ky5ZSKlIz-i",
        "outputId": "feeb24ef-be9c-45a2-a930-1dc7735c14db"
      },
      "source": [
        "sns.pairplot(Kyphosis_df, hue='Kyphosis', vars = ['Age', 'Number', 'Start'])"
      ],
      "execution_count": 52,
      "outputs": [
        {
          "output_type": "execute_result",
          "data": {
            "text/plain": [
              "<seaborn.axisgrid.PairGrid at 0x7ff38d5bd2b0>"
            ]
          },
          "metadata": {
            "tags": []
          },
          "execution_count": 52
        },
        {
          "output_type": "display_data",
          "data": {
            "image/png": "[encoded data removed]",
            "text/plain": [
              "<Figure size 591.625x540 with 12 Axes>"
            ]
          },
          "metadata": {
            "tags": [],
            "needs_background": "light"
          }
        }
      ]
    },
    {
      "cell_type": "code",
      "metadata": {
        "id": "PvELNm52I8Zz"
      },
      "source": [
        "Kyphosis_True = Kyphosis_df[Kyphosis_df['Kyphosis']==1]\r\n",
        "Kyphosis_False = Kyphosis_df[Kyphosis_df['Kyphosis']==0]"
      ],
      "execution_count": 53,
      "outputs": []
    },
    {
      "cell_type": "code",
      "metadata": {
        "colab": {
          "base_uri": "https://localhost:8080/"
        },
        "id": "kR-sycq9Jmpu",
        "outputId": "210913ba-7479-4764-9cce-06afe7e6fee5"
      },
      "source": [
        "print('Disease present after operation % =', (len(Kyphosis_True) / len(Kyphosis_df) )*100,\"%\")"
      ],
      "execution_count": 54,
      "outputs": [
        {
          "output_type": "stream",
          "text": [
            "Disease present after operation % = 20.98765432098765 %\n"
          ],
          "name": "stdout"
        }
      ]
    },
    {
      "cell_type": "code",
      "metadata": {
        "colab": {
          "base_uri": "https://localhost:8080/",
          "height": 612
        },
        "id": "qmSNhKsBJo-0",
        "outputId": "482b1ccf-6b91-4577-958e-f7f9d41fd05b"
      },
      "source": [
        "plt.figure(figsize=(10,10)) \r\n",
        "sns.heatmap(Kyphosis_df.corr(), annot=True)"
      ],
      "execution_count": 55,
      "outputs": [
        {
          "output_type": "execute_result",
          "data": {
            "text/plain": [
              "<matplotlib.axes._subplots.AxesSubplot at 0x7ff38d5bd550>"
            ]
          },
          "metadata": {
            "tags": []
          },
          "execution_count": 55
        },
        {
          "output_type": "display_data",
          "data": {
            "image/png": "[encoded data removed]",
            "text/plain": [
              "<Figure size 720x720 with 2 Axes>"
            ]
          },
          "metadata": {
            "tags": [],
            "needs_background": "light"
          }
        }
      ]
    },
    {
      "cell_type": "code",
      "metadata": {
        "id": "I4cP0lnTKUeH"
      },
      "source": [
        "# Let's drop the target label coloumns\r\n",
        "X = Kyphosis_df.drop(['Kyphosis'],axis=1)\r\n",
        "y = Kyphosis_df['Kyphosis']"
      ],
      "execution_count": 56,
      "outputs": []
    },
    {
      "cell_type": "code",
      "metadata": {
        "colab": {
          "base_uri": "https://localhost:8080/",
          "height": 402
        },
        "id": "U_xz-WMMKcfd",
        "outputId": "cbcfc48e-c714-4e57-fb6a-e26a0fff41f2"
      },
      "source": [
        "X"
      ],
      "execution_count": 57,
      "outputs": [
        {
          "output_type": "execute_result",
          "data": {
            "text/html": [
              "<div>\n",
              "<style scoped>\n",
              "    .dataframe tbody tr th:only-of-type {\n",
              "        vertical-align: middle;\n",
              "    }\n",
              "\n",
              "    .dataframe tbody tr th {\n",
              "        vertical-align: top;\n",
              "    }\n",
              "\n",
              "    .dataframe thead th {\n",
              "        text-align: right;\n",
              "    }\n",
              "</style>\n",
              "<table border=\"1\" class=\"dataframe\">\n",
              "  <thead>\n",
              "    <tr style=\"text-align: right;\">\n",
              "      <th></th>\n",
              "      <th>Age</th>\n",
              "      <th>Number</th>\n",
              "      <th>Start</th>\n",
              "    </tr>\n",
              "  </thead>\n",
              "  <tbody>\n",
              "    <tr>\n",
              "      <th>0</th>\n",
              "      <td>71</td>\n",
              "      <td>3</td>\n",
              "      <td>5</td>\n",
              "    </tr>\n",
              "    <tr>\n",
              "      <th>1</th>\n",
              "      <td>158</td>\n",
              "      <td>3</td>\n",
              "      <td>14</td>\n",
              "    </tr>\n",
              "    <tr>\n",
              "      <th>2</th>\n",
              "      <td>128</td>\n",
              "      <td>4</td>\n",
              "      <td>5</td>\n",
              "    </tr>\n",
              "    <tr>\n",
              "      <th>3</th>\n",
              "      <td>2</td>\n",
              "      <td>5</td>\n",
              "      <td>1</td>\n",
              "    </tr>\n",
              "    <tr>\n",
              "      <th>4</th>\n",
              "      <td>1</td>\n",
              "      <td>4</td>\n",
              "      <td>15</td>\n",
              "    </tr>\n",
              "    <tr>\n",
              "      <th>...</th>\n",
              "      <td>...</td>\n",
              "      <td>...</td>\n",
              "      <td>...</td>\n",
              "    </tr>\n",
              "    <tr>\n",
              "      <th>76</th>\n",
              "      <td>157</td>\n",
              "      <td>3</td>\n",
              "      <td>13</td>\n",
              "    </tr>\n",
              "    <tr>\n",
              "      <th>77</th>\n",
              "      <td>26</td>\n",
              "      <td>7</td>\n",
              "      <td>13</td>\n",
              "    </tr>\n",
              "    <tr>\n",
              "      <th>78</th>\n",
              "      <td>120</td>\n",
              "      <td>2</td>\n",
              "      <td>13</td>\n",
              "    </tr>\n",
              "    <tr>\n",
              "      <th>79</th>\n",
              "      <td>42</td>\n",
              "      <td>7</td>\n",
              "      <td>6</td>\n",
              "    </tr>\n",
              "    <tr>\n",
              "      <th>80</th>\n",
              "      <td>36</td>\n",
              "      <td>4</td>\n",
              "      <td>13</td>\n",
              "    </tr>\n",
              "  </tbody>\n",
              "</table>\n",
              "<p>81 rows × 3 columns</p>\n",
              "</div>"
            ],
            "text/plain": [
              "    Age  Number  Start\n",
              "0    71       3      5\n",
              "1   158       3     14\n",
              "2   128       4      5\n",
              "3     2       5      1\n",
              "4     1       4     15\n",
              "..  ...     ...    ...\n",
              "76  157       3     13\n",
              "77   26       7     13\n",
              "78  120       2     13\n",
              "79   42       7      6\n",
              "80   36       4     13\n",
              "\n",
              "[81 rows x 3 columns]"
            ]
          },
          "metadata": {
            "tags": []
          },
          "execution_count": 57
        }
      ]
    },
    {
      "cell_type": "code",
      "metadata": {
        "id": "7czPEPpsKkVP"
      },
      "source": [
        "X_train, X_test, y_train, y_test = train_test_split(X, y, test_size=0.3)"
      ],
      "execution_count": 58,
      "outputs": []
    },
    {
      "cell_type": "code",
      "metadata": {
        "colab": {
          "base_uri": "https://localhost:8080/"
        },
        "id": "ko0accDkKqEy",
        "outputId": "d2d0fcc5-0a55-427a-c88e-8a2b8efc836c"
      },
      "source": [
        "X_train.shape, X_test.shape, y_train.shape, y_test.shape"
      ],
      "execution_count": 61,
      "outputs": [
        {
          "output_type": "execute_result",
          "data": {
            "text/plain": [
              "((56, 3), (25, 3), (56,), (25,))"
            ]
          },
          "metadata": {
            "tags": []
          },
          "execution_count": 61
        }
      ]
    },
    {
      "cell_type": "code",
      "metadata": {
        "colab": {
          "base_uri": "https://localhost:8080/"
        },
        "id": "ImVH2tF0K0Cc",
        "outputId": "08cb2f25-c4a0-4a57-d520-7d592db6b1cb"
      },
      "source": [
        "from sklearn.tree import DecisionTreeClassifier\r\n",
        "decision_tree = DecisionTreeClassifier()\r\n",
        "decision_tree.fit(X_train,y_train)"
      ],
      "execution_count": 60,
      "outputs": [
        {
          "output_type": "execute_result",
          "data": {
            "text/plain": [
              "DecisionTreeClassifier(ccp_alpha=0.0, class_weight=None, criterion='gini',\n",
              "                       max_depth=None, max_features=None, max_leaf_nodes=None,\n",
              "                       min_impurity_decrease=0.0, min_impurity_split=None,\n",
              "                       min_samples_leaf=1, min_samples_split=2,\n",
              "                       min_weight_fraction_leaf=0.0, presort='deprecated',\n",
              "                       random_state=None, splitter='best')"
            ]
          },
          "metadata": {
            "tags": []
          },
          "execution_count": 60
        }
      ]
    },
    {
      "cell_type": "code",
      "metadata": {
        "id": "EjhZqW0QK-T2"
      },
      "source": [
        "feature_importances = pd.DataFrame(decision_tree.feature_importances_,\r\n",
        "                                   index = X_train.columns,\r\n",
        "                                    columns=['importance']).sort_values('importance',ascending=False)"
      ],
      "execution_count": 63,
      "outputs": []
    },
    {
      "cell_type": "code",
      "metadata": {
        "colab": {
          "base_uri": "https://localhost:8080/",
          "height": 136
        },
        "id": "6tgD1biILdHX",
        "outputId": "3b8d7fe6-bb32-4fc2-9e1d-39f110c0b1ed"
      },
      "source": [
        "feature_importances"
      ],
      "execution_count": 64,
      "outputs": [
        {
          "output_type": "execute_result",
          "data": {
            "text/html": [
              "<div>\n",
              "<style scoped>\n",
              "    .dataframe tbody tr th:only-of-type {\n",
              "        vertical-align: middle;\n",
              "    }\n",
              "\n",
              "    .dataframe tbody tr th {\n",
              "        vertical-align: top;\n",
              "    }\n",
              "\n",
              "    .dataframe thead th {\n",
              "        text-align: right;\n",
              "    }\n",
              "</style>\n",
              "<table border=\"1\" class=\"dataframe\">\n",
              "  <thead>\n",
              "    <tr style=\"text-align: right;\">\n",
              "      <th></th>\n",
              "      <th>importance</th>\n",
              "    </tr>\n",
              "  </thead>\n",
              "  <tbody>\n",
              "    <tr>\n",
              "      <th>Age</th>\n",
              "      <td>0.417245</td>\n",
              "    </tr>\n",
              "    <tr>\n",
              "      <th>Number</th>\n",
              "      <td>0.383324</td>\n",
              "    </tr>\n",
              "    <tr>\n",
              "      <th>Start</th>\n",
              "      <td>0.199430</td>\n",
              "    </tr>\n",
              "  </tbody>\n",
              "</table>\n",
              "</div>"
            ],
            "text/plain": [
              "        importance\n",
              "Age       0.417245\n",
              "Number    0.383324\n",
              "Start     0.199430"
            ]
          },
          "metadata": {
            "tags": []
          },
          "execution_count": 64
        }
      ]
    },
    {
      "cell_type": "code",
      "metadata": {
        "colab": {
          "base_uri": "https://localhost:8080/"
        },
        "id": "ChUCJJ6_Llme",
        "outputId": "e01939a9-83e4-4f05-afc2-df395d174654"
      },
      "source": [
        "decision_tree.feature_importances_"
      ],
      "execution_count": 65,
      "outputs": [
        {
          "output_type": "execute_result",
          "data": {
            "text/plain": [
              "array([0.41724542, 0.38332438, 0.1994302 ])"
            ]
          },
          "metadata": {
            "tags": []
          },
          "execution_count": 65
        }
      ]
    },
    {
      "cell_type": "code",
      "metadata": {
        "colab": {
          "base_uri": "https://localhost:8080/",
          "height": 282
        },
        "id": "q-yAwb4YL_U1",
        "outputId": "dd1fa701-e373-48d4-ad43-f95c99a2afa7"
      },
      "source": [
        "from sklearn.metrics import classification_report, confusion_matrix\r\n",
        "\r\n",
        "\r\n",
        "y_predict_train = decision_tree.predict(X_train)\r\n",
        "y_predict_train\r\n",
        "cm = confusion_matrix(y_train, y_predict_train)\r\n",
        "sns.heatmap(cm, annot=True)"
      ],
      "execution_count": 66,
      "outputs": [
        {
          "output_type": "execute_result",
          "data": {
            "text/plain": [
              "<matplotlib.axes._subplots.AxesSubplot at 0x7ff389a7f5c0>"
            ]
          },
          "metadata": {
            "tags": []
          },
          "execution_count": 66
        },
        {
          "output_type": "display_data",
          "data": {
            "image/png": "[encoded data removed]",
            "text/plain": [
              "<Figure size 432x288 with 2 Axes>"
            ]
          },
          "metadata": {
            "tags": [],
            "needs_background": "light"
          }
        }
      ]
    },
    {
      "cell_type": "code",
      "metadata": {
        "colab": {
          "base_uri": "https://localhost:8080/",
          "height": 282
        },
        "id": "gz_LHpgKMF1A",
        "outputId": "6dd06c2d-422b-4907-c105-50b2e56c5e91"
      },
      "source": [
        "# Predicting the Test set results\r\n",
        "y_predict_test = decision_tree.predict(X_test)\r\n",
        "cm = confusion_matrix(y_test, y_predict_test)\r\n",
        "sns.heatmap(cm, annot=True)"
      ],
      "execution_count": 67,
      "outputs": [
        {
          "output_type": "execute_result",
          "data": {
            "text/plain": [
              "<matplotlib.axes._subplots.AxesSubplot at 0x7ff38bf17c88>"
            ]
          },
          "metadata": {
            "tags": []
          },
          "execution_count": 67
        },
        {
          "output_type": "display_data",
          "data": {
            "image/png": "[encoded data removed]",
            "text/plain": [
              "<Figure size 432x288 with 2 Axes>"
            ]
          },
          "metadata": {
            "tags": [],
            "needs_background": "light"
          }
        }
      ]
    },
    {
      "cell_type": "code",
      "metadata": {
        "colab": {
          "base_uri": "https://localhost:8080/"
        },
        "id": "x9z_lGo3MSt8",
        "outputId": "73aaf161-54ec-4d34-e2a2-4165e0fc4af4"
      },
      "source": [
        "print(classification_report(y_test, y_predict_test))"
      ],
      "execution_count": 68,
      "outputs": [
        {
          "output_type": "stream",
          "text": [
            "              precision    recall  f1-score   support\n",
            "\n",
            "           0       0.88      0.68      0.77        22\n",
            "           1       0.12      0.33      0.18         3\n",
            "\n",
            "    accuracy                           0.64        25\n",
            "   macro avg       0.50      0.51      0.48        25\n",
            "weighted avg       0.79      0.64      0.70        25\n",
            "\n"
          ],
          "name": "stdout"
        }
      ]
    },
    {
      "cell_type": "markdown",
      "metadata": {
        "id": "iiUrTOxONDiP"
      },
      "source": [
        "# Logististic Regression"
      ]
    },
    {
      "cell_type": "code",
      "metadata": {
        "id": "mCI7aWrsMf9G"
      },
      "source": [
        "import pandas as pd\r\n",
        "import numpy as np\r\n",
        "import matplotlib.pyplot as plt\r\n",
        "import seaborn as sns"
      ],
      "execution_count": 69,
      "outputs": []
    },
    {
      "cell_type": "code",
      "metadata": {
        "id": "ZfFn4a5NNQ9e"
      },
      "source": [
        "# read the data using pandas dataframe\r\n",
        "training_set = pd.read_csv('Facebook_Ads_2.csv', encoding='ISO-8859-1')"
      ],
      "execution_count": 72,
      "outputs": []
    },
    {
      "cell_type": "code",
      "metadata": {
        "colab": {
          "base_uri": "https://localhost:8080/",
          "height": 195
        },
        "id": "C0rPkIdbNTyD",
        "outputId": "2bfcf4e9-b981-4805-8aa7-fa84fd12a3b6"
      },
      "source": [
        "# Show the data head!\r\n",
        "training_set.head()"
      ],
      "execution_count": 73,
      "outputs": [
        {
          "output_type": "execute_result",
          "data": {
            "text/html": [
              "<div>\n",
              "<style scoped>\n",
              "    .dataframe tbody tr th:only-of-type {\n",
              "        vertical-align: middle;\n",
              "    }\n",
              "\n",
              "    .dataframe tbody tr th {\n",
              "        vertical-align: top;\n",
              "    }\n",
              "\n",
              "    .dataframe thead th {\n",
              "        text-align: right;\n",
              "    }\n",
              "</style>\n",
              "<table border=\"1\" class=\"dataframe\">\n",
              "  <thead>\n",
              "    <tr style=\"text-align: right;\">\n",
              "      <th></th>\n",
              "      <th>Names</th>\n",
              "      <th>emails</th>\n",
              "      <th>Country</th>\n",
              "      <th>Time Spent on Site</th>\n",
              "      <th>Salary</th>\n",
              "      <th>Clicked</th>\n",
              "    </tr>\n",
              "  </thead>\n",
              "  <tbody>\n",
              "    <tr>\n",
              "      <th>0</th>\n",
              "      <td>Martina Avila</td>\n",
              "      <td>cubilia.Curae.Phasellus@quisaccumsanconvallis.edu</td>\n",
              "      <td>Bulgaria</td>\n",
              "      <td>25.649648</td>\n",
              "      <td>55330.06006</td>\n",
              "      <td>0</td>\n",
              "    </tr>\n",
              "    <tr>\n",
              "      <th>1</th>\n",
              "      <td>Harlan Barnes</td>\n",
              "      <td>eu.dolor@diam.co.uk</td>\n",
              "      <td>Belize</td>\n",
              "      <td>32.456107</td>\n",
              "      <td>79049.07674</td>\n",
              "      <td>1</td>\n",
              "    </tr>\n",
              "    <tr>\n",
              "      <th>2</th>\n",
              "      <td>Naomi Rodriquez</td>\n",
              "      <td>vulputate.mauris.sagittis@ametconsectetueradip...</td>\n",
              "      <td>Algeria</td>\n",
              "      <td>20.945978</td>\n",
              "      <td>41098.60826</td>\n",
              "      <td>0</td>\n",
              "    </tr>\n",
              "    <tr>\n",
              "      <th>3</th>\n",
              "      <td>Jade Cunningham</td>\n",
              "      <td>malesuada@dignissim.com</td>\n",
              "      <td>Cook Islands</td>\n",
              "      <td>54.039325</td>\n",
              "      <td>37143.35536</td>\n",
              "      <td>1</td>\n",
              "    </tr>\n",
              "    <tr>\n",
              "      <th>4</th>\n",
              "      <td>Cedric Leach</td>\n",
              "      <td>felis.ullamcorper.viverra@egetmollislectus.net</td>\n",
              "      <td>Brazil</td>\n",
              "      <td>34.249729</td>\n",
              "      <td>37355.11276</td>\n",
              "      <td>0</td>\n",
              "    </tr>\n",
              "  </tbody>\n",
              "</table>\n",
              "</div>"
            ],
            "text/plain": [
              "             Names  ... Clicked\n",
              "0    Martina Avila  ...       0\n",
              "1    Harlan Barnes  ...       1\n",
              "2  Naomi Rodriquez  ...       0\n",
              "3  Jade Cunningham  ...       1\n",
              "4     Cedric Leach  ...       0\n",
              "\n",
              "[5 rows x 6 columns]"
            ]
          },
          "metadata": {
            "tags": []
          },
          "execution_count": 73
        }
      ]
    },
    {
      "cell_type": "code",
      "metadata": {
        "colab": {
          "base_uri": "https://localhost:8080/"
        },
        "id": "nGh_WlmJNrUS",
        "outputId": "8e018757-1a9e-4d2b-956f-0248e32318df"
      },
      "source": [
        "click    = training_set[training_set['Clicked']==1]\r\n",
        "no_click = training_set[training_set['Clicked']==0]\r\n",
        "\r\n",
        "print(\"Total =\", len(training_set))\r\n",
        "\r\n",
        "print(\"Number of customers who clicked on Ad =\", len(click))\r\n",
        "print(\"Percentage Clicked =\", 1.*len(click)/len(training_set)*100.0, \"%\")\r\n",
        " \r\n",
        "print(\"Did not Click =\", len(no_click))\r\n",
        "print(\"Percentage who did not Click =\", 1.*len(no_click)/len(training_set)*100.0, \"%\")"
      ],
      "execution_count": 74,
      "outputs": [
        {
          "output_type": "stream",
          "text": [
            "Total = 499\n",
            "Number of customers who clicked on Ad = 250\n",
            "Percentage Clicked = 50.1002004008016 %\n",
            "Did not Click = 249\n",
            "Percentage who did not Click = 49.899799599198396 %\n"
          ],
          "name": "stdout"
        }
      ]
    },
    {
      "cell_type": "code",
      "metadata": {
        "colab": {
          "base_uri": "https://localhost:8080/",
          "height": 350
        },
        "id": "_WgfDK2LNy4w",
        "outputId": "84006176-f57a-4fb1-9502-4317bd322596"
      },
      "source": [
        "sns.scatterplot(training_set['Time Spent on Site'], training_set['Salary'], hue = training_set['Clicked'])"
      ],
      "execution_count": 75,
      "outputs": [
        {
          "output_type": "stream",
          "text": [
            "/usr/local/lib/python3.6/dist-packages/seaborn/_decorators.py:43: FutureWarning: Pass the following variables as keyword args: x, y. From version 0.12, the only valid positional argument will be `data`, and passing other arguments without an explicit keyword will result in an error or misinterpretation.\n",
            "  FutureWarning\n"
          ],
          "name": "stderr"
        },
        {
          "output_type": "execute_result",
          "data": {
            "text/plain": [
              "<matplotlib.axes._subplots.AxesSubplot at 0x7ff3899ac6a0>"
            ]
          },
          "metadata": {
            "tags": []
          },
          "execution_count": 75
        },
        {
          "output_type": "display_data",
          "data": {
            "image/png": "[encoded data removed]",
            "text/plain": [
              "<Figure size 432x288 with 1 Axes>"
            ]
          },
          "metadata": {
            "tags": [],
            "needs_background": "light"
          }
        }
      ]
    },
    {
      "cell_type": "code",
      "metadata": {
        "colab": {
          "base_uri": "https://localhost:8080/",
          "height": 351
        },
        "id": "bZdIp1NUOY53",
        "outputId": "51c682d4-3e2a-47f3-a2be-63a00fdbceac"
      },
      "source": [
        "plt.figure(figsize=(5, 5))\r\n",
        "sns.boxplot(x='Clicked', y='Salary',data=training_set)"
      ],
      "execution_count": 76,
      "outputs": [
        {
          "output_type": "execute_result",
          "data": {
            "text/plain": [
              "<matplotlib.axes._subplots.AxesSubplot at 0x7ff38998d390>"
            ]
          },
          "metadata": {
            "tags": []
          },
          "execution_count": 76
        },
        {
          "output_type": "display_data",
          "data": {
            "image/png": "[encoded data removed]",
            "text/plain": [
              "<Figure size 360x360 with 1 Axes>"
            ]
          },
          "metadata": {
            "tags": [],
            "needs_background": "light"
          }
        }
      ]
    },
    {
      "cell_type": "code",
      "metadata": {
        "colab": {
          "base_uri": "https://localhost:8080/",
          "height": 351
        },
        "id": "a6M8AG3IOjSR",
        "outputId": "60f9865c-2b2b-4802-dba0-9521d5888ac6"
      },
      "source": [
        "plt.figure(figsize=(5, 5))\r\n",
        "sns.boxplot(x='Clicked', y='Time Spent on Site',data=training_set)"
      ],
      "execution_count": 77,
      "outputs": [
        {
          "output_type": "execute_result",
          "data": {
            "text/plain": [
              "<matplotlib.axes._subplots.AxesSubplot at 0x7ff3898b6048>"
            ]
          },
          "metadata": {
            "tags": []
          },
          "execution_count": 77
        },
        {
          "output_type": "display_data",
          "data": {
            "image/png": "[encoded data removed]",
            "text/plain": [
              "<Figure size 360x360 with 1 Axes>"
            ]
          },
          "metadata": {
            "tags": [],
            "needs_background": "light"
          }
        }
      ]
    },
    {
      "cell_type": "code",
      "metadata": {
        "colab": {
          "base_uri": "https://localhost:8080/",
          "height": 282
        },
        "id": "3DKPB8FyOnMK",
        "outputId": "416553a0-e452-4310-cb01-9480fed35141"
      },
      "source": [
        "training_set['Salary'].hist(bins = 40)"
      ],
      "execution_count": 78,
      "outputs": [
        {
          "output_type": "execute_result",
          "data": {
            "text/plain": [
              "<matplotlib.axes._subplots.AxesSubplot at 0x7ff38d3d23c8>"
            ]
          },
          "metadata": {
            "tags": []
          },
          "execution_count": 78
        },
        {
          "output_type": "display_data",
          "data": {
            "image/png": "[encoded data removed]",
            "text/plain": [
              "<Figure size 432x288 with 1 Axes>"
            ]
          },
          "metadata": {
            "tags": [],
            "needs_background": "light"
          }
        }
      ]
    },
    {
      "cell_type": "code",
      "metadata": {
        "colab": {
          "base_uri": "https://localhost:8080/",
          "height": 282
        },
        "id": "aBnCwdTeOrTE",
        "outputId": "95437854-868b-4874-e179-bea4a59260fd"
      },
      "source": [
        "training_set['Time Spent on Site'].hist(bins = 20)"
      ],
      "execution_count": 79,
      "outputs": [
        {
          "output_type": "execute_result",
          "data": {
            "text/plain": [
              "<matplotlib.axes._subplots.AxesSubplot at 0x7ff38bf70c50>"
            ]
          },
          "metadata": {
            "tags": []
          },
          "execution_count": 79
        },
        {
          "output_type": "display_data",
          "data": {
            "image/png": "[encoded data removed]",
            "text/plain": [
              "<Figure size 432x288 with 1 Axes>"
            ]
          },
          "metadata": {
            "tags": [],
            "needs_background": "light"
          }
        }
      ]
    },
    {
      "cell_type": "code",
      "metadata": {
        "id": "2dINTFhWOuzF"
      },
      "source": [
        "#Let's drop the emails, country and names (we can make use of the country later!)\r\n",
        "training_set.drop(['Names', 'emails', 'Country'],axis=1,inplace=True)"
      ],
      "execution_count": 80,
      "outputs": []
    },
    {
      "cell_type": "code",
      "metadata": {
        "colab": {
          "base_uri": "https://localhost:8080/",
          "height": 402
        },
        "id": "GdcTkSvGOycE",
        "outputId": "280e75c0-1a62-4346-8fe4-a269308a8a90"
      },
      "source": [
        "training_set"
      ],
      "execution_count": 81,
      "outputs": [
        {
          "output_type": "execute_result",
          "data": {
            "text/html": [
              "<div>\n",
              "<style scoped>\n",
              "    .dataframe tbody tr th:only-of-type {\n",
              "        vertical-align: middle;\n",
              "    }\n",
              "\n",
              "    .dataframe tbody tr th {\n",
              "        vertical-align: top;\n",
              "    }\n",
              "\n",
              "    .dataframe thead th {\n",
              "        text-align: right;\n",
              "    }\n",
              "</style>\n",
              "<table border=\"1\" class=\"dataframe\">\n",
              "  <thead>\n",
              "    <tr style=\"text-align: right;\">\n",
              "      <th></th>\n",
              "      <th>Time Spent on Site</th>\n",
              "      <th>Salary</th>\n",
              "      <th>Clicked</th>\n",
              "    </tr>\n",
              "  </thead>\n",
              "  <tbody>\n",
              "    <tr>\n",
              "      <th>0</th>\n",
              "      <td>25.649648</td>\n",
              "      <td>55330.06006</td>\n",
              "      <td>0</td>\n",
              "    </tr>\n",
              "    <tr>\n",
              "      <th>1</th>\n",
              "      <td>32.456107</td>\n",
              "      <td>79049.07674</td>\n",
              "      <td>1</td>\n",
              "    </tr>\n",
              "    <tr>\n",
              "      <th>2</th>\n",
              "      <td>20.945978</td>\n",
              "      <td>41098.60826</td>\n",
              "      <td>0</td>\n",
              "    </tr>\n",
              "    <tr>\n",
              "      <th>3</th>\n",
              "      <td>54.039325</td>\n",
              "      <td>37143.35536</td>\n",
              "      <td>1</td>\n",
              "    </tr>\n",
              "    <tr>\n",
              "      <th>4</th>\n",
              "      <td>34.249729</td>\n",
              "      <td>37355.11276</td>\n",
              "      <td>0</td>\n",
              "    </tr>\n",
              "    <tr>\n",
              "      <th>...</th>\n",
              "      <td>...</td>\n",
              "      <td>...</td>\n",
              "      <td>...</td>\n",
              "    </tr>\n",
              "    <tr>\n",
              "      <th>494</th>\n",
              "      <td>19.222746</td>\n",
              "      <td>44969.13495</td>\n",
              "      <td>0</td>\n",
              "    </tr>\n",
              "    <tr>\n",
              "      <th>495</th>\n",
              "      <td>22.665662</td>\n",
              "      <td>41686.20425</td>\n",
              "      <td>0</td>\n",
              "    </tr>\n",
              "    <tr>\n",
              "      <th>496</th>\n",
              "      <td>35.320239</td>\n",
              "      <td>23989.80864</td>\n",
              "      <td>0</td>\n",
              "    </tr>\n",
              "    <tr>\n",
              "      <th>497</th>\n",
              "      <td>26.539170</td>\n",
              "      <td>31708.57054</td>\n",
              "      <td>0</td>\n",
              "    </tr>\n",
              "    <tr>\n",
              "      <th>498</th>\n",
              "      <td>32.386148</td>\n",
              "      <td>74331.35442</td>\n",
              "      <td>1</td>\n",
              "    </tr>\n",
              "  </tbody>\n",
              "</table>\n",
              "<p>499 rows × 3 columns</p>\n",
              "</div>"
            ],
            "text/plain": [
              "     Time Spent on Site       Salary  Clicked\n",
              "0             25.649648  55330.06006        0\n",
              "1             32.456107  79049.07674        1\n",
              "2             20.945978  41098.60826        0\n",
              "3             54.039325  37143.35536        1\n",
              "4             34.249729  37355.11276        0\n",
              "..                  ...          ...      ...\n",
              "494           19.222746  44969.13495        0\n",
              "495           22.665662  41686.20425        0\n",
              "496           35.320239  23989.80864        0\n",
              "497           26.539170  31708.57054        0\n",
              "498           32.386148  74331.35442        1\n",
              "\n",
              "[499 rows x 3 columns]"
            ]
          },
          "metadata": {
            "tags": []
          },
          "execution_count": 81
        }
      ]
    },
    {
      "cell_type": "code",
      "metadata": {
        "id": "d7PnwF6QO2xX"
      },
      "source": [
        "#Let's drop the target coloumn before we do train test split\r\n",
        "X = training_set.drop('Clicked',axis=1).values\r\n",
        "y = training_set['Clicked'].values"
      ],
      "execution_count": 83,
      "outputs": []
    },
    {
      "cell_type": "code",
      "metadata": {
        "id": "mAMY35GtO7Pn"
      },
      "source": [
        "# Feature Scaling\r\n",
        "from sklearn.preprocessing import StandardScaler\r\n",
        "sc = StandardScaler()\r\n",
        "X = sc.fit_transform(X)"
      ],
      "execution_count": 84,
      "outputs": []
    },
    {
      "cell_type": "code",
      "metadata": {
        "id": "ZHthihloPHKv"
      },
      "source": [
        "from sklearn.model_selection import train_test_split"
      ],
      "execution_count": 85,
      "outputs": []
    },
    {
      "cell_type": "code",
      "metadata": {
        "id": "73D87XOOPSjt"
      },
      "source": [
        "X_train, X_test, y_train, y_test = train_test_split(X, y, test_size=0.2, random_state=0)"
      ],
      "execution_count": 86,
      "outputs": []
    },
    {
      "cell_type": "code",
      "metadata": {
        "colab": {
          "base_uri": "https://localhost:8080/"
        },
        "id": "AVNVyOwvPUyw",
        "outputId": "a539572b-13f9-4205-bc6f-90a70c374dee"
      },
      "source": [
        "X_train"
      ],
      "execution_count": 87,
      "outputs": [
        {
          "output_type": "execute_result",
          "data": {
            "text/plain": [
              "array([[ 1.42362615e+00,  2.28294560e+00],\n",
              "       [ 1.27842887e+00,  6.42418929e-01],\n",
              "       [ 9.38760851e-01,  1.21381549e+00],\n",
              "       [ 5.41314780e-01,  2.60639388e-01],\n",
              "       [ 1.09531908e+00,  4.75030899e-01],\n",
              "       [-1.31149405e+00, -8.81682059e-01],\n",
              "       [ 3.95482032e-01,  1.85281787e+00],\n",
              "       [ 1.23876495e+00,  6.50963986e-01],\n",
              "       [ 3.93751298e-01, -2.41424855e-01],\n",
              "       [-2.40764550e-01, -3.10185529e-01],\n",
              "       [ 1.24585679e+00,  1.41180492e+00],\n",
              "       [-7.96458904e-01, -1.21483411e+00],\n",
              "       [-9.34969620e-01, -1.70625532e-01],\n",
              "       [ 8.55264296e-01, -9.81324726e-01],\n",
              "       [-1.91132465e-01,  4.15148736e-01],\n",
              "       [-1.10130678e+00, -9.69857225e-01],\n",
              "       [ 1.29105293e+00,  1.18761807e+00],\n",
              "       [-5.13376111e-01,  2.30822516e-01],\n",
              "       [ 1.50793876e+00,  5.77561928e-01],\n",
              "       [-1.58972467e-01, -1.50307162e+00],\n",
              "       [-8.42943155e-01, -4.29119606e-01],\n",
              "       [ 3.71283295e-01, -1.24101139e+00],\n",
              "       [-1.50339446e+00, -3.88461766e-01],\n",
              "       [-1.38412304e+00, -7.82259943e-01],\n",
              "       [-9.70629827e-01, -1.79172680e+00],\n",
              "       [-1.64586907e-01,  5.34031939e-01],\n",
              "       [ 4.27588688e-01,  1.49632055e+00],\n",
              "       [-2.20285872e-01, -1.78035137e+00],\n",
              "       [-2.99815039e-01, -4.78395457e-01],\n",
              "       [ 6.26603767e-01,  2.88253836e-01],\n",
              "       [ 4.37877245e-01, -1.07083877e+00],\n",
              "       [ 6.25693271e-02,  1.52483521e+00],\n",
              "       [-1.71553149e-01,  9.27029232e-02],\n",
              "       [-6.03469542e-01, -6.36922663e-01],\n",
              "       [-1.08480907e+00, -7.86291560e-01],\n",
              "       [-9.95654359e-01, -1.55281483e+00],\n",
              "       [-8.30558309e-01, -8.27878447e-01],\n",
              "       [-1.96516240e+00,  2.35892897e+00],\n",
              "       [-1.08090975e+00, -6.45661787e-01],\n",
              "       [-3.97797805e-01,  7.53495593e-01],\n",
              "       [ 4.04226954e-01,  1.01983375e+00],\n",
              "       [-1.33525938e+00, -1.43669691e+00],\n",
              "       [ 5.85176219e-01, -2.95619009e-03],\n",
              "       [ 7.58754335e-01,  9.28106741e-01],\n",
              "       [ 1.13932638e+00,  6.46623388e-02],\n",
              "       [ 1.46195572e-01, -8.19280959e-01],\n",
              "       [-4.57989979e-01,  8.55755068e-01],\n",
              "       [ 1.19093972e+00, -1.11701595e-01],\n",
              "       [ 8.33735517e-01, -1.44091133e-02],\n",
              "       [ 2.09908496e+00,  1.46259598e+00],\n",
              "       [ 1.98004083e-01,  1.46799168e+00],\n",
              "       [-7.23528829e-01, -8.26128261e-01],\n",
              "       [-1.04357578e+00, -1.40648087e+00],\n",
              "       [-3.07006494e+00, -2.93483588e-01],\n",
              "       [-1.04638433e+00,  6.41012750e-01],\n",
              "       [ 1.02580543e+00, -1.09023371e+00],\n",
              "       [ 2.42362882e-01,  9.79617511e-01],\n",
              "       [-1.73917217e+00,  4.62029789e-01],\n",
              "       [ 6.38603734e-03,  1.46624390e+00],\n",
              "       [ 5.27406027e-01,  6.21976462e-01],\n",
              "       [-1.62066851e+00,  1.25136057e+00],\n",
              "       [-4.11683924e-01, -8.01898428e-01],\n",
              "       [ 1.26772505e+00,  1.32538754e+00],\n",
              "       [ 1.06931056e+00,  8.62704790e-01],\n",
              "       [-7.56628310e-01,  1.16045764e+00],\n",
              "       [ 5.17343401e-01, -9.80297728e-02],\n",
              "       [ 9.00127361e-02,  9.03336004e-01],\n",
              "       [ 2.28098620e+00,  1.65189364e-02],\n",
              "       [-5.87212695e-02,  1.12989966e+00],\n",
              "       [-5.10850236e-01,  1.55500352e+00],\n",
              "       [ 5.13026747e-01, -1.53519500e+00],\n",
              "       [ 1.75289177e+00,  1.06719582e+00],\n",
              "       [-8.61257819e-01,  4.61587932e-01],\n",
              "       [ 7.92715785e-01,  1.19646227e+00],\n",
              "       [-1.12757275e+00, -5.90970043e-01],\n",
              "       [-4.63010108e-01,  4.82897080e-01],\n",
              "       [-1.53834725e+00,  6.36975234e-01],\n",
              "       [-7.34061465e-01,  4.45445910e-01],\n",
              "       [-2.16629216e+00, -5.90937478e-01],\n",
              "       [ 9.68142138e-02, -3.89771134e-01],\n",
              "       [ 1.27887913e+00,  3.00539351e-01],\n",
              "       [-8.07290438e-01, -2.51404610e+00],\n",
              "       [-7.70799281e-01, -2.78737926e+00],\n",
              "       [ 1.09575096e+00,  2.77556768e-01],\n",
              "       [-1.54140563e-01, -9.28813900e-01],\n",
              "       [ 1.40123857e+00,  1.31693631e+00],\n",
              "       [ 2.63141389e-01,  1.02742605e-01],\n",
              "       [ 6.26106703e-01,  7.50557005e-01],\n",
              "       [ 2.68027594e-01, -1.46264059e+00],\n",
              "       [-7.83042479e-01, -1.17847545e+00],\n",
              "       [-2.14563526e-01, -1.22150728e+00],\n",
              "       [ 4.48526308e-01, -4.17928816e-01],\n",
              "       [-2.31539247e+00, -3.83492704e-01],\n",
              "       [-2.30791221e+00,  6.30805286e-02],\n",
              "       [ 3.74335737e-01,  1.24675686e+00],\n",
              "       [ 1.20517638e+00,  1.29016696e+00],\n",
              "       [ 3.93423635e-01,  2.18334976e+00],\n",
              "       [ 1.26919024e+00,  5.37010699e-01],\n",
              "       [ 1.75384005e+00, -9.55319376e-01],\n",
              "       [ 8.36006939e-01,  1.29034412e+00],\n",
              "       [-3.79541731e-01,  8.54526231e-01],\n",
              "       [ 4.61044031e-01,  1.22953955e+00],\n",
              "       [-8.55203904e-01,  1.19309732e-01],\n",
              "       [-1.34304341e+00, -2.41164554e+00],\n",
              "       [-2.14676220e-01,  1.08951849e+00],\n",
              "       [ 1.09951354e+00,  2.83820577e-01],\n",
              "       [-8.26322393e-01, -1.81101702e+00],\n",
              "       [ 5.06769182e-01,  5.24684010e-01],\n",
              "       [-3.36520977e-01, -1.80955955e-01],\n",
              "       [-3.22365808e-01,  1.27372563e+00],\n",
              "       [ 9.57532560e-01,  5.39093731e-01],\n",
              "       [-8.84084416e-01, -3.67546944e-01],\n",
              "       [-1.05140613e+00,  3.96649865e-01],\n",
              "       [-2.96569336e-01, -1.02427718e+00],\n",
              "       [-1.31666684e+00, -6.21944817e-01],\n",
              "       [ 5.85621734e-01,  2.22471293e+00],\n",
              "       [-8.97110238e-01, -7.59750031e-01],\n",
              "       [-2.46432412e+00, -7.12438478e-01],\n",
              "       [ 7.36313085e-02,  3.12949006e-01],\n",
              "       [ 8.07307574e-01,  3.89280819e-01],\n",
              "       [-1.83985612e-01,  1.22125527e+00],\n",
              "       [ 7.71325501e-02, -2.89783841e-02],\n",
              "       [ 2.22478229e+00, -5.06242025e-01],\n",
              "       [-7.11760871e-02, -4.61959666e-02],\n",
              "       [ 9.65145405e-01,  8.56079168e-02],\n",
              "       [-6.48493466e-01, -1.63506165e-01],\n",
              "       [ 2.92083143e-01,  1.59028643e+00],\n",
              "       [-1.42957514e+00, -1.19639234e+00],\n",
              "       [ 1.54851891e+00,  7.56632828e-01],\n",
              "       [ 1.01336250e+00,  3.88173967e-01],\n",
              "       [ 3.31256892e-01, -1.12033884e+00],\n",
              "       [-9.42115649e-01, -6.82921220e-01],\n",
              "       [ 6.96080135e-01, -5.47814001e-01],\n",
              "       [ 7.67911699e-01,  7.06197711e-01],\n",
              "       [ 4.67658202e-01,  5.72131754e-01],\n",
              "       [ 3.44927602e-01, -1.47132096e-01],\n",
              "       [ 1.00576017e+00,  1.60149293e+00],\n",
              "       [ 1.74544624e-01,  2.10597713e+00],\n",
              "       [ 2.02565664e+00, -3.80108047e-01],\n",
              "       [-4.25875625e-01, -7.26998696e-01],\n",
              "       [ 1.49602548e+00,  1.77425975e+00],\n",
              "       [-8.36244919e-01,  1.55798548e+00],\n",
              "       [-4.44161882e-01, -8.06752732e-01],\n",
              "       [-2.12819745e-01, -2.09385547e+00],\n",
              "       [-8.10221766e-01, -1.67739289e+00],\n",
              "       [-5.87596986e-01,  6.82896020e-01],\n",
              "       [-9.67986770e-01, -2.74018308e-01],\n",
              "       [ 4.78697583e-01, -5.38748631e-02],\n",
              "       [-1.67886526e+00, -4.43579312e-01],\n",
              "       [-1.15062936e+00, -2.70262657e-01],\n",
              "       [-1.06031983e+00, -6.39528470e-01],\n",
              "       [ 8.35352248e-01,  8.15579497e-01],\n",
              "       [ 4.22850089e-01,  2.99119417e-02],\n",
              "       [-1.52082427e+00, -7.17817507e-01],\n",
              "       [-4.46051290e-01,  1.42238958e-01],\n",
              "       [-2.57773009e-01,  6.77162007e-01],\n",
              "       [ 9.94318342e-01,  5.57837715e-01],\n",
              "       [-1.15672451e+00, -2.35367919e-01],\n",
              "       [ 3.54770860e-01,  9.10179368e-01],\n",
              "       [ 2.11424289e-01, -8.30323562e-01],\n",
              "       [-9.02941484e-01,  2.77678635e-01],\n",
              "       [ 3.33987204e-01, -1.53998204e+00],\n",
              "       [-1.90921852e+00,  1.13647954e-01],\n",
              "       [ 6.74690547e-01, -1.25031357e+00],\n",
              "       [ 1.42843937e+00,  1.07942714e+00],\n",
              "       [-2.10129200e-01, -9.14068144e-02],\n",
              "       [ 3.42595298e-02, -1.00778802e+00],\n",
              "       [ 8.95572644e-02,  6.05801956e-01],\n",
              "       [-2.40954941e-01,  7.44605776e-01],\n",
              "       [ 8.59447839e-01, -9.26391980e-01],\n",
              "       [ 3.20443973e-01,  1.28450995e-01],\n",
              "       [-4.39547045e-01, -6.74015836e-01],\n",
              "       [-8.48086524e-01,  1.31739164e+00],\n",
              "       [ 8.47383498e-01,  3.46881340e-01],\n",
              "       [ 1.60690195e+00,  2.11529721e+00],\n",
              "       [-1.69821011e+00, -6.02685912e-01],\n",
              "       [ 6.11737542e-01, -4.49410826e-01],\n",
              "       [-1.55636639e+00, -7.10749996e-01],\n",
              "       [ 1.51842223e+00,  8.97182126e-01],\n",
              "       [-5.00122693e-01, -1.42137651e+00],\n",
              "       [-2.58428573e-01,  7.94191124e-01],\n",
              "       [-3.51687074e-01,  1.28325152e+00],\n",
              "       [ 5.94008832e-01,  2.44274732e-02],\n",
              "       [-7.92284323e-02, -1.13927733e+00],\n",
              "       [ 2.22717403e-01, -6.89598308e-01],\n",
              "       [ 1.24421282e+00,  1.98007694e+00],\n",
              "       [-5.31909663e-01,  5.18115381e-02],\n",
              "       [-1.15357012e-01,  2.09050843e-01],\n",
              "       [-5.24576689e-02, -6.42743290e-02],\n",
              "       [ 1.01530031e+00, -2.34587828e-01],\n",
              "       [-4.99678376e-01,  1.96345929e+00],\n",
              "       [-1.05817867e+00, -1.75134230e-02],\n",
              "       [ 1.25368222e-01,  1.62675855e-01],\n",
              "       [ 3.21383283e-01, -9.94071196e-01],\n",
              "       [ 3.12995886e-01,  1.72720935e+00],\n",
              "       [-7.28129436e-01,  6.59010772e-01],\n",
              "       [-2.64415935e-01, -2.15238064e+00],\n",
              "       [-2.45407372e-01,  1.48826577e+00],\n",
              "       [ 7.94587947e-01,  1.13587727e+00],\n",
              "       [ 1.48961502e+00,  8.48212532e-01],\n",
              "       [ 6.26794649e-01, -2.40037655e-01],\n",
              "       [-9.11163106e-01, -1.32337060e+00],\n",
              "       [ 1.49769499e+00, -2.23166322e-01],\n",
              "       [ 1.47056762e+00, -7.20031987e-02],\n",
              "       [ 4.81997019e-01,  4.82652448e-01],\n",
              "       [-9.13201126e-01, -9.58097186e-01],\n",
              "       [-1.28672996e+00, -9.37298621e-01],\n",
              "       [ 3.22430299e-03,  2.81874547e-01],\n",
              "       [ 1.08309745e+00,  9.35907145e-01],\n",
              "       [ 2.63907387e-01, -1.52382503e+00],\n",
              "       [-1.37440455e+00, -6.73839622e-01],\n",
              "       [ 9.64390692e-01,  1.96145795e+00],\n",
              "       [-1.03622829e+00, -5.03522602e-01],\n",
              "       [ 6.52849533e-01,  1.29773683e-01],\n",
              "       [ 8.98997888e-01, -1.81000774e-01],\n",
              "       [-6.00890099e-01, -6.74237655e-01],\n",
              "       [ 6.60768319e-02,  2.05846448e-01],\n",
              "       [-2.78093845e-01,  3.49097910e-01],\n",
              "       [ 8.02525626e-01,  7.69345926e-01],\n",
              "       [ 3.88636743e-01, -2.00006952e-01],\n",
              "       [ 1.28833924e+00, -1.13937600e+00],\n",
              "       [ 5.27050651e-01,  1.44743530e-01],\n",
              "       [ 1.48257113e+00,  1.68256408e-01],\n",
              "       [-1.50615103e+00, -4.17912301e-01],\n",
              "       [ 7.19277726e-01, -1.00438525e+00],\n",
              "       [-1.82989184e+00, -7.77146018e-01],\n",
              "       [-1.31874898e+00, -2.34326440e-01],\n",
              "       [-5.59287751e-01, -6.60247498e-02],\n",
              "       [ 4.28762764e-01,  1.17038786e+00],\n",
              "       [ 1.23343285e+00,  3.29963489e-01],\n",
              "       [ 2.86389218e-01,  2.50098261e-01],\n",
              "       [ 1.12386746e+00,  5.76429012e-01],\n",
              "       [ 2.32223270e+00, -8.30443624e-01],\n",
              "       [ 6.62743265e-02, -1.15680141e-01],\n",
              "       [ 7.17787481e-01,  1.53197856e+00],\n",
              "       [-1.36646222e+00, -3.77859008e-01],\n",
              "       [-1.13175416e+00, -1.46893142e+00],\n",
              "       [-7.16051021e-01, -1.29402171e+00],\n",
              "       [ 6.60259442e-02, -1.05868940e-01],\n",
              "       [-1.46834772e-01, -1.23734947e+00],\n",
              "       [ 4.50249526e-01,  1.06273571e+00],\n",
              "       [ 8.99699844e-01,  1.55549616e+00],\n",
              "       [ 1.38267785e+00,  7.78269562e-01],\n",
              "       [-2.16905779e+00, -1.51110615e+00],\n",
              "       [-3.40516022e-01, -5.84545667e-01],\n",
              "       [ 3.30774731e-03, -5.14590296e-01],\n",
              "       [-5.55227833e-01, -1.54686351e+00],\n",
              "       [-1.14994093e+00, -2.41675560e+00],\n",
              "       [ 6.68147688e-02,  4.60377823e-01],\n",
              "       [ 1.77112538e-01, -1.19530208e+00],\n",
              "       [ 1.46184378e-01, -6.28570805e-01],\n",
              "       [-1.32137974e-01,  1.06219226e+00],\n",
              "       [-3.97184190e-01, -7.72570190e-01],\n",
              "       [ 9.97297177e-01,  9.64674708e-02],\n",
              "       [ 1.01932774e+00, -2.57057820e-01],\n",
              "       [ 9.77253201e-01,  1.40360447e+00],\n",
              "       [-4.37119518e-01, -1.21230079e+00],\n",
              "       [-2.08183761e-01, -9.25439405e-01],\n",
              "       [ 6.47280406e-01,  4.42902367e-01],\n",
              "       [-6.51575832e-02, -7.37071697e-01],\n",
              "       [-7.92902568e-01,  1.40635901e-01],\n",
              "       [ 1.14375260e+00,  3.71621874e-01],\n",
              "       [ 1.82927627e+00,  6.98873547e-01],\n",
              "       [ 8.06383164e-02,  1.57436078e-01],\n",
              "       [ 9.65271066e-01, -6.68572372e-01],\n",
              "       [ 1.09829758e+00,  1.58130470e-01],\n",
              "       [ 2.62399033e-01, -2.13904662e+00],\n",
              "       [ 5.83025801e-01, -6.16505695e-01],\n",
              "       [ 1.54767089e+00,  1.91514534e+00],\n",
              "       [ 4.63557430e-01, -6.13245268e-02],\n",
              "       [-5.84577286e-01, -1.08879858e+00],\n",
              "       [-3.86929102e-01, -1.11683559e-01],\n",
              "       [-7.99457658e-01,  1.28257713e-01],\n",
              "       [-1.35670177e+00, -1.37162998e+00],\n",
              "       [-8.30822155e-01,  1.80117605e-01],\n",
              "       [ 1.48805910e+00,  9.27229065e-01],\n",
              "       [-2.20512679e+00, -1.35732813e+00],\n",
              "       [-9.08416002e-01, -8.62416406e-01],\n",
              "       [ 1.06851142e-01,  2.78900567e-01],\n",
              "       [ 9.48297203e-01,  1.52645424e-01],\n",
              "       [-4.24672606e-01,  1.09258439e-01],\n",
              "       [-1.07088607e+00, -5.56898156e-01],\n",
              "       [-3.76790524e-01, -8.05747851e-01],\n",
              "       [ 1.71127024e+00,  7.13893183e-01],\n",
              "       [ 5.59128087e-01,  5.32813464e-01],\n",
              "       [-1.53083648e+00, -1.06206594e-01],\n",
              "       [-3.81072741e-01, -2.05002079e+00],\n",
              "       [-2.20803378e-02, -7.65877249e-01],\n",
              "       [ 1.17686548e+00, -4.72227031e-01],\n",
              "       [ 1.21969727e+00,  5.24899798e-01],\n",
              "       [ 6.73923340e-01,  1.08694925e+00],\n",
              "       [ 7.62151072e-01,  2.21682152e+00],\n",
              "       [ 1.01120803e-01, -1.78517437e+00],\n",
              "       [-1.30466988e+00,  2.73688390e-01],\n",
              "       [ 1.97438437e+00,  3.50674064e-02],\n",
              "       [ 1.23170157e+00,  1.40040161e-01],\n",
              "       [-6.31381571e-01,  1.10571322e-01],\n",
              "       [ 7.06952134e-01,  1.08605172e+00],\n",
              "       [ 4.72072688e-01,  1.54992105e-01],\n",
              "       [-1.56574223e+00,  2.09274899e+00],\n",
              "       [ 7.35118466e-01,  4.70422049e-01],\n",
              "       [ 5.47286312e-01,  3.88731290e-01],\n",
              "       [-4.39656187e-01, -1.33815008e+00],\n",
              "       [-7.01646996e-01, -1.11693508e+00],\n",
              "       [ 2.21338476e+00,  1.06200284e+00],\n",
              "       [ 6.87656629e-01,  1.31802826e+00],\n",
              "       [-5.76773233e-01, -2.67824395e-01],\n",
              "       [-3.46385937e-01,  1.03522177e+00],\n",
              "       [-4.06046726e-01,  6.73695384e-01],\n",
              "       [-1.15244247e+00, -8.95045507e-01],\n",
              "       [-3.48394024e-01,  3.48103203e-02],\n",
              "       [ 4.39769398e-01,  4.62387961e-01],\n",
              "       [-4.13832022e-01, -7.11787278e-01],\n",
              "       [-3.77350625e-01, -1.41877223e+00],\n",
              "       [-1.40217917e+00, -9.69866388e-01],\n",
              "       [-1.90235607e+00, -1.12631589e+00],\n",
              "       [ 1.29267843e+00,  2.27779326e-01],\n",
              "       [ 4.17850565e-02,  7.22629886e-01],\n",
              "       [-1.63019618e-01,  1.19257227e+00],\n",
              "       [-5.73251834e-01, -2.23373358e-01],\n",
              "       [ 1.55596010e+00,  1.46613769e+00],\n",
              "       [ 2.31823509e+00, -4.49316213e-01],\n",
              "       [ 9.65530016e-01,  1.45734843e+00],\n",
              "       [ 2.46884600e-02,  1.57072173e+00],\n",
              "       [-9.02821987e-01,  8.84221540e-01],\n",
              "       [ 8.86682807e-01, -3.85107115e-01],\n",
              "       [-2.84140602e-02,  1.16573516e+00],\n",
              "       [ 7.08248950e-01,  1.47664601e+00],\n",
              "       [ 4.67665396e-01,  5.37880931e-01],\n",
              "       [-3.80043924e-01, -1.06169574e-01],\n",
              "       [-2.76609826e+00, -9.84487785e-01],\n",
              "       [-8.89786073e-01, -5.15023719e-01],\n",
              "       [-5.77249761e-01, -2.57793682e+00],\n",
              "       [-7.59855841e-01, -8.40723148e-01],\n",
              "       [ 1.72135322e-01, -1.59685526e+00],\n",
              "       [-8.27867118e-01, -2.76806472e-01],\n",
              "       [-1.81723975e-01, -5.77507350e-01],\n",
              "       [-2.78376117e-01, -1.02314121e+00],\n",
              "       [-9.76058419e-01, -8.65690883e-01],\n",
              "       [-1.01890451e+00, -1.21711654e+00],\n",
              "       [-6.60486714e-01,  4.49203455e-01],\n",
              "       [ 1.90806627e+00,  1.18123819e+00],\n",
              "       [ 8.28917148e-01,  5.63669895e-02],\n",
              "       [-1.09525041e+00, -9.40895801e-01],\n",
              "       [-1.47452537e-01, -1.02432161e+00],\n",
              "       [ 3.44964294e-01,  6.48699139e-01],\n",
              "       [-1.43047450e+00, -1.05441840e+00],\n",
              "       [-1.07836077e-01, -1.81034324e+00],\n",
              "       [ 7.99054399e-02, -1.08608789e+00],\n",
              "       [-2.73372941e-01, -6.56301972e-01],\n",
              "       [-6.13638244e-01, -5.97782954e-01],\n",
              "       [ 1.46155764e-02,  1.12979229e+00],\n",
              "       [-3.02098814e-01, -1.79861741e+00],\n",
              "       [ 2.39410715e-01,  8.82447136e-01],\n",
              "       [ 4.57969682e-01,  2.03857045e+00],\n",
              "       [ 2.89580706e-01,  9.60049594e-01],\n",
              "       [ 1.88298414e+00,  8.73179066e-01],\n",
              "       [ 1.27332419e+00, -3.98894338e-02],\n",
              "       [-8.43429381e-01, -1.15846205e+00],\n",
              "       [ 1.08537270e-01,  1.30280711e+00],\n",
              "       [ 1.69663462e+00,  1.11208820e-01],\n",
              "       [-1.21727002e-01, -9.06545636e-01],\n",
              "       [ 1.02626226e+00,  7.20450068e-01],\n",
              "       [ 1.87441076e-01,  4.63852044e-01],\n",
              "       [ 3.19541628e-01, -7.48136618e-01],\n",
              "       [-1.52479331e+00, -2.81813172e-01],\n",
              "       [ 1.87463590e+00,  9.98778697e-01],\n",
              "       [ 4.14921072e-01,  1.68278508e+00],\n",
              "       [-9.83818173e-01, -1.43310102e+00],\n",
              "       [-1.89904618e+00, -2.18295716e-01],\n",
              "       [-7.15823921e-01,  1.31349649e-01],\n",
              "       [ 2.18200890e-01,  1.56454875e-01],\n",
              "       [-1.42764854e+00, -9.82238280e-01],\n",
              "       [-4.80512809e-01, -8.57947754e-01],\n",
              "       [ 4.79229983e-01, -1.44345059e-01],\n",
              "       [ 5.22730195e-01,  4.81677546e-01],\n",
              "       [ 9.72978767e-01, -2.81183074e-01],\n",
              "       [ 4.71567012e-02, -4.61818265e-02],\n",
              "       [ 6.23629891e-01,  8.57812291e-02],\n",
              "       [-3.80543438e-01, -8.33300911e-01],\n",
              "       [ 9.99539856e-01,  4.82253821e-01],\n",
              "       [ 2.24544291e-01,  3.78344206e-01],\n",
              "       [-6.18726122e-01, -1.63385576e-02],\n",
              "       [-1.02959805e+00, -5.17888726e-01],\n",
              "       [-5.62486322e-01, -7.50962168e-01],\n",
              "       [ 9.27987041e-01,  1.06803889e+00],\n",
              "       [ 8.13069378e-01, -1.12138977e+00],\n",
              "       [-1.01610140e-01, -5.52306370e-01],\n",
              "       [ 1.05223712e+00,  7.99010943e-01],\n",
              "       [-1.15276892e+00, -2.39817489e-03],\n",
              "       [-3.55476114e-01, -6.21930555e-01],\n",
              "       [ 8.62103501e-01,  4.25322958e-01],\n",
              "       [ 5.68788255e-02, -5.86349250e-01],\n",
              "       [-5.78443863e-01, -1.74139851e+00],\n",
              "       [ 1.18473700e-01, -7.70880173e-01],\n",
              "       [-9.22546096e-01, -4.36985573e-02],\n",
              "       [-2.35017067e-01, -1.40143134e+00],\n",
              "       [-6.06572433e-01, -2.56770275e-01],\n",
              "       [ 1.01503492e+00, -1.50611667e+00]])"
            ]
          },
          "metadata": {
            "tags": []
          },
          "execution_count": 87
        }
      ]
    },
    {
      "cell_type": "code",
      "metadata": {
        "colab": {
          "base_uri": "https://localhost:8080/"
        },
        "id": "uGvzZxQ9Pk-s",
        "outputId": "9c5005e3-2448-4fa5-fa82-190e03b6b739"
      },
      "source": [
        "y_train"
      ],
      "execution_count": 88,
      "outputs": [
        {
          "output_type": "execute_result",
          "data": {
            "text/plain": [
              "array([1, 1, 1, 0, 1, 0, 1, 1, 0, 0, 1, 0, 0, 1, 0, 0, 1, 1, 1, 0, 0, 1,\n",
              "       0, 0, 0, 1, 1, 0, 0, 1, 0, 1, 0, 0, 0, 0, 0, 0, 0, 0, 1, 0, 0, 1,\n",
              "       1, 0, 1, 1, 1, 1, 1, 0, 0, 0, 0, 1, 1, 0, 1, 1, 0, 0, 1, 1, 1, 1,\n",
              "       1, 1, 1, 1, 0, 1, 0, 1, 0, 0, 0, 0, 0, 0, 1, 0, 0, 1, 0, 1, 1, 1,\n",
              "       0, 0, 0, 0, 0, 0, 1, 1, 1, 1, 1, 1, 1, 1, 0, 0, 0, 1, 0, 1, 0, 1,\n",
              "       1, 0, 0, 0, 0, 1, 0, 0, 1, 1, 1, 1, 1, 1, 1, 0, 1, 0, 1, 1, 0, 0,\n",
              "       1, 1, 1, 1, 1, 1, 1, 1, 1, 1, 0, 0, 0, 0, 0, 1, 0, 0, 0, 1, 0, 0,\n",
              "       0, 1, 1, 0, 1, 0, 0, 0, 0, 0, 1, 0, 0, 1, 1, 1, 1, 0, 1, 1, 1, 0,\n",
              "       1, 0, 1, 0, 1, 1, 1, 0, 0, 1, 0, 1, 0, 1, 1, 1, 1, 0, 1, 1, 0, 1,\n",
              "       1, 1, 1, 0, 1, 1, 1, 0, 0, 1, 1, 0, 0, 1, 0, 1, 1, 0, 1, 1, 1, 0,\n",
              "       1, 1, 1, 0, 0, 0, 0, 0, 1, 1, 1, 1, 1, 0, 1, 0, 0, 0, 0, 0, 1, 1,\n",
              "       1, 0, 0, 0, 0, 0, 1, 0, 0, 1, 0, 1, 1, 1, 0, 0, 1, 0, 0, 1, 1, 0,\n",
              "       1, 1, 0, 1, 1, 1, 0, 0, 0, 0, 0, 1, 0, 0, 0, 1, 0, 0, 0, 1, 1, 0,\n",
              "       0, 0, 0, 1, 1, 1, 0, 0, 1, 1, 0, 1, 1, 1, 1, 1, 0, 0, 1, 1, 0, 1,\n",
              "       1, 0, 0, 1, 0, 0, 0, 0, 1, 0, 0, 0, 1, 1, 1, 1, 1, 1, 1, 1, 1, 0,\n",
              "       0, 0, 0, 0, 0, 0, 0, 0, 1, 0, 0, 1, 1, 0, 0, 1, 0, 0, 0, 0, 0, 1,\n",
              "       0, 1, 1, 1, 1, 1, 0, 1, 1, 0, 1, 1, 0, 0, 1, 1, 0, 0, 0, 0, 0, 0,\n",
              "       0, 1, 1, 1, 1, 0, 1, 1, 1, 0, 0, 1, 0, 0, 1, 0, 0, 1, 0, 0, 0, 0,\n",
              "       0, 0, 1])"
            ]
          },
          "metadata": {
            "tags": []
          },
          "execution_count": 88
        }
      ]
    },
    {
      "cell_type": "code",
      "metadata": {
        "colab": {
          "base_uri": "https://localhost:8080/"
        },
        "id": "iAX8mFqVPlu6",
        "outputId": "f908e8ef-c361-4376-949c-6260b9864bde"
      },
      "source": [
        "# Fitting Logistic Regression to the Training set\r\n",
        "from sklearn.linear_model import LogisticRegression\r\n",
        "classifier = LogisticRegression(random_state = 0)\r\n",
        "classifier.fit(X_train, y_train)"
      ],
      "execution_count": 89,
      "outputs": [
        {
          "output_type": "execute_result",
          "data": {
            "text/plain": [
              "LogisticRegression(C=1.0, class_weight=None, dual=False, fit_intercept=True,\n",
              "                   intercept_scaling=1, l1_ratio=None, max_iter=100,\n",
              "                   multi_class='auto', n_jobs=None, penalty='l2',\n",
              "                   random_state=0, solver='lbfgs', tol=0.0001, verbose=0,\n",
              "                   warm_start=False)"
            ]
          },
          "metadata": {
            "tags": []
          },
          "execution_count": 89
        }
      ]
    },
    {
      "cell_type": "code",
      "metadata": {
        "colab": {
          "base_uri": "https://localhost:8080/"
        },
        "id": "EhKsTzGYPsLk",
        "outputId": "a5149bfa-8613-40df-d9e9-380b2b26bdb5"
      },
      "source": [
        "y_predict_train = classifier.predict(X_train)\r\n",
        "y_predict_train"
      ],
      "execution_count": 90,
      "outputs": [
        {
          "output_type": "execute_result",
          "data": {
            "text/plain": [
              "array([1, 1, 1, 1, 1, 0, 1, 1, 1, 0, 1, 0, 0, 0, 1, 0, 1, 0, 1, 0, 0, 0,\n",
              "       0, 0, 0, 1, 1, 0, 0, 1, 0, 1, 0, 0, 0, 0, 0, 1, 0, 1, 1, 0, 1, 1,\n",
              "       1, 0, 1, 1, 1, 1, 1, 0, 0, 0, 0, 1, 1, 0, 1, 1, 0, 0, 1, 1, 1, 1,\n",
              "       1, 1, 1, 1, 0, 1, 0, 1, 0, 0, 0, 0, 0, 0, 1, 0, 0, 1, 0, 1, 1, 1,\n",
              "       0, 0, 0, 1, 0, 0, 1, 1, 1, 1, 1, 1, 1, 1, 0, 0, 1, 1, 0, 1, 0, 1,\n",
              "       1, 0, 0, 0, 0, 1, 0, 0, 1, 1, 1, 1, 1, 0, 1, 0, 1, 0, 1, 1, 0, 0,\n",
              "       1, 1, 1, 1, 1, 1, 1, 0, 1, 1, 0, 0, 0, 0, 0, 1, 0, 0, 0, 1, 1, 0,\n",
              "       0, 1, 1, 0, 1, 0, 0, 0, 0, 0, 1, 0, 0, 1, 1, 1, 1, 0, 1, 1, 1, 0,\n",
              "       1, 0, 1, 0, 1, 1, 1, 0, 0, 1, 0, 1, 0, 1, 1, 0, 1, 0, 1, 0, 0, 1,\n",
              "       1, 1, 1, 0, 1, 1, 1, 0, 0, 1, 1, 0, 0, 1, 0, 1, 1, 0, 1, 0, 1, 1,\n",
              "       1, 1, 1, 0, 0, 0, 0, 0, 1, 1, 1, 1, 1, 0, 1, 0, 0, 0, 0, 0, 1, 1,\n",
              "       1, 0, 0, 0, 0, 0, 1, 0, 0, 1, 0, 1, 1, 1, 0, 0, 1, 0, 0, 1, 1, 1,\n",
              "       1, 1, 0, 1, 1, 1, 0, 0, 0, 0, 0, 1, 0, 0, 1, 1, 0, 0, 0, 1, 1, 0,\n",
              "       0, 0, 1, 1, 1, 1, 0, 0, 1, 1, 0, 1, 1, 1, 1, 1, 0, 0, 1, 1, 0, 1,\n",
              "       1, 0, 0, 1, 0, 0, 0, 0, 1, 1, 1, 0, 1, 1, 1, 1, 0, 1, 1, 1, 1, 0,\n",
              "       0, 0, 0, 0, 0, 0, 0, 0, 0, 0, 0, 1, 1, 0, 0, 1, 0, 0, 0, 0, 0, 1,\n",
              "       0, 1, 1, 1, 1, 1, 0, 1, 1, 0, 1, 1, 0, 0, 1, 1, 0, 0, 0, 1, 0, 0,\n",
              "       1, 1, 1, 0, 1, 0, 1, 1, 0, 0, 0, 1, 0, 0, 1, 0, 0, 1, 0, 0, 0, 0,\n",
              "       0, 0, 0])"
            ]
          },
          "metadata": {
            "tags": []
          },
          "execution_count": 90
        }
      ]
    },
    {
      "cell_type": "code",
      "metadata": {
        "colab": {
          "base_uri": "https://localhost:8080/",
          "height": 282
        },
        "id": "NRmsHLcaQGUm",
        "outputId": "86aa4513-ac92-47ca-e9ec-ec44fa0519c7"
      },
      "source": [
        "from sklearn.metrics import classification_report, confusion_matrix\r\n",
        "cm = confusion_matrix(y_train, y_predict_train)\r\n",
        "sns.heatmap(cm, annot=True, fmt=\"d\")"
      ],
      "execution_count": 91,
      "outputs": [
        {
          "output_type": "execute_result",
          "data": {
            "text/plain": [
              "<matplotlib.axes._subplots.AxesSubplot at 0x7ff389671a58>"
            ]
          },
          "metadata": {
            "tags": []
          },
          "execution_count": 91
        },
        {
          "output_type": "display_data",
          "data": {
            "image/png": "[encoded data removed]",
            "text/plain": [
              "<Figure size 432x288 with 2 Axes>"
            ]
          },
          "metadata": {
            "tags": [],
            "needs_background": "light"
          }
        }
      ]
    },
    {
      "cell_type": "code",
      "metadata": {
        "colab": {
          "base_uri": "https://localhost:8080/"
        },
        "id": "fCnuTG3eQJQU",
        "outputId": "eb01473c-e637-4804-c09d-71e2f746b3c9"
      },
      "source": [
        "y_predict_test = classifier.predict(X_test)\r\n",
        "y_predict_test"
      ],
      "execution_count": 92,
      "outputs": [
        {
          "output_type": "execute_result",
          "data": {
            "text/plain": [
              "array([1, 0, 0, 0, 1, 0, 0, 0, 0, 0, 0, 1, 1, 1, 1, 0, 0, 0, 1, 1, 1, 0,\n",
              "       1, 1, 0, 1, 0, 0, 0, 0, 1, 1, 0, 0, 0, 1, 0, 1, 1, 0, 1, 0, 0, 0,\n",
              "       0, 1, 0, 1, 0, 0, 1, 1, 1, 1, 1, 0, 0, 1, 1, 1, 0, 0, 1, 1, 0, 1,\n",
              "       1, 0, 1, 1, 0, 1, 0, 0, 0, 0, 0, 0, 1, 1, 0, 0, 0, 0, 0, 1, 1, 1,\n",
              "       1, 1, 1, 0, 1, 1, 0, 1, 0, 0, 1, 1])"
            ]
          },
          "metadata": {
            "tags": []
          },
          "execution_count": 92
        }
      ]
    },
    {
      "cell_type": "code",
      "metadata": {
        "colab": {
          "base_uri": "https://localhost:8080/",
          "height": 282
        },
        "id": "JWPI4bypQzMB",
        "outputId": "60f1578a-af66-4a23-811f-bdd7a19859f9"
      },
      "source": [
        "cm = confusion_matrix(y_test, y_predict_test)\r\n",
        "sns.heatmap(cm, annot=True, fmt=\"d\")"
      ],
      "execution_count": 93,
      "outputs": [
        {
          "output_type": "execute_result",
          "data": {
            "text/plain": [
              "<matplotlib.axes._subplots.AxesSubplot at 0x7ff3895545c0>"
            ]
          },
          "metadata": {
            "tags": []
          },
          "execution_count": 93
        },
        {
          "output_type": "display_data",
          "data": {
            "image/png": "[encoded data removed]",
            "text/plain": [
              "<Figure size 432x288 with 2 Axes>"
            ]
          },
          "metadata": {
            "tags": [],
            "needs_background": "light"
          }
        }
      ]
    },
    {
      "cell_type": "code",
      "metadata": {
        "colab": {
          "base_uri": "https://localhost:8080/"
        },
        "id": "FIrFz4IOQ2jp",
        "outputId": "ab225659-12a0-434e-ca24-c0cbba43922a"
      },
      "source": [
        "from sklearn.metrics import classification_report\r\n",
        "print(classification_report(y_test, y_predict_test))"
      ],
      "execution_count": 94,
      "outputs": [
        {
          "output_type": "stream",
          "text": [
            "              precision    recall  f1-score   support\n",
            "\n",
            "           0       0.83      0.90      0.86        48\n",
            "           1       0.90      0.83      0.86        52\n",
            "\n",
            "    accuracy                           0.86       100\n",
            "   macro avg       0.86      0.86      0.86       100\n",
            "weighted avg       0.86      0.86      0.86       100\n",
            "\n"
          ],
          "name": "stdout"
        }
      ]
    },
    {
      "cell_type": "code",
      "metadata": {
        "colab": {
          "base_uri": "https://localhost:8080/"
        },
        "id": "QABTy3b5Q9yT",
        "outputId": "54760306-2fb3-4fca-dcdc-4fef098dea2d"
      },
      "source": [
        "from sklearn.ensemble import RandomForestClassifier\r\n",
        "RandomForest = RandomForestClassifier(n_estimators=150)\r\n",
        "RandomForest.fit(X_train, y_train)"
      ],
      "execution_count": 95,
      "outputs": [
        {
          "output_type": "execute_result",
          "data": {
            "text/plain": [
              "RandomForestClassifier(bootstrap=True, ccp_alpha=0.0, class_weight=None,\n",
              "                       criterion='gini', max_depth=None, max_features='auto',\n",
              "                       max_leaf_nodes=None, max_samples=None,\n",
              "                       min_impurity_decrease=0.0, min_impurity_split=None,\n",
              "                       min_samples_leaf=1, min_samples_split=2,\n",
              "                       min_weight_fraction_leaf=0.0, n_estimators=150,\n",
              "                       n_jobs=None, oob_score=False, random_state=None,\n",
              "                       verbose=0, warm_start=False)"
            ]
          },
          "metadata": {
            "tags": []
          },
          "execution_count": 95
        }
      ]
    },
    {
      "cell_type": "code",
      "metadata": {
        "colab": {
          "base_uri": "https://localhost:8080/",
          "height": 285
        },
        "id": "2LsLfmafRFhg",
        "outputId": "4adf7354-fe0d-4d6b-d118-201ff426dfd2"
      },
      "source": [
        "y_predict_train = RandomForest.predict(X_train)\r\n",
        "y_predict_train\r\n",
        "cm = confusion_matrix(y_train, y_predict_train)\r\n",
        "sns.heatmap(cm, annot=True)"
      ],
      "execution_count": 96,
      "outputs": [
        {
          "output_type": "execute_result",
          "data": {
            "text/plain": [
              "<matplotlib.axes._subplots.AxesSubplot at 0x7ff3891d44a8>"
            ]
          },
          "metadata": {
            "tags": []
          },
          "execution_count": 96
        },
        {
          "output_type": "display_data",
          "data": {
            "image/png": "[encoded data removed]",
            "text/plain": [
              "<Figure size 432x288 with 2 Axes>"
            ]
          },
          "metadata": {
            "tags": [],
            "needs_background": "light"
          }
        }
      ]
    },
    {
      "cell_type": "code",
      "metadata": {
        "colab": {
          "base_uri": "https://localhost:8080/",
          "height": 282
        },
        "id": "Bxb7gACPRJ3e",
        "outputId": "08f66959-c3eb-47ab-9d3d-d7332e71322e"
      },
      "source": [
        "# Predicting the Test set results\r\n",
        "y_predict_test = RandomForest.predict(X_test)\r\n",
        "cm = confusion_matrix(y_test, y_predict_test)\r\n",
        "sns.heatmap(cm, annot=True)"
      ],
      "execution_count": 97,
      "outputs": [
        {
          "output_type": "execute_result",
          "data": {
            "text/plain": [
              "<matplotlib.axes._subplots.AxesSubplot at 0x7ff38917a5f8>"
            ]
          },
          "metadata": {
            "tags": []
          },
          "execution_count": 97
        },
        {
          "output_type": "display_data",
          "data": {
            "image/png": "[encoded data removed]",
            "text/plain": [
              "<Figure size 432x288 with 2 Axes>"
            ]
          },
          "metadata": {
            "tags": [],
            "needs_background": "light"
          }
        }
      ]
    },
    {
      "cell_type": "code",
      "metadata": {
        "colab": {
          "base_uri": "https://localhost:8080/"
        },
        "id": "6Ipa2bg4RNzB",
        "outputId": "01bc49d5-94c0-4f46-c783-e5bf95933669"
      },
      "source": [
        "print(classification_report(y_test, y_predict_test))"
      ],
      "execution_count": 98,
      "outputs": [
        {
          "output_type": "stream",
          "text": [
            "              precision    recall  f1-score   support\n",
            "\n",
            "           0       0.81      0.88      0.84        48\n",
            "           1       0.88      0.81      0.84        52\n",
            "\n",
            "    accuracy                           0.84       100\n",
            "   macro avg       0.84      0.84      0.84       100\n",
            "weighted avg       0.84      0.84      0.84       100\n",
            "\n"
          ],
          "name": "stdout"
        }
      ]
    },
    {
      "cell_type": "code",
      "metadata": {
        "id": "xQ1UQjvbRRkY"
      },
      "source": [
        ""
      ],
      "execution_count": null,
      "outputs": []
    }
  ]
}