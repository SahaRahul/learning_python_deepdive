{
  "nbformat": 4,
  "nbformat_minor": 0,
  "metadata": {
    "colab": {
      "name": "Python Day#9.ipynb",
      "provenance": [],
      "collapsed_sections": []
    },
    "kernelspec": {
      "name": "python3",
      "display_name": "Python 3"
    }
  },
  "cells": [
    {
      "cell_type": "markdown",
      "metadata": {
        "id": "K8BSgVrvWejG"
      },
      "source": [
        "## Pandas\r\n",
        "\r\n",
        "*   Series\r\n",
        "*   DataFrame"
      ]
    },
    {
      "cell_type": "code",
      "metadata": {
        "id": "6kzLDINyWKrk"
      },
      "source": [
        "import pandas as pd\r\n",
        "import numpy as np\r\n"
      ],
      "execution_count": 1,
      "outputs": []
    },
    {
      "cell_type": "code",
      "metadata": {
        "colab": {
          "base_uri": "https://localhost:8080/"
        },
        "id": "Q0xtEcmrXMrR",
        "outputId": "ef6683ae-eeb4-4fac-94ac-6a8af66a8667"
      },
      "source": [
        "s = pd.Series(dtype=object)\r\n",
        "print(s)"
      ],
      "execution_count": 2,
      "outputs": [
        {
          "output_type": "stream",
          "text": [
            "Series([], dtype: object)\n"
          ],
          "name": "stdout"
        }
      ]
    },
    {
      "cell_type": "code",
      "metadata": {
        "colab": {
          "base_uri": "https://localhost:8080/"
        },
        "id": "ifpY95SwXWdW",
        "outputId": "131938a8-591d-48b0-f889-4b2172db297f"
      },
      "source": [
        "d = ['P', 'Y', 'T', 'H', 'O', 'N']\r\n",
        "ser = pd.Series(d)\r\n",
        "print(ser)"
      ],
      "execution_count": 3,
      "outputs": [
        {
          "output_type": "stream",
          "text": [
            "0    P\n",
            "1    Y\n",
            "2    T\n",
            "3    H\n",
            "4    O\n",
            "5    N\n",
            "dtype: object\n"
          ],
          "name": "stdout"
        }
      ]
    },
    {
      "cell_type": "code",
      "metadata": {
        "colab": {
          "base_uri": "https://localhost:8080/"
        },
        "id": "wKBsNpC1Xvo_",
        "outputId": "f53e99f3-b571-4276-b968-f5aa5d5c497c"
      },
      "source": [
        "print(d)"
      ],
      "execution_count": 4,
      "outputs": [
        {
          "output_type": "stream",
          "text": [
            "['P', 'Y', 'T', 'H', 'O', 'N']\n"
          ],
          "name": "stdout"
        }
      ]
    },
    {
      "cell_type": "code",
      "metadata": {
        "colab": {
          "base_uri": "https://localhost:8080/",
          "height": 35
        },
        "id": "ecZykBvDX1i9",
        "outputId": "17cd4759-4c80-4881-a6f7-621277efd02f"
      },
      "source": [
        "d[0]"
      ],
      "execution_count": 6,
      "outputs": [
        {
          "output_type": "execute_result",
          "data": {
            "application/vnd.google.colaboratory.intrinsic+json": {
              "type": "string"
            },
            "text/plain": [
              "'P'"
            ]
          },
          "metadata": {
            "tags": []
          },
          "execution_count": 6
        }
      ]
    },
    {
      "cell_type": "code",
      "metadata": {
        "colab": {
          "base_uri": "https://localhost:8080/",
          "height": 35
        },
        "id": "5soB20vlX_Cm",
        "outputId": "a74fea9a-57f0-4a5a-9bb2-de2c4c33b0fe"
      },
      "source": [
        "ser.iloc[1]"
      ],
      "execution_count": 7,
      "outputs": [
        {
          "output_type": "execute_result",
          "data": {
            "application/vnd.google.colaboratory.intrinsic+json": {
              "type": "string"
            },
            "text/plain": [
              "'Y'"
            ]
          },
          "metadata": {
            "tags": []
          },
          "execution_count": 7
        }
      ]
    },
    {
      "cell_type": "code",
      "metadata": {
        "colab": {
          "base_uri": "https://localhost:8080/",
          "height": 35
        },
        "id": "ES3Z3bj6YGiX",
        "outputId": "7d776c02-e090-41bc-b03b-e46d4636b42b"
      },
      "source": [
        "ser.loc[1]"
      ],
      "execution_count": 9,
      "outputs": [
        {
          "output_type": "execute_result",
          "data": {
            "application/vnd.google.colaboratory.intrinsic+json": {
              "type": "string"
            },
            "text/plain": [
              "'Y'"
            ]
          },
          "metadata": {
            "tags": []
          },
          "execution_count": 9
        }
      ]
    },
    {
      "cell_type": "code",
      "metadata": {
        "colab": {
          "base_uri": "https://localhost:8080/"
        },
        "id": "WaZYGoMYYM2G",
        "outputId": "c0cb5dd4-9877-4fb8-8573-d13a444c5c58"
      },
      "source": [
        "dic = {'001':'Genpact', '002':'TCS', '003':'CTS'}\r\n",
        "ser_dic = pd.Series(dic)\r\n",
        "print(ser_dic)"
      ],
      "execution_count": 10,
      "outputs": [
        {
          "output_type": "stream",
          "text": [
            "001    Genpact\n",
            "002        TCS\n",
            "003        CTS\n",
            "dtype: object\n"
          ],
          "name": "stdout"
        }
      ]
    },
    {
      "cell_type": "code",
      "metadata": {
        "colab": {
          "base_uri": "https://localhost:8080/",
          "height": 35
        },
        "id": "RmoUAf0xY6o5",
        "outputId": "2df80d60-e6e9-4711-dcf2-dcaeea5a0a37"
      },
      "source": [
        "ser_dic.loc['002']"
      ],
      "execution_count": 11,
      "outputs": [
        {
          "output_type": "execute_result",
          "data": {
            "application/vnd.google.colaboratory.intrinsic+json": {
              "type": "string"
            },
            "text/plain": [
              "'TCS'"
            ]
          },
          "metadata": {
            "tags": []
          },
          "execution_count": 11
        }
      ]
    },
    {
      "cell_type": "code",
      "metadata": {
        "colab": {
          "base_uri": "https://localhost:8080/",
          "height": 35
        },
        "id": "eSFJde3jZFbJ",
        "outputId": "de08e328-dc48-4531-8e96-c2d39758fe5e"
      },
      "source": [
        "ser_dic.iloc[1]"
      ],
      "execution_count": 12,
      "outputs": [
        {
          "output_type": "execute_result",
          "data": {
            "application/vnd.google.colaboratory.intrinsic+json": {
              "type": "string"
            },
            "text/plain": [
              "'TCS'"
            ]
          },
          "metadata": {
            "tags": []
          },
          "execution_count": 12
        }
      ]
    },
    {
      "cell_type": "code",
      "metadata": {
        "colab": {
          "base_uri": "https://localhost:8080/"
        },
        "id": "xYQXIu38ZQQL",
        "outputId": "bf825561-3218-4d5b-eb6c-db784040803e"
      },
      "source": [
        "type(ser_dic)"
      ],
      "execution_count": 13,
      "outputs": [
        {
          "output_type": "execute_result",
          "data": {
            "text/plain": [
              "pandas.core.series.Series"
            ]
          },
          "metadata": {
            "tags": []
          },
          "execution_count": 13
        }
      ]
    },
    {
      "cell_type": "code",
      "metadata": {
        "colab": {
          "base_uri": "https://localhost:8080/"
        },
        "id": "1vr1AhZBZaBS",
        "outputId": "df28dff4-add5-4b89-889c-f0568f593595"
      },
      "source": [
        "ser_dic.reset_index(drop=True)"
      ],
      "execution_count": 14,
      "outputs": [
        {
          "output_type": "execute_result",
          "data": {
            "text/plain": [
              "0    Genpact\n",
              "1        TCS\n",
              "2        CTS\n",
              "dtype: object"
            ]
          },
          "metadata": {
            "tags": []
          },
          "execution_count": 14
        }
      ]
    },
    {
      "cell_type": "code",
      "metadata": {
        "colab": {
          "base_uri": "https://localhost:8080/"
        },
        "id": "Ufvgmv4BZhyV",
        "outputId": "f3f37d8a-c779-43ab-a8d4-c43410c91914"
      },
      "source": [
        "lst = ['Python', 3.9, 2, 22*4, 4>6]\r\n",
        "print(lst)"
      ],
      "execution_count": 15,
      "outputs": [
        {
          "output_type": "stream",
          "text": [
            "['Python', 3.9, 2, 88, False]\n"
          ],
          "name": "stdout"
        }
      ]
    },
    {
      "cell_type": "code",
      "metadata": {
        "colab": {
          "base_uri": "https://localhost:8080/"
        },
        "id": "-BxghQFTZ9Id",
        "outputId": "af8f4860-f6cc-4d1f-acf3-efc86de82234"
      },
      "source": [
        "ls = pd.Series(lst)\r\n",
        "print(ls)"
      ],
      "execution_count": 16,
      "outputs": [
        {
          "output_type": "stream",
          "text": [
            "0    Python\n",
            "1       3.9\n",
            "2         2\n",
            "3        88\n",
            "4     False\n",
            "dtype: object\n"
          ],
          "name": "stdout"
        }
      ]
    },
    {
      "cell_type": "code",
      "metadata": {
        "colab": {
          "base_uri": "https://localhost:8080/"
        },
        "id": "0sWBsGu8aD0s",
        "outputId": "d151b23e-3d0c-4374-a550-90c09b3465db"
      },
      "source": [
        "lst1 = [34, 32, 33, 33, 1, 13]\r\n",
        "lst1_series = pd.Series(lst1)\r\n",
        "\r\n",
        "print(lst1_series)"
      ],
      "execution_count": 21,
      "outputs": [
        {
          "output_type": "stream",
          "text": [
            "0    34\n",
            "1    32\n",
            "2    33\n",
            "3    33\n",
            "4     1\n",
            "5    13\n",
            "dtype: int64\n"
          ],
          "name": "stdout"
        }
      ]
    },
    {
      "cell_type": "code",
      "metadata": {
        "colab": {
          "base_uri": "https://localhost:8080/"
        },
        "id": "mjPl8hNsaYtw",
        "outputId": "2e0ec1fe-7c52-4081-86ab-7a0d8b95e67b"
      },
      "source": [
        "np.array(lst1, dtype=np.float64)"
      ],
      "execution_count": 22,
      "outputs": [
        {
          "output_type": "execute_result",
          "data": {
            "text/plain": [
              "array([34., 32., 33., 33.,  1., 13.])"
            ]
          },
          "metadata": {
            "tags": []
          },
          "execution_count": 22
        }
      ]
    },
    {
      "cell_type": "code",
      "metadata": {
        "colab": {
          "base_uri": "https://localhost:8080/"
        },
        "id": "_KAO6M66amnj",
        "outputId": "30376eea-a723-4a23-82c2-6c6b487f0e59"
      },
      "source": [
        "n = pd.Series(np.random.randn(5))\r\n",
        "print(n)"
      ],
      "execution_count": 23,
      "outputs": [
        {
          "output_type": "stream",
          "text": [
            "0   -0.439678\n",
            "1    0.477043\n",
            "2   -0.013960\n",
            "3    1.426681\n",
            "4   -0.122202\n",
            "dtype: float64\n"
          ],
          "name": "stdout"
        }
      ]
    },
    {
      "cell_type": "code",
      "metadata": {
        "colab": {
          "base_uri": "https://localhost:8080/"
        },
        "id": "kXUi8A9sa_Ve",
        "outputId": "6c42ac85-1845-4714-8359-fe87cada1479"
      },
      "source": [
        "pd.Series(range(1,10))"
      ],
      "execution_count": 24,
      "outputs": [
        {
          "output_type": "execute_result",
          "data": {
            "text/plain": [
              "0    1\n",
              "1    2\n",
              "2    3\n",
              "3    4\n",
              "4    5\n",
              "5    6\n",
              "6    7\n",
              "7    8\n",
              "8    9\n",
              "dtype: int64"
            ]
          },
          "metadata": {
            "tags": []
          },
          "execution_count": 24
        }
      ]
    },
    {
      "cell_type": "code",
      "metadata": {
        "id": "-CPm5PoVbL36"
      },
      "source": [
        "data = ['r','a','h','u','l','s','a','h','a']\r\n",
        "data_ser = pd.Series(data)"
      ],
      "execution_count": 32,
      "outputs": []
    },
    {
      "cell_type": "code",
      "metadata": {
        "colab": {
          "base_uri": "https://localhost:8080/"
        },
        "id": "llArFaORb19t",
        "outputId": "2e7de049-d0dd-4486-e67c-eaaeff24a155"
      },
      "source": [
        "data_ser[:5], data_ser[3]"
      ],
      "execution_count": 33,
      "outputs": [
        {
          "output_type": "execute_result",
          "data": {
            "text/plain": [
              "(0    r\n",
              " 1    a\n",
              " 2    h\n",
              " 3    u\n",
              " 4    l\n",
              " dtype: object, 'u')"
            ]
          },
          "metadata": {
            "tags": []
          },
          "execution_count": 33
        }
      ]
    },
    {
      "cell_type": "code",
      "metadata": {
        "id": "a3i-9d0hcTT_"
      },
      "source": [
        "data = ['r','a','h','u','l','s','a','h','a']\r\n",
        "data_ser = pd.Series(data, index=range(11,20))"
      ],
      "execution_count": 29,
      "outputs": []
    },
    {
      "cell_type": "code",
      "metadata": {
        "colab": {
          "base_uri": "https://localhost:8080/"
        },
        "id": "VJDGS0HNfZt_",
        "outputId": "f125206b-2357-4e82-c15a-be640d8b803e"
      },
      "source": [
        "data_ser"
      ],
      "execution_count": 30,
      "outputs": [
        {
          "output_type": "execute_result",
          "data": {
            "text/plain": [
              "11    r\n",
              "12    a\n",
              "13    h\n",
              "14    u\n",
              "15    l\n",
              "16    s\n",
              "17    a\n",
              "18    h\n",
              "19    a\n",
              "dtype: object"
            ]
          },
          "metadata": {
            "tags": []
          },
          "execution_count": 30
        }
      ]
    },
    {
      "cell_type": "code",
      "metadata": {
        "colab": {
          "base_uri": "https://localhost:8080/"
        },
        "id": "BL6bbGGAgLl4",
        "outputId": "42de8a02-2f23-454f-8184-1b6434395f44"
      },
      "source": [
        "list_num = list(range(10,30))\r\n",
        "list_num"
      ],
      "execution_count": 40,
      "outputs": [
        {
          "output_type": "execute_result",
          "data": {
            "text/plain": [
              "[10,\n",
              " 11,\n",
              " 12,\n",
              " 13,\n",
              " 14,\n",
              " 15,\n",
              " 16,\n",
              " 17,\n",
              " 18,\n",
              " 19,\n",
              " 20,\n",
              " 21,\n",
              " 22,\n",
              " 23,\n",
              " 24,\n",
              " 25,\n",
              " 26,\n",
              " 27,\n",
              " 28,\n",
              " 29]"
            ]
          },
          "metadata": {
            "tags": []
          },
          "execution_count": 40
        }
      ]
    },
    {
      "cell_type": "code",
      "metadata": {
        "id": "LbtihnPbfirt"
      },
      "source": [
        "list_num_ser = pd.Series(list_num)"
      ],
      "execution_count": 41,
      "outputs": []
    },
    {
      "cell_type": "code",
      "metadata": {
        "colab": {
          "base_uri": "https://localhost:8080/"
        },
        "id": "-42XyaCnhy7y",
        "outputId": "7e3107e8-e363-4d71-dbb7-d7a13aa7a461"
      },
      "source": [
        "%time\r\n",
        "list_num_ser.iloc[range(0,len(list_num_ser),2)]"
      ],
      "execution_count": 51,
      "outputs": [
        {
          "output_type": "stream",
          "text": [
            "CPU times: user 3 µs, sys: 0 ns, total: 3 µs\n",
            "Wall time: 6.68 µs\n"
          ],
          "name": "stdout"
        },
        {
          "output_type": "execute_result",
          "data": {
            "text/plain": [
              "0     10\n",
              "2     12\n",
              "4     14\n",
              "6     16\n",
              "8     18\n",
              "10    20\n",
              "12    22\n",
              "14    24\n",
              "16    26\n",
              "18    28\n",
              "dtype: int64"
            ]
          },
          "metadata": {
            "tags": []
          },
          "execution_count": 51
        }
      ]
    },
    {
      "cell_type": "code",
      "metadata": {
        "colab": {
          "base_uri": "https://localhost:8080/"
        },
        "id": "UPUZUeF9h5tf",
        "outputId": "3f1e4db7-7347-4fb3-ca30-9c6638d36ebd"
      },
      "source": [
        "# For more robust application, we can use lambda or other user defined function\r\n",
        "%time\r\n",
        "func = lambda x: True if x % 2 == 0 else False\r\n",
        "cond = list(map(func, list_num_ser))\r\n",
        "list_num_ser.loc[cond]"
      ],
      "execution_count": 64,
      "outputs": [
        {
          "output_type": "stream",
          "text": [
            "CPU times: user 3 µs, sys: 0 ns, total: 3 µs\n",
            "Wall time: 6.68 µs\n"
          ],
          "name": "stdout"
        },
        {
          "output_type": "execute_result",
          "data": {
            "text/plain": [
              "0     10\n",
              "2     12\n",
              "4     14\n",
              "6     16\n",
              "8     18\n",
              "10    20\n",
              "12    22\n",
              "14    24\n",
              "16    26\n",
              "18    28\n",
              "dtype: int64"
            ]
          },
          "metadata": {
            "tags": []
          },
          "execution_count": 64
        }
      ]
    },
    {
      "cell_type": "code",
      "metadata": {
        "id": "MfOS9eiClTA0"
      },
      "source": [
        ""
      ],
      "execution_count": null,
      "outputs": []
    }
  ]
}