{
  "nbformat": 4,
  "nbformat_minor": 0,
  "metadata": {
    "colab": {
      "name": "Python Day#7.ipynb",
      "provenance": [],
      "collapsed_sections": [],
      "toc_visible": true
    },
    "kernelspec": {
      "name": "python3",
      "display_name": "Python 3"
    }
  },
  "cells": [
    {
      "cell_type": "code",
      "metadata": {
        "id": "yxIhTVlM_iWM"
      },
      "source": [
        "# Revision - OOPs Concept\n",
        "\n",
        "class Dog:\n",
        "    \"\"\"A simple class for dog model\"\"\"\n",
        "\n",
        "    # Special method which is creating the instance of class\n",
        "    def __init__(self, name, age):\n",
        "        \"\"\"Initialize name and age attribute\"\"\"\n",
        "        self.name = name\n",
        "        self.age  = age\n",
        "        self.owner = ''\n",
        "    \n",
        "    def sit(self, place):\n",
        "        \"\"\"Simulate a dog sitting in response to a command\"\"\"\n",
        "        self.place = place\n",
        "        print(f\"{self.name} is now sitting. Sitting at {place}.\")\n",
        "\n",
        "\n",
        "    def running(self):\n",
        "        print(f\"{self.name} is running.\")\n",
        "\n",
        "    def get_current_owner(self, owner):\n",
        "        self.current_owner = owner\n",
        "        print(f\"{self.current_owner} is the owner now.\")"
      ],
      "execution_count": 2,
      "outputs": []
    },
    {
      "cell_type": "code",
      "metadata": {
        "id": "2_svmjoU_4vU"
      },
      "source": [
        "my_dog = Dog('Rocks',5)"
      ],
      "execution_count": 3,
      "outputs": []
    },
    {
      "cell_type": "code",
      "metadata": {
        "colab": {
          "base_uri": "https://localhost:8080/"
        },
        "id": "DqJtbkGzADtp",
        "outputId": "1d9d3da5-f6ae-4f3a-9f8a-eeaf70956858"
      },
      "source": [
        "my_dog.name, my_dog.age"
      ],
      "execution_count": 5,
      "outputs": [
        {
          "output_type": "execute_result",
          "data": {
            "text/plain": [
              "('Rocks', 5)"
            ]
          },
          "metadata": {
            "tags": []
          },
          "execution_count": 5
        }
      ]
    },
    {
      "cell_type": "code",
      "metadata": {
        "colab": {
          "base_uri": "https://localhost:8080/"
        },
        "id": "JJRFpKi-AGcb",
        "outputId": "16596a62-42b8-47a1-c032-0f708d286b65"
      },
      "source": [
        "my_dog.sit('Balcony')"
      ],
      "execution_count": 6,
      "outputs": [
        {
          "output_type": "stream",
          "text": [
            "Rocks is now sitting. Sitting at Balcony.\n"
          ],
          "name": "stdout"
        }
      ]
    },
    {
      "cell_type": "code",
      "metadata": {
        "colab": {
          "base_uri": "https://localhost:8080/",
          "height": 35
        },
        "id": "fv6j7Nh-ARc3",
        "outputId": "5fc1f6c0-acb5-4bba-82a1-abc8da7a9447"
      },
      "source": [
        "my_dog.place"
      ],
      "execution_count": 7,
      "outputs": [
        {
          "output_type": "execute_result",
          "data": {
            "application/vnd.google.colaboratory.intrinsic+json": {
              "type": "string"
            },
            "text/plain": [
              "'Balcony'"
            ]
          },
          "metadata": {
            "tags": []
          },
          "execution_count": 7
        }
      ]
    },
    {
      "cell_type": "code",
      "metadata": {
        "id": "vLnmIfoXAW62"
      },
      "source": [
        "class Car:\n",
        "\n",
        "    def __init__(self, make, model, year):\n",
        "\n",
        "        self.make = make\n",
        "        self.model = model\n",
        "        self.year = year\n",
        "\n",
        "    def get_description(self):\n",
        "\n",
        "        description = f\"Manufactured in {self.year}\"\n",
        "\n",
        "        return description"
      ],
      "execution_count": 9,
      "outputs": []
    },
    {
      "cell_type": "code",
      "metadata": {
        "id": "0VbIgud-AwbT"
      },
      "source": [
        "class ElectricCar(Car):\n",
        "\n",
        "    def __init__(self, make, model, year, charger_name):\n",
        "\n",
        "        super().__init__(make, model, year)\n",
        "        self.charger_name = charger_name\n",
        "\n",
        "    def check_charging(self, charge_flag):\n",
        "        if charge_flag == True:\n",
        "            return \"Yes\"\n",
        "        else:\n",
        "            return \"No\""
      ],
      "execution_count": 10,
      "outputs": []
    },
    {
      "cell_type": "code",
      "metadata": {
        "id": "-qcsvL0iB3CH"
      },
      "source": [
        "my_car = Car('Maruti', 'Alto', 2000)"
      ],
      "execution_count": 11,
      "outputs": []
    },
    {
      "cell_type": "code",
      "metadata": {
        "colab": {
          "base_uri": "https://localhost:8080/"
        },
        "id": "U3zJIW_ZCDqn",
        "outputId": "7ac7e947-bafb-429b-ab45-c0ae225a096e"
      },
      "source": [
        "my_car.make, my_car.model"
      ],
      "execution_count": 12,
      "outputs": [
        {
          "output_type": "execute_result",
          "data": {
            "text/plain": [
              "('Maruti', 'Alto')"
            ]
          },
          "metadata": {
            "tags": []
          },
          "execution_count": 12
        }
      ]
    },
    {
      "cell_type": "code",
      "metadata": {
        "id": "l-cMhJt2CKGy"
      },
      "source": [
        "my_new_car = ElectricCar('Tesla', 'EV', 2020, 'Panasonic')"
      ],
      "execution_count": 13,
      "outputs": []
    },
    {
      "cell_type": "code",
      "metadata": {
        "colab": {
          "base_uri": "https://localhost:8080/",
          "height": 35
        },
        "id": "l15CB6ZODTGa",
        "outputId": "20b3b90c-c4e0-47fc-e8e2-a8ab29bc7dd4"
      },
      "source": [
        "my_new_car.make"
      ],
      "execution_count": 15,
      "outputs": [
        {
          "output_type": "execute_result",
          "data": {
            "application/vnd.google.colaboratory.intrinsic+json": {
              "type": "string"
            },
            "text/plain": [
              "'Tesla'"
            ]
          },
          "metadata": {
            "tags": []
          },
          "execution_count": 15
        }
      ]
    },
    {
      "cell_type": "code",
      "metadata": {
        "colab": {
          "base_uri": "https://localhost:8080/",
          "height": 35
        },
        "id": "Qm9hjRunDU1X",
        "outputId": "69e15380-4392-4a40-e6c2-837bdd68de26"
      },
      "source": [
        "my_new_car.get_description()"
      ],
      "execution_count": 16,
      "outputs": [
        {
          "output_type": "execute_result",
          "data": {
            "application/vnd.google.colaboratory.intrinsic+json": {
              "type": "string"
            },
            "text/plain": [
              "'Manufactured in 2020'"
            ]
          },
          "metadata": {
            "tags": []
          },
          "execution_count": 16
        }
      ]
    },
    {
      "cell_type": "code",
      "metadata": {
        "colab": {
          "base_uri": "https://localhost:8080/"
        },
        "id": "-ZQ48_OUJ7qi",
        "outputId": "69ce4ee7-8d86-405e-a31c-93b8e9878aad"
      },
      "source": [
        "dir(my_car)"
      ],
      "execution_count": 24,
      "outputs": [
        {
          "output_type": "execute_result",
          "data": {
            "text/plain": [
              "['__class__',\n",
              " '__delattr__',\n",
              " '__dict__',\n",
              " '__dir__',\n",
              " '__doc__',\n",
              " '__eq__',\n",
              " '__format__',\n",
              " '__ge__',\n",
              " '__getattribute__',\n",
              " '__gt__',\n",
              " '__hash__',\n",
              " '__init__',\n",
              " '__init_subclass__',\n",
              " '__le__',\n",
              " '__lt__',\n",
              " '__module__',\n",
              " '__ne__',\n",
              " '__new__',\n",
              " '__reduce__',\n",
              " '__reduce_ex__',\n",
              " '__repr__',\n",
              " '__setattr__',\n",
              " '__sizeof__',\n",
              " '__str__',\n",
              " '__subclasshook__',\n",
              " '__weakref__',\n",
              " 'get_description',\n",
              " 'make',\n",
              " 'model',\n",
              " 'year']"
            ]
          },
          "metadata": {
            "tags": []
          },
          "execution_count": 24
        }
      ]
    },
    {
      "cell_type": "markdown",
      "metadata": {
        "id": "9XWieoVgGrJM"
      },
      "source": [
        ""
      ]
    },
    {
      "cell_type": "code",
      "metadata": {
        "colab": {
          "base_uri": "https://localhost:8080/"
        },
        "id": "myYut8HmGxRr",
        "outputId": "219f9183-4d38-4829-cb97-a80959ec8d6a"
      },
      "source": [
        "def multi(num):\n",
        "    return num*num\n",
        "\n",
        "num_list = [3, 4, 5, 6, 7]\n",
        "\n",
        "# map() creates a generator\n",
        "print(list(map(multi, num_list)))"
      ],
      "execution_count": 17,
      "outputs": [
        {
          "output_type": "stream",
          "text": [
            "[9, 16, 25, 36, 49]\n"
          ],
          "name": "stdout"
        }
      ]
    },
    {
      "cell_type": "code",
      "metadata": {
        "id": "3yWVD542Dfpo"
      },
      "source": [
        "Zipcodes = ['121212','232323','434334']\n",
        "newZipcodes = ['  131313 ',' 242424   ',' 212121 ','  323232','342312  ',' 565656 ']"
      ],
      "execution_count": 18,
      "outputs": []
    },
    {
      "cell_type": "code",
      "metadata": {
        "colab": {
          "base_uri": "https://localhost:8080/"
        },
        "id": "l8HHXV_JG4qx",
        "outputId": "897020aa-2604-4f4f-c390-3ede2e86e499"
      },
      "source": [
        "list(iter.strip() for iter in newZipcodes)"
      ],
      "execution_count": 20,
      "outputs": [
        {
          "output_type": "execute_result",
          "data": {
            "text/plain": [
              "['131313', '242424', '212121', '323232', '342312', '565656']"
            ]
          },
          "metadata": {
            "tags": []
          },
          "execution_count": 20
        }
      ]
    },
    {
      "cell_type": "code",
      "metadata": {
        "colab": {
          "base_uri": "https://localhost:8080/"
        },
        "id": "8H48k0HVHDIx",
        "outputId": "1d7c3812-0a6e-4c8a-f2d4-4cac4ef3794d"
      },
      "source": [
        "list(map(str.strip, newZipcodes))"
      ],
      "execution_count": 22,
      "outputs": [
        {
          "output_type": "execute_result",
          "data": {
            "text/plain": [
              "['131313', '242424', '212121', '323232', '342312', '565656']"
            ]
          },
          "metadata": {
            "tags": []
          },
          "execution_count": 22
        }
      ]
    },
    {
      "cell_type": "code",
      "metadata": {
        "colab": {
          "base_uri": "https://localhost:8080/"
        },
        "id": "Pc64LN_1L_SQ",
        "outputId": "2a7d0fcd-1ae8-4441-9179-8cfe8269bf51"
      },
      "source": [
        "dir(str)"
      ],
      "execution_count": 34,
      "outputs": [
        {
          "output_type": "execute_result",
          "data": {
            "text/plain": [
              "['__add__',\n",
              " '__class__',\n",
              " '__contains__',\n",
              " '__delattr__',\n",
              " '__dir__',\n",
              " '__doc__',\n",
              " '__eq__',\n",
              " '__format__',\n",
              " '__ge__',\n",
              " '__getattribute__',\n",
              " '__getitem__',\n",
              " '__getnewargs__',\n",
              " '__gt__',\n",
              " '__hash__',\n",
              " '__init__',\n",
              " '__init_subclass__',\n",
              " '__iter__',\n",
              " '__le__',\n",
              " '__len__',\n",
              " '__lt__',\n",
              " '__mod__',\n",
              " '__mul__',\n",
              " '__ne__',\n",
              " '__new__',\n",
              " '__reduce__',\n",
              " '__reduce_ex__',\n",
              " '__repr__',\n",
              " '__rmod__',\n",
              " '__rmul__',\n",
              " '__setattr__',\n",
              " '__sizeof__',\n",
              " '__str__',\n",
              " '__subclasshook__',\n",
              " 'capitalize',\n",
              " 'casefold',\n",
              " 'center',\n",
              " 'count',\n",
              " 'encode',\n",
              " 'endswith',\n",
              " 'expandtabs',\n",
              " 'find',\n",
              " 'format',\n",
              " 'format_map',\n",
              " 'index',\n",
              " 'isalnum',\n",
              " 'isalpha',\n",
              " 'isdecimal',\n",
              " 'isdigit',\n",
              " 'isidentifier',\n",
              " 'islower',\n",
              " 'isnumeric',\n",
              " 'isprintable',\n",
              " 'isspace',\n",
              " 'istitle',\n",
              " 'isupper',\n",
              " 'join',\n",
              " 'ljust',\n",
              " 'lower',\n",
              " 'lstrip',\n",
              " 'maketrans',\n",
              " 'partition',\n",
              " 'replace',\n",
              " 'rfind',\n",
              " 'rindex',\n",
              " 'rjust',\n",
              " 'rpartition',\n",
              " 'rsplit',\n",
              " 'rstrip',\n",
              " 'split',\n",
              " 'splitlines',\n",
              " 'startswith',\n",
              " 'strip',\n",
              " 'swapcase',\n",
              " 'title',\n",
              " 'translate',\n",
              " 'upper',\n",
              " 'zfill']"
            ]
          },
          "metadata": {
            "tags": []
          },
          "execution_count": 34
        }
      ]
    },
    {
      "cell_type": "code",
      "metadata": {
        "colab": {
          "base_uri": "https://localhost:8080/",
          "height": 35
        },
        "id": "fN-QMRkKIsIr",
        "outputId": "dc6fbc05-cd2b-45e3-fbb3-e5a870081160"
      },
      "source": [
        "str1 = ' Rahul '\n",
        "\n",
        "str1.strip()"
      ],
      "execution_count": 23,
      "outputs": [
        {
          "output_type": "execute_result",
          "data": {
            "application/vnd.google.colaboratory.intrinsic+json": {
              "type": "string"
            },
            "text/plain": [
              "'Rahul'"
            ]
          },
          "metadata": {
            "tags": []
          },
          "execution_count": 23
        }
      ]
    },
    {
      "cell_type": "code",
      "metadata": {
        "colab": {
          "base_uri": "https://localhost:8080/"
        },
        "id": "k8PpGvJ5Jimt",
        "outputId": "cb74adba-3b1a-4a85-d16e-bf64f30fccaf"
      },
      "source": [
        "dir(str1)"
      ],
      "execution_count": 25,
      "outputs": [
        {
          "output_type": "execute_result",
          "data": {
            "text/plain": [
              "['__add__',\n",
              " '__class__',\n",
              " '__contains__',\n",
              " '__delattr__',\n",
              " '__dir__',\n",
              " '__doc__',\n",
              " '__eq__',\n",
              " '__format__',\n",
              " '__ge__',\n",
              " '__getattribute__',\n",
              " '__getitem__',\n",
              " '__getnewargs__',\n",
              " '__gt__',\n",
              " '__hash__',\n",
              " '__init__',\n",
              " '__init_subclass__',\n",
              " '__iter__',\n",
              " '__le__',\n",
              " '__len__',\n",
              " '__lt__',\n",
              " '__mod__',\n",
              " '__mul__',\n",
              " '__ne__',\n",
              " '__new__',\n",
              " '__reduce__',\n",
              " '__reduce_ex__',\n",
              " '__repr__',\n",
              " '__rmod__',\n",
              " '__rmul__',\n",
              " '__setattr__',\n",
              " '__sizeof__',\n",
              " '__str__',\n",
              " '__subclasshook__',\n",
              " 'capitalize',\n",
              " 'casefold',\n",
              " 'center',\n",
              " 'count',\n",
              " 'encode',\n",
              " 'endswith',\n",
              " 'expandtabs',\n",
              " 'find',\n",
              " 'format',\n",
              " 'format_map',\n",
              " 'index',\n",
              " 'isalnum',\n",
              " 'isalpha',\n",
              " 'isdecimal',\n",
              " 'isdigit',\n",
              " 'isidentifier',\n",
              " 'islower',\n",
              " 'isnumeric',\n",
              " 'isprintable',\n",
              " 'isspace',\n",
              " 'istitle',\n",
              " 'isupper',\n",
              " 'join',\n",
              " 'ljust',\n",
              " 'lower',\n",
              " 'lstrip',\n",
              " 'maketrans',\n",
              " 'partition',\n",
              " 'replace',\n",
              " 'rfind',\n",
              " 'rindex',\n",
              " 'rjust',\n",
              " 'rpartition',\n",
              " 'rsplit',\n",
              " 'rstrip',\n",
              " 'split',\n",
              " 'splitlines',\n",
              " 'startswith',\n",
              " 'strip',\n",
              " 'swapcase',\n",
              " 'title',\n",
              " 'translate',\n",
              " 'upper',\n",
              " 'zfill']"
            ]
          },
          "metadata": {
            "tags": []
          },
          "execution_count": 25
        }
      ]
    },
    {
      "cell_type": "code",
      "metadata": {
        "colab": {
          "base_uri": "https://localhost:8080/"
        },
        "id": "YqUFru7GKe-D",
        "outputId": "7c9c9dd9-712f-4fb5-9619-a175c32bfc42"
      },
      "source": [
        "type(type(str1))"
      ],
      "execution_count": 28,
      "outputs": [
        {
          "output_type": "execute_result",
          "data": {
            "text/plain": [
              "type"
            ]
          },
          "metadata": {
            "tags": []
          },
          "execution_count": 28
        }
      ]
    },
    {
      "cell_type": "code",
      "metadata": {
        "colab": {
          "base_uri": "https://localhost:8080/"
        },
        "id": "lArR0d3aKzS3",
        "outputId": "16423b31-05fe-4fd2-a0f5-224b5b4859fc"
      },
      "source": [
        "print(str1.__contains__)"
      ],
      "execution_count": 33,
      "outputs": [
        {
          "output_type": "stream",
          "text": [
            "<method-wrapper '__contains__' of str object at 0x7f6fad5182d0>\n"
          ],
          "name": "stdout"
        }
      ]
    },
    {
      "cell_type": "code",
      "metadata": {
        "colab": {
          "base_uri": "https://localhost:8080/"
        },
        "id": "Jqmpyl6TLSvA",
        "outputId": "bbea03db-75e8-4329-eee7-344d1b2c8d44"
      },
      "source": [
        "import itertools\n",
        "\n",
        "list(itertools.chain(Zipcodes, (iter.strip() for iter in newZipcodes)))"
      ],
      "execution_count": 35,
      "outputs": [
        {
          "output_type": "execute_result",
          "data": {
            "text/plain": [
              "['121212',\n",
              " '232323',\n",
              " '434334',\n",
              " '131313',\n",
              " '242424',\n",
              " '212121',\n",
              " '323232',\n",
              " '342312',\n",
              " '565656']"
            ]
          },
          "metadata": {
            "tags": []
          },
          "execution_count": 35
        }
      ]
    },
    {
      "cell_type": "markdown",
      "metadata": {
        "id": "9zRJGv2_M8S5"
      },
      "source": [
        "# File operation"
      ]
    },
    {
      "cell_type": "code",
      "metadata": {
        "id": "lrJrgaPVM_Ts"
      },
      "source": [
        "f = open('hello.txt','w')"
      ],
      "execution_count": 36,
      "outputs": []
    },
    {
      "cell_type": "code",
      "metadata": {
        "colab": {
          "base_uri": "https://localhost:8080/"
        },
        "id": "fsur--o5NwIn",
        "outputId": "a9d8f993-e678-4ea3-dd06-e0b91bde09c6"
      },
      "source": [
        "f.write(\"Hello Joyraj\")"
      ],
      "execution_count": 37,
      "outputs": [
        {
          "output_type": "execute_result",
          "data": {
            "text/plain": [
              "12"
            ]
          },
          "metadata": {
            "tags": []
          },
          "execution_count": 37
        }
      ]
    },
    {
      "cell_type": "code",
      "metadata": {
        "id": "7n3gRXBaN5xy"
      },
      "source": [
        "f.close()"
      ],
      "execution_count": 38,
      "outputs": []
    },
    {
      "cell_type": "code",
      "metadata": {
        "id": "pe3l_famOC5Q"
      },
      "source": [
        "with open('hello_1.txt','w') as f:\n",
        "  f.write(\"Hello Joyraj\")"
      ],
      "execution_count": 40,
      "outputs": []
    },
    {
      "cell_type": "code",
      "metadata": {
        "id": "D7m_S2qVO2Rt"
      },
      "source": [
        "f = open('hello_2.txt','w')\n",
        "try:\n",
        "  f.write(\"Hello Rahul\")\n",
        "finally:\n",
        "  f.close()"
      ],
      "execution_count": 42,
      "outputs": []
    },
    {
      "cell_type": "code",
      "metadata": {
        "id": "XXhqjDNrPGMM"
      },
      "source": [
        "with open('hello_1.txt','w') as f:\n",
        "  f.write(\"Hello Joyraj\\n\")\n",
        "  f.write(\"Hello World\")"
      ],
      "execution_count": 44,
      "outputs": []
    },
    {
      "cell_type": "code",
      "metadata": {
        "colab": {
          "base_uri": "https://localhost:8080/"
        },
        "id": "6QOSPKuSP3mu",
        "outputId": "40a6468c-374b-4721-c937-6908bafdc68b"
      },
      "source": [
        "with open('hello_1.txt','r') as f:\n",
        "  print(f.readline())\n",
        "  print(f.readline())\n",
        "  print(f.readline())"
      ],
      "execution_count": 48,
      "outputs": [
        {
          "output_type": "stream",
          "text": [
            "Hello Joyraj\n",
            "\n",
            "Hello World\n",
            "\n"
          ],
          "name": "stdout"
        }
      ]
    },
    {
      "cell_type": "code",
      "metadata": {
        "colab": {
          "base_uri": "https://localhost:8080/"
        },
        "id": "4W9JygXLQB8a",
        "outputId": "f5683b92-daa4-433e-9708-8a4fb536a4fd"
      },
      "source": [
        "with open('hello_1.txt','r') as f:\n",
        "  print(f.read())"
      ],
      "execution_count": 50,
      "outputs": [
        {
          "output_type": "stream",
          "text": [
            "Hello Joyraj\n",
            "Hello World\n"
          ],
          "name": "stdout"
        }
      ]
    },
    {
      "cell_type": "code",
      "metadata": {
        "id": "lolr1cqRQY0g"
      },
      "source": [
        ""
      ],
      "execution_count": null,
      "outputs": []
    }
  ]
}