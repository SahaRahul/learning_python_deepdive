{
 "metadata": {
  "language_info": {
   "codemirror_mode": {
    "name": "ipython",
    "version": 3
   },
   "file_extension": ".py",
   "mimetype": "text/x-python",
   "name": "python",
   "nbconvert_exporter": "python",
   "pygments_lexer": "ipython3",
   "version": "3.6.6-final"
  },
  "orig_nbformat": 2,
  "kernelspec": {
   "name": "Python 3.6.6 64-bit",
   "display_name": "Python 3.6.6 64-bit",
   "metadata": {
    "interpreter": {
     "hash": "4c65b98e956c6ae24f8ae0bc56d1e465ff92310dbdec0a4bd6b48ffdf1441c98"
    }
   }
  }
 },
 "nbformat": 4,
 "nbformat_minor": 2,
 "cells": [
  {
   "cell_type": "markdown",
   "metadata": {},
   "source": [
    "# Receiving arguments from user input\n",
    "### Refer the basic_prog3 series"
   ]
  },
  {
   "cell_type": "code",
   "execution_count": 5,
   "metadata": {},
   "outputs": [],
   "source": [
    "# Import library ARGPARSE\n",
    "\n",
    "import argparse"
   ]
  },
  {
   "cell_type": "code",
   "execution_count": 8,
   "metadata": {},
   "outputs": [],
   "source": [
    "# parser = argparse.ArgumentParser(description='')\n",
    "\n",
    "parser.add_argument('val', type=int, help=\"receive interger value\")parser = argparse.ArgumentParser(  \n",
    "        description='sum the integers at the command line')  \n",
    "    parser.add_argument(  \n",
    "        'integers', type=int,  \n",
    "        help='an integer to be summed')  \n",
    "\n",
    "    args = parser.parse_args()  "
   ]
  },
  {
   "cell_type": "code",
   "execution_count": 9,
   "metadata": {},
   "outputs": [
    {
     "output_type": "execute_result",
     "data": {
      "text/plain": [
       "_StoreAction(option_strings=[], dest='val', nargs=None, const=None, default=None, type=<class 'int'>, choices=None, help='receive interger value', metavar=None)"
      ]
     },
     "metadata": {},
     "execution_count": 9
    }
   ],
   "source": [
    "# parser.add_argument()\n",
    "\n",
    "parser.add_argument('val', type=int, help=\"receive interger value\")"
   ]
  },
  {
   "cell_type": "code",
   "execution_count": 10,
   "metadata": {},
   "outputs": [
    {
     "output_type": "stream",
     "name": "stderr",
     "text": [
      "usage: ipykernel_launcher.py [-h] val\nipykernel_launcher.py: error: the following arguments are required: val\n"
     ]
    },
    {
     "output_type": "error",
     "ename": "SystemExit",
     "evalue": "2",
     "traceback": [
      "An exception has occurred, use %tb to see the full traceback.\n",
      "\u001b[1;31mSystemExit\u001b[0m\u001b[1;31m:\u001b[0m 2\n"
     ]
    }
   ],
   "source": [
    "# args = parser.parse_args()\n",
    "\n",
    "args = parser.parse_args()"
   ]
  },
  {
   "cell_type": "code",
   "execution_count": 11,
   "metadata": {},
   "outputs": [
    {
     "output_type": "error",
     "ename": "NameError",
     "evalue": "name 'args' is not defined",
     "traceback": [
      "\u001b[1;31m---------------------------------------------------------------------------\u001b[0m",
      "\u001b[1;31mNameError\u001b[0m                                 Traceback (most recent call last)",
      "\u001b[1;32m<ipython-input-11-9172acb87e40>\u001b[0m in \u001b[0;36m<module>\u001b[1;34m\u001b[0m\n\u001b[0;32m      1\u001b[0m \u001b[1;31m# print(args.val)\u001b[0m\u001b[1;33m\u001b[0m\u001b[1;33m\u001b[0m\u001b[0m\n\u001b[0;32m      2\u001b[0m \u001b[1;33m\u001b[0m\u001b[0m\n\u001b[1;32m----> 3\u001b[1;33m \u001b[0margs\u001b[0m\u001b[1;33m.\u001b[0m\u001b[0mval\u001b[0m\u001b[1;33m\u001b[0m\u001b[0m\n\u001b[0m",
      "\u001b[1;31mNameError\u001b[0m: name 'args' is not defined"
     ]
    }
   ],
   "source": [
    "# print(args.val)\n",
    "\n"
   ]
  },
  {
   "cell_type": "markdown",
   "metadata": {},
   "source": [
    "# Function"
   ]
  },
  {
   "cell_type": "code",
   "execution_count": 14,
   "metadata": {},
   "outputs": [],
   "source": [
    "def greeting_user():\n",
    "    \"\"\"\n",
    "    Welcome users\n",
    "    \"\"\"\n",
    "    print(\"Hello Jairaj\")"
   ]
  },
  {
   "cell_type": "code",
   "execution_count": 15,
   "metadata": {},
   "outputs": [
    {
     "output_type": "stream",
     "name": "stdout",
     "text": [
      "Hello Jairaj\n"
     ]
    }
   ],
   "source": [
    "greeting_user()"
   ]
  },
  {
   "cell_type": "code",
   "execution_count": 16,
   "metadata": {},
   "outputs": [
    {
     "output_type": "stream",
     "name": "stdout",
     "text": [
      "Hello Jairaj\n"
     ]
    }
   ],
   "source": [
    "welcome = greeting_user()"
   ]
  },
  {
   "cell_type": "code",
   "execution_count": 18,
   "metadata": {},
   "outputs": [],
   "source": [
    "welcome"
   ]
  },
  {
   "cell_type": "code",
   "execution_count": 19,
   "metadata": {},
   "outputs": [],
   "source": [
    "def greeting_user1():\n",
    "    \"\"\"\n",
    "    Welcome users\n",
    "    \"\"\"\n",
    "    return(\"Hello Jairaj\")"
   ]
  },
  {
   "cell_type": "code",
   "execution_count": 20,
   "metadata": {},
   "outputs": [
    {
     "output_type": "execute_result",
     "data": {
      "text/plain": [
       "'Hello Jairaj'"
      ]
     },
     "metadata": {},
     "execution_count": 20
    }
   ],
   "source": [
    "greeting_user1()"
   ]
  },
  {
   "cell_type": "code",
   "execution_count": 21,
   "metadata": {},
   "outputs": [],
   "source": [
    "welcome1 = greeting_user1()"
   ]
  },
  {
   "cell_type": "code",
   "execution_count": 22,
   "metadata": {},
   "outputs": [
    {
     "output_type": "execute_result",
     "data": {
      "text/plain": [
       "'Hello Jairaj'"
      ]
     },
     "metadata": {},
     "execution_count": 22
    }
   ],
   "source": [
    "welcome1"
   ]
  },
  {
   "cell_type": "code",
   "execution_count": 28,
   "metadata": {},
   "outputs": [],
   "source": [
    "def greeting_user2(username):\n",
    "    \"\"\"\n",
    "    Welcome users\n",
    "    \"\"\"\n",
    "    print(\"Hello {}\".format(username))\n",
    "    return(f\"Dear {username}\")"
   ]
  },
  {
   "cell_type": "code",
   "execution_count": 29,
   "metadata": {},
   "outputs": [
    {
     "output_type": "stream",
     "name": "stdout",
     "text": [
      "Hello Rahul\n"
     ]
    },
    {
     "output_type": "execute_result",
     "data": {
      "text/plain": [
       "'Dear Rahul'"
      ]
     },
     "metadata": {},
     "execution_count": 29
    }
   ],
   "source": [
    "greeting_user2('Rahul')"
   ]
  },
  {
   "cell_type": "code",
   "execution_count": 32,
   "metadata": {},
   "outputs": [],
   "source": [
    "def greeting_user2(username):\n",
    "    \"\"\"\n",
    "    Welcome users\n",
    "    \"\"\"\n",
    "    return(\"Hello {}\".format(username), f\"Dear {username.title()}\")"
   ]
  },
  {
   "cell_type": "code",
   "execution_count": 33,
   "metadata": {},
   "outputs": [
    {
     "output_type": "execute_result",
     "data": {
      "text/plain": [
       "('Hello Joi', 'Dear Joi')"
      ]
     },
     "metadata": {},
     "execution_count": 33
    }
   ],
   "source": [
    "greeting_user2('Joi')"
   ]
  },
  {
   "cell_type": "code",
   "execution_count": 34,
   "metadata": {},
   "outputs": [],
   "source": [
    "def greeting_user3(fname, lname):\n",
    "    \"\"\"\n",
    "    Welcome users\n",
    "    \"\"\"\n",
    "    return(\"Hello {}\".format(fname), f\"Mr. {lname}\")"
   ]
  },
  {
   "cell_type": "code",
   "execution_count": 35,
   "metadata": {},
   "outputs": [
    {
     "output_type": "execute_result",
     "data": {
      "text/plain": [
       "('Hello Rahul', 'Mr. Saha')"
      ]
     },
     "metadata": {},
     "execution_count": 35
    }
   ],
   "source": [
    "greeting_user3('Rahul', 'Saha')"
   ]
  },
  {
   "cell_type": "code",
   "execution_count": 48,
   "metadata": {},
   "outputs": [],
   "source": [
    "def greeting_user3(fname, lname):\n",
    "    \"\"\"\n",
    "    Welcome users\n",
    "    \"\"\"\n",
    "    return(\"Hello {}\".format(fname), f\"Mrs {lname}\")"
   ]
  },
  {
   "cell_type": "code",
   "execution_count": 50,
   "metadata": {},
   "outputs": [
    {
     "output_type": "execute_result",
     "data": {
      "text/plain": [
       "('Hello Rajiv', 'Mrs Gandhi')"
      ]
     },
     "metadata": {},
     "execution_count": 50
    }
   ],
   "source": [
    "greeting_user3('Rajiv', 'Gandhi')"
   ]
  },
  {
   "cell_type": "code",
   "execution_count": 51,
   "metadata": {},
   "outputs": [
    {
     "output_type": "execute_result",
     "data": {
      "text/plain": [
       "('Hello Rajiv', 'Mrs Gandhi')"
      ]
     },
     "metadata": {},
     "execution_count": 51
    }
   ],
   "source": [
    "greeting_user3(fname = 'Rajiv', lname = 'Gandhi')"
   ]
  },
  {
   "cell_type": "code",
   "execution_count": 52,
   "metadata": {},
   "outputs": [
    {
     "output_type": "execute_result",
     "data": {
      "text/plain": [
       "('Hello Rajiv', 'Mrs Gandhi')"
      ]
     },
     "metadata": {},
     "execution_count": 52
    }
   ],
   "source": [
    "greeting_user3(lname = 'Gandhi',fname = 'Rajiv')"
   ]
  },
  {
   "cell_type": "code",
   "execution_count": 62,
   "metadata": {},
   "outputs": [],
   "source": [
    "def descibe_car(car_name, car_type='sedan'):\n",
    "    '''\n",
    "    Describe car\n",
    "    '''\n",
    "    no_of_door = 0\n",
    "    if car_type.lower() =='sedan':\n",
    "        no_of_door = 5\n",
    "    elif car_type.lower() == 'hatchback':\n",
    "        no_of_door = 4\n",
    "    else:\n",
    "        no_of_door = 2\n",
    "\n",
    "    print(f\"I am having {car_name}\")\n",
    "    print(f\"\\nIt is {car_type}\")\n",
    "\n",
    "    return(car_name, car_type, no_of_door)"
   ]
  },
  {
   "cell_type": "code",
   "execution_count": 60,
   "metadata": {},
   "outputs": [
    {
     "output_type": "stream",
     "name": "stdout",
     "text": [
      "I am having Honda City\n\nIt is sedan\n"
     ]
    },
    {
     "output_type": "execute_result",
     "data": {
      "text/plain": [
       "('Honda City', 'sedan', 5)"
      ]
     },
     "metadata": {},
     "execution_count": 60
    }
   ],
   "source": [
    "descibe_car(car_name='Honda City')"
   ]
  },
  {
   "cell_type": "code",
   "execution_count": 55,
   "metadata": {},
   "outputs": [
    {
     "output_type": "stream",
     "name": "stdout",
     "text": [
      "I am having Honda City\n\nIt is sedan\n"
     ]
    }
   ],
   "source": [
    "descibe_car('Honda City')"
   ]
  },
  {
   "cell_type": "code",
   "execution_count": 63,
   "metadata": {},
   "outputs": [
    {
     "output_type": "stream",
     "name": "stdout",
     "text": [
      "I am having Honda Bio\n\nIt is Hatchback\n"
     ]
    },
    {
     "output_type": "execute_result",
     "data": {
      "text/plain": [
       "('Honda Bio', 'Hatchback', 4)"
      ]
     },
     "metadata": {},
     "execution_count": 63
    }
   ],
   "source": [
    "descibe_car(car_name='Honda Bio', car_type='Hatchback')"
   ]
  },
  {
   "cell_type": "code",
   "execution_count": 57,
   "metadata": {},
   "outputs": [
    {
     "output_type": "stream",
     "name": "stdout",
     "text": [
      "I am having Honda Brio\n\nIt is Hatchback\n"
     ]
    }
   ],
   "source": [
    "descibe_car('Honda Brio', 'Hatchback')"
   ]
  },
  {
   "cell_type": "code",
   "execution_count": 58,
   "metadata": {},
   "outputs": [
    {
     "output_type": "error",
     "ename": "TypeError",
     "evalue": "descibe_car() missing 1 required positional argument: 'car_name'",
     "traceback": [
      "\u001b[1;31m---------------------------------------------------------------------------\u001b[0m",
      "\u001b[1;31mTypeError\u001b[0m                                 Traceback (most recent call last)",
      "\u001b[1;32m<ipython-input-58-2560eb950ddd>\u001b[0m in \u001b[0;36m<module>\u001b[1;34m\u001b[0m\n\u001b[1;32m----> 1\u001b[1;33m \u001b[0mdescibe_car\u001b[0m\u001b[1;33m(\u001b[0m\u001b[1;33m)\u001b[0m\u001b[1;33m\u001b[0m\u001b[0m\n\u001b[0m",
      "\u001b[1;31mTypeError\u001b[0m: descibe_car() missing 1 required positional argument: 'car_name'"
     ]
    }
   ],
   "source": [
    "descibe_car()"
   ]
  },
  {
   "cell_type": "code",
   "execution_count": 72,
   "metadata": {},
   "outputs": [],
   "source": [
    "def get_for_i(i):\n",
    "\n",
    "    while i < 10:\n",
    "\n",
    "        i = i + 1\n",
    "\n",
    "        if i%2 == 0:\n",
    "            continue\n",
    "        print(i)"
   ]
  },
  {
   "cell_type": "code",
   "execution_count": 73,
   "metadata": {},
   "outputs": [
    {
     "output_type": "stream",
     "name": "stdout",
     "text": [
      "3\n5\n7\n9\n"
     ]
    }
   ],
   "source": [
    "get_for_i(1)"
   ]
  },
  {
   "cell_type": "code",
   "execution_count": 74,
   "metadata": {},
   "outputs": [
    {
     "output_type": "stream",
     "name": "stdout",
     "text": [
      "hello\n"
     ]
    }
   ],
   "source": [
    "print('hello')"
   ]
  },
  {
   "cell_type": "code",
   "execution_count": 75,
   "metadata": {},
   "outputs": [
    {
     "output_type": "stream",
     "name": "stdout",
     "text": [
      "('Hello Rahul', 'Dear Rahul')\n('Hello Joiraj', 'Dear Joiraj')\n('Hello India', 'Dear India')\n"
     ]
    }
   ],
   "source": [
    "userlist = ['Rahul', 'Joiraj', 'India']\n",
    "\n",
    "for user in userlist:\n",
    "    print(greeting_user2(user))"
   ]
  },
  {
   "cell_type": "code",
   "execution_count": 87,
   "metadata": {},
   "outputs": [],
   "source": [
    "# count, user - 2 different function. Local value store\n",
    "\n",
    "def userprocess1(username):\n",
    "    count = 1\n",
    "    user = 'Dear ' + username\n",
    "    print(f'{user} {count}')\n",
    "\n",
    "def userprocess(userlist):\n",
    "    count = 1\n",
    "    for user in userlist:\n",
    "        userprocess1(user)\n",
    "        print(f\"Hello {user}\")\n",
    "        count += 1\n",
    "        print(f'userprocess - {count}')"
   ]
  },
  {
   "cell_type": "code",
   "execution_count": 88,
   "metadata": {},
   "outputs": [
    {
     "output_type": "stream",
     "name": "stdout",
     "text": [
      "Dear Rahul 1\nHello Rahul\nuserprocess - 2\nDear Joiraj 1\nHello Joiraj\nuserprocess - 3\nDear India 1\nHello India\nuserprocess - 4\n"
     ]
    }
   ],
   "source": [
    "userl = ['Rahul', 'Joiraj', 'India']\n",
    "\n",
    "userprocess(userl)"
   ]
  },
  {
   "cell_type": "code",
   "execution_count": 89,
   "metadata": {},
   "outputs": [
    {
     "output_type": "error",
     "ename": "NameError",
     "evalue": "name 'count' is not defined",
     "traceback": [
      "\u001b[1;31m---------------------------------------------------------------------------\u001b[0m",
      "\u001b[1;31mNameError\u001b[0m                                 Traceback (most recent call last)",
      "\u001b[1;32m<ipython-input-89-26780ddf2751>\u001b[0m in \u001b[0;36m<module>\u001b[1;34m\u001b[0m\n\u001b[1;32m----> 1\u001b[1;33m \u001b[0mcount\u001b[0m\u001b[1;33m\u001b[0m\u001b[0m\n\u001b[0m",
      "\u001b[1;31mNameError\u001b[0m: name 'count' is not defined"
     ]
    }
   ],
   "source": [
    "count"
   ]
  },
  {
   "cell_type": "code",
   "execution_count": 90,
   "metadata": {},
   "outputs": [
    {
     "output_type": "execute_result",
     "data": {
      "text/plain": [
       "'India'"
      ]
     },
     "metadata": {},
     "execution_count": 90
    }
   ],
   "source": [
    "user"
   ]
  },
  {
   "cell_type": "code",
   "execution_count": 91,
   "metadata": {},
   "outputs": [],
   "source": [
    "def make_pizza(*toppings):\n",
    "\n",
    "    print(toppings)"
   ]
  },
  {
   "cell_type": "code",
   "execution_count": 92,
   "metadata": {},
   "outputs": [
    {
     "output_type": "stream",
     "name": "stdout",
     "text": [
      "('peppero',)\n"
     ]
    }
   ],
   "source": [
    "make_pizza('peppero')"
   ]
  },
  {
   "cell_type": "code",
   "execution_count": 94,
   "metadata": {},
   "outputs": [
    {
     "output_type": "stream",
     "name": "stdout",
     "text": [
      "('peppero', 'cheese', 'chilly', 6)\n"
     ]
    }
   ],
   "source": [
    "make_pizza('peppero','cheese','chilly', 6)"
   ]
  },
  {
   "cell_type": "code",
   "execution_count": 102,
   "metadata": {},
   "outputs": [],
   "source": [
    "def make_pizza(base, *toppings, counts):\n",
    "    print(base)\n",
    "    print(toppings)\n",
    "    print(counts)"
   ]
  },
  {
   "cell_type": "code",
   "execution_count": 110,
   "metadata": {},
   "outputs": [
    {
     "output_type": "stream",
     "name": "stdout",
     "text": [
      "base pan\n('cheese', 'chilly')\n6\n"
     ]
    }
   ],
   "source": [
    "make_pizza('base pan','cheese','chilly', counts = 6) \n",
    "# at last counts = 6 is a keyword arg, it shall be at last or else it will error out"
   ]
  },
  {
   "cell_type": "code",
   "execution_count": 111,
   "metadata": {},
   "outputs": [
    {
     "output_type": "error",
     "ename": "SyntaxError",
     "evalue": "positional argument follows keyword argument (<ipython-input-111-fb33ecc11c44>, line 1)",
     "traceback": [
      "\u001b[1;36m  File \u001b[1;32m\"<ipython-input-111-fb33ecc11c44>\"\u001b[1;36m, line \u001b[1;32m1\u001b[0m\n\u001b[1;33m    make_pizza('base pan', counts = 6, 'cheese','chilly')\u001b[0m\n\u001b[1;37m                                      ^\u001b[0m\n\u001b[1;31mSyntaxError\u001b[0m\u001b[1;31m:\u001b[0m positional argument follows keyword argument\n"
     ]
    }
   ],
   "source": [
    "make_pizza('base pan', counts = 6, 'cheese','chilly') "
   ]
  },
  {
   "cell_type": "code",
   "execution_count": 118,
   "metadata": {},
   "outputs": [],
   "source": [
    "def make_pizza2(base, counts, *toppings):\n",
    "    print(base)\n",
    "    utoppings = '-'.join(toppings)\n",
    "    print(utoppings)\n",
    "    print(counts)\n",
    "\n",
    "    return base, counts, utoppings"
   ]
  },
  {
   "cell_type": "code",
   "execution_count": 119,
   "metadata": {},
   "outputs": [
    {
     "output_type": "stream",
     "name": "stdout",
     "text": [
      "base pan\ncheese-chilly\n6\n"
     ]
    },
    {
     "output_type": "execute_result",
     "data": {
      "text/plain": [
       "('base pan', 6, 'cheese-chilly')"
      ]
     },
     "metadata": {},
     "execution_count": 119
    }
   ],
   "source": [
    "make_pizza2('base pan',6, 'cheese','chilly')"
   ]
  },
  {
   "cell_type": "code",
   "execution_count": 120,
   "metadata": {},
   "outputs": [
    {
     "output_type": "stream",
     "name": "stdout",
     "text": [
      "base pan\ncheese-chilly-mushroom\n6\n"
     ]
    },
    {
     "output_type": "execute_result",
     "data": {
      "text/plain": [
       "('base pan', 6, 'cheese-chilly-mushroom')"
      ]
     },
     "metadata": {},
     "execution_count": 120
    }
   ],
   "source": [
    "make_pizza2('base pan',6, 'cheese','chilly','mushroom')"
   ]
  },
  {
   "cell_type": "code",
   "execution_count": null,
   "metadata": {},
   "outputs": [],
   "source": []
  }
 ]
}