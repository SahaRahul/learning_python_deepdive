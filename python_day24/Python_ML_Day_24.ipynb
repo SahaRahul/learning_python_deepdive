{
  "nbformat": 4,
  "nbformat_minor": 0,
  "metadata": {
    "colab": {
      "name": "Python ML Day#24.ipynb",
      "provenance": [],
      "collapsed_sections": []
    },
    "kernelspec": {
      "name": "python3",
      "display_name": "Python 3"
    },
    "language_info": {
      "name": "python"
    }
  },
  "cells": [
    {
      "cell_type": "markdown",
      "metadata": {
        "id": "e_s0Tu1JBXeh"
      },
      "source": [
        "## Agglomaretive Clustering - Hierchical Clustering"
      ]
    },
    {
      "cell_type": "code",
      "metadata": {
        "id": "11VVNQWFvAnm"
      },
      "source": [
        "import numpy as np\n",
        "\n",
        "X = np.array([[5,3],\n",
        "    [10,15],\n",
        "    [15,12],\n",
        "    [24,10],\n",
        "    [30,30],\n",
        "    [85,70],\n",
        "    [71,80],\n",
        "    [60,78],\n",
        "    [70,55],\n",
        "    [80,91],])"
      ],
      "execution_count": 1,
      "outputs": []
    },
    {
      "cell_type": "code",
      "metadata": {
        "colab": {
          "base_uri": "https://localhost:8080/",
          "height": 441
        },
        "id": "nHb92UNM597B",
        "outputId": "85595005-71bc-46d8-9eca-98177b4630c9"
      },
      "source": [
        "import matplotlib.pyplot as plt\n",
        "\n",
        "labels = range(1, 11)\n",
        "plt.figure(figsize=(10, 7))\n",
        "plt.subplots_adjust(bottom=0.1)\n",
        "plt.scatter(X[:,0],X[:,1], label='True Position')\n",
        "\n",
        "for label, x, y in zip(labels, X[:, 0], X[:, 1]):\n",
        "    plt.annotate(\n",
        "        label,\n",
        "        xy=(x, y), xytext=(-3, 3),\n",
        "        textcoords='offset points', ha='right', va='bottom')\n",
        "plt.show()"
      ],
      "execution_count": 2,
      "outputs": [
        {
          "output_type": "display_data",
          "data": {
            "image/png": "[encoded data removed]",
            "text/plain": [
              "<Figure size 720x504 with 1 Axes>"
            ]
          },
          "metadata": {
            "tags": [],
            "needs_background": "light"
          }
        }
      ]
    },
    {
      "cell_type": "code",
      "metadata": {
        "colab": {
          "base_uri": "https://localhost:8080/",
          "height": 431
        },
        "id": "orYkn-CO6Ic4",
        "outputId": "63026b70-41e4-42f0-b31d-f8dfb327ac67"
      },
      "source": [
        "from scipy.cluster.hierarchy import dendrogram, linkage\n",
        "from matplotlib import pyplot as plt\n",
        "\n",
        "linked = linkage(X, 'single') # other options are - ward, average\n",
        "\n",
        "labelList = range(1, 11)\n",
        "\n",
        "plt.figure(figsize=(10, 7))\n",
        "dendrogram(linked,\n",
        "            orientation='top',\n",
        "            labels=labelList,\n",
        "            distance_sort='descending',\n",
        "            show_leaf_counts=True)\n",
        "plt.show()"
      ],
      "execution_count": 3,
      "outputs": [
        {
          "output_type": "display_data",
          "data": {
            "image/png": "[encoded data removed]",
            "text/plain": [
              "<Figure size 720x504 with 1 Axes>"
            ]
          },
          "metadata": {
            "tags": [],
            "needs_background": "light"
          }
        }
      ]
    },
    {
      "cell_type": "code",
      "metadata": {
        "colab": {
          "base_uri": "https://localhost:8080/"
        },
        "id": "7u7j6VnW7jyR",
        "outputId": "67cce253-1ee8-4e6e-c101-edc4a92fed4a"
      },
      "source": [
        "from sklearn.cluster import AgglomerativeClustering\n",
        "\n",
        "cluster = AgglomerativeClustering(n_clusters=3, affinity='euclidean', linkage='ward')\n",
        "cluster.fit_predict(X)"
      ],
      "execution_count": 8,
      "outputs": [
        {
          "output_type": "execute_result",
          "data": {
            "text/plain": [
              "array([0, 0, 0, 0, 0, 2, 1, 1, 2, 1])"
            ]
          },
          "metadata": {
            "tags": []
          },
          "execution_count": 8
        }
      ]
    },
    {
      "cell_type": "code",
      "metadata": {
        "colab": {
          "base_uri": "https://localhost:8080/",
          "height": 282
        },
        "id": "pV8e2siE8EAu",
        "outputId": "a5e615b9-3022-4b90-d231-54db875f3e81"
      },
      "source": [
        "plt.scatter(X[:,0],X[:,1], c=cluster.labels_, cmap='rainbow')"
      ],
      "execution_count": 9,
      "outputs": [
        {
          "output_type": "execute_result",
          "data": {
            "text/plain": [
              "<matplotlib.collections.PathCollection at 0x7f19cfdc4bd0>"
            ]
          },
          "metadata": {
            "tags": []
          },
          "execution_count": 9
        },
        {
          "output_type": "display_data",
          "data": {
            "image/png": "[encoded data removed]",
            "text/plain": [
              "<Figure size 432x288 with 1 Axes>"
            ]
          },
          "metadata": {
            "tags": [],
            "needs_background": "light"
          }
        }
      ]
    },
    {
      "cell_type": "markdown",
      "metadata": {
        "id": "L5DevhuZ-Lta"
      },
      "source": [
        "### New Data"
      ]
    },
    {
      "cell_type": "code",
      "metadata": {
        "id": "0lzLN6WX-Nwz"
      },
      "source": [
        "import pandas as pd\n",
        "\n",
        "customer_data = pd.read_csv('hc_data.csv')"
      ],
      "execution_count": 11,
      "outputs": []
    },
    {
      "cell_type": "code",
      "metadata": {
        "colab": {
          "base_uri": "https://localhost:8080/"
        },
        "id": "5jDUgy6X-VK2",
        "outputId": "1dcc2120-7e06-4cb0-a774-bed0ea339173"
      },
      "source": [
        "customer_data.shape"
      ],
      "execution_count": 12,
      "outputs": [
        {
          "output_type": "execute_result",
          "data": {
            "text/plain": [
              "(200, 5)"
            ]
          },
          "metadata": {
            "tags": []
          },
          "execution_count": 12
        }
      ]
    },
    {
      "cell_type": "code",
      "metadata": {
        "colab": {
          "base_uri": "https://localhost:8080/",
          "height": 204
        },
        "id": "Sd9jI-EM-cww",
        "outputId": "8f6e3db4-14a3-44d9-9a4b-cda5a2078040"
      },
      "source": [
        "customer_data.head()"
      ],
      "execution_count": 13,
      "outputs": [
        {
          "output_type": "execute_result",
          "data": {
            "text/html": [
              "<div>\n",
              "<style scoped>\n",
              "    .dataframe tbody tr th:only-of-type {\n",
              "        vertical-align: middle;\n",
              "    }\n",
              "\n",
              "    .dataframe tbody tr th {\n",
              "        vertical-align: top;\n",
              "    }\n",
              "\n",
              "    .dataframe thead th {\n",
              "        text-align: right;\n",
              "    }\n",
              "</style>\n",
              "<table border=\"1\" class=\"dataframe\">\n",
              "  <thead>\n",
              "    <tr style=\"text-align: right;\">\n",
              "      <th></th>\n",
              "      <th>CustomerID</th>\n",
              "      <th>Genre</th>\n",
              "      <th>Age</th>\n",
              "      <th>Annual Income (k$)</th>\n",
              "      <th>Spending Score (1-100)</th>\n",
              "    </tr>\n",
              "  </thead>\n",
              "  <tbody>\n",
              "    <tr>\n",
              "      <th>0</th>\n",
              "      <td>1</td>\n",
              "      <td>Male</td>\n",
              "      <td>19</td>\n",
              "      <td>15</td>\n",
              "      <td>39</td>\n",
              "    </tr>\n",
              "    <tr>\n",
              "      <th>1</th>\n",
              "      <td>2</td>\n",
              "      <td>Male</td>\n",
              "      <td>21</td>\n",
              "      <td>15</td>\n",
              "      <td>81</td>\n",
              "    </tr>\n",
              "    <tr>\n",
              "      <th>2</th>\n",
              "      <td>3</td>\n",
              "      <td>Female</td>\n",
              "      <td>20</td>\n",
              "      <td>16</td>\n",
              "      <td>6</td>\n",
              "    </tr>\n",
              "    <tr>\n",
              "      <th>3</th>\n",
              "      <td>4</td>\n",
              "      <td>Female</td>\n",
              "      <td>23</td>\n",
              "      <td>16</td>\n",
              "      <td>77</td>\n",
              "    </tr>\n",
              "    <tr>\n",
              "      <th>4</th>\n",
              "      <td>5</td>\n",
              "      <td>Female</td>\n",
              "      <td>31</td>\n",
              "      <td>17</td>\n",
              "      <td>40</td>\n",
              "    </tr>\n",
              "  </tbody>\n",
              "</table>\n",
              "</div>"
            ],
            "text/plain": [
              "   CustomerID   Genre  Age  Annual Income (k$)  Spending Score (1-100)\n",
              "0           1    Male   19                  15                      39\n",
              "1           2    Male   21                  15                      81\n",
              "2           3  Female   20                  16                       6\n",
              "3           4  Female   23                  16                      77\n",
              "4           5  Female   31                  17                      40"
            ]
          },
          "metadata": {
            "tags": []
          },
          "execution_count": 13
        }
      ]
    },
    {
      "cell_type": "code",
      "metadata": {
        "id": "5PUJ_dBo-hXY"
      },
      "source": [
        "data = customer_data.iloc[:, 3:5].values"
      ],
      "execution_count": 14,
      "outputs": []
    },
    {
      "cell_type": "code",
      "metadata": {
        "colab": {
          "base_uri": "https://localhost:8080/"
        },
        "id": "Z0kV6tb__yyp",
        "outputId": "bdcef3dd-7914-41b1-ea28-e1dec5ea79d1"
      },
      "source": [
        "data.shape"
      ],
      "execution_count": 21,
      "outputs": [
        {
          "output_type": "execute_result",
          "data": {
            "text/plain": [
              "(200, 2)"
            ]
          },
          "metadata": {
            "tags": []
          },
          "execution_count": 21
        }
      ]
    },
    {
      "cell_type": "code",
      "metadata": {
        "colab": {
          "base_uri": "https://localhost:8080/",
          "height": 444
        },
        "id": "iFcorM6x-tGb",
        "outputId": "e517067f-7a4b-471e-e0b3-2865947ab0a5"
      },
      "source": [
        "import scipy.cluster.hierarchy as shc\n",
        "\n",
        "plt.figure(figsize=(10, 7))\n",
        "plt.title(\"Customer Dendograms\")\n",
        "dend = shc.dendrogram(shc.linkage(data, method='ward'))"
      ],
      "execution_count": 15,
      "outputs": [
        {
          "output_type": "display_data",
          "data": {
            "image/png": "[encoded data removed]",
            "text/plain": [
              "<Figure size 720x504 with 1 Axes>"
            ]
          },
          "metadata": {
            "tags": [],
            "needs_background": "light"
          }
        }
      ]
    },
    {
      "cell_type": "code",
      "metadata": {
        "colab": {
          "base_uri": "https://localhost:8080/"
        },
        "id": "pi8pLTlb-zBP",
        "outputId": "ce080072-dfc7-4062-fda4-82376fada23d"
      },
      "source": [
        "from sklearn.cluster import AgglomerativeClustering\n",
        "\n",
        "cluster = AgglomerativeClustering(n_clusters=3, affinity='euclidean', linkage='ward')\n",
        "cluster.fit_predict(data)"
      ],
      "execution_count": 17,
      "outputs": [
        {
          "output_type": "execute_result",
          "data": {
            "text/plain": [
              "array([0, 0, 0, 0, 0, 0, 0, 0, 0, 0, 0, 0, 0, 0, 0, 0, 0, 0, 0, 0, 0, 0,\n",
              "       0, 0, 0, 0, 0, 0, 0, 0, 0, 0, 0, 0, 0, 0, 0, 0, 0, 0, 0, 0, 0, 0,\n",
              "       0, 0, 0, 0, 0, 0, 0, 0, 0, 0, 0, 0, 0, 0, 0, 0, 0, 0, 0, 0, 0, 0,\n",
              "       0, 0, 0, 0, 0, 0, 0, 0, 0, 0, 0, 0, 0, 0, 0, 0, 0, 0, 0, 0, 0, 0,\n",
              "       0, 0, 0, 0, 0, 0, 0, 0, 0, 0, 0, 0, 0, 0, 0, 0, 0, 0, 0, 0, 0, 0,\n",
              "       0, 0, 0, 0, 0, 0, 0, 0, 0, 0, 0, 0, 0, 2, 0, 2, 0, 2, 1, 2, 1, 2,\n",
              "       0, 2, 1, 2, 1, 2, 1, 2, 1, 2, 0, 2, 1, 2, 0, 2, 1, 2, 1, 2, 1, 2,\n",
              "       1, 2, 1, 2, 1, 2, 0, 2, 1, 2, 1, 2, 1, 2, 1, 2, 1, 2, 1, 2, 1, 2,\n",
              "       1, 2, 1, 2, 1, 2, 1, 2, 1, 2, 1, 2, 1, 2, 1, 2, 1, 2, 1, 2, 1, 2,\n",
              "       1, 2])"
            ]
          },
          "metadata": {
            "tags": []
          },
          "execution_count": 17
        }
      ]
    },
    {
      "cell_type": "code",
      "metadata": {
        "colab": {
          "base_uri": "https://localhost:8080/",
          "height": 445
        },
        "id": "2jzJha7S_cA-",
        "outputId": "96ca76c7-73e5-4a30-80da-e5092debc9f4"
      },
      "source": [
        "plt.figure(figsize=(10, 7))\n",
        "plt.scatter(data[:,0], data[:,1], c=cluster.labels_, cmap='rainbow')"
      ],
      "execution_count": 20,
      "outputs": [
        {
          "output_type": "execute_result",
          "data": {
            "text/plain": [
              "<matplotlib.collections.PathCollection at 0x7f19cf756a50>"
            ]
          },
          "metadata": {
            "tags": []
          },
          "execution_count": 20
        },
        {
          "output_type": "display_data",
          "data": {
            "image/png": "[encoded data removed]",
            "text/plain": [
              "<Figure size 720x504 with 1 Axes>"
            ]
          },
          "metadata": {
            "tags": [],
            "needs_background": "light"
          }
        }
      ]
    },
    {
      "cell_type": "markdown",
      "metadata": {
        "id": "D2r9Z31MDeOe"
      },
      "source": [
        "## DBScan"
      ]
    },
    {
      "cell_type": "code",
      "metadata": {
        "id": "_UoYxrn4Dg6G"
      },
      "source": [
        "from sklearn.cluster import DBSCAN\n",
        "from sklearn.datasets import make_moons"
      ],
      "execution_count": 22,
      "outputs": []
    },
    {
      "cell_type": "code",
      "metadata": {
        "id": "V3wm9eq7Fuls"
      },
      "source": [
        "X, y = make_moons(n_samples=1000, noise= 0.05)"
      ],
      "execution_count": 35,
      "outputs": []
    },
    {
      "cell_type": "code",
      "metadata": {
        "colab": {
          "base_uri": "https://localhost:8080/"
        },
        "id": "XRNCEfrEFMfV",
        "outputId": "9509e7b1-57f7-42da-8b34-9fa3b87869b0"
      },
      "source": [
        "X.shape"
      ],
      "execution_count": 34,
      "outputs": [
        {
          "output_type": "execute_result",
          "data": {
            "text/plain": [
              "(1000, 2)"
            ]
          },
          "metadata": {
            "tags": []
          },
          "execution_count": 34
        }
      ]
    },
    {
      "cell_type": "code",
      "metadata": {
        "colab": {
          "base_uri": "https://localhost:8080/"
        },
        "id": "P-lejlWBDqat",
        "outputId": "815ac664-e298-4708-e926-7e37d557b45c"
      },
      "source": [
        "\n",
        "dbscan = DBSCAN(eps = 0.05, min_samples=3)\n",
        "dbscan.fit(X)"
      ],
      "execution_count": 52,
      "outputs": [
        {
          "output_type": "execute_result",
          "data": {
            "text/plain": [
              "DBSCAN(algorithm='auto', eps=0.05, leaf_size=30, metric='euclidean',\n",
              "       metric_params=None, min_samples=3, n_jobs=None, p=None)"
            ]
          },
          "metadata": {
            "tags": []
          },
          "execution_count": 52
        }
      ]
    },
    {
      "cell_type": "code",
      "metadata": {
        "colab": {
          "base_uri": "https://localhost:8080/"
        },
        "id": "METrgwX-D8cA",
        "outputId": "4ead9f2d-17d4-405e-ec4d-862ef763555c"
      },
      "source": [
        "dbscan.labels_"
      ],
      "execution_count": 53,
      "outputs": [
        {
          "output_type": "execute_result",
          "data": {
            "text/plain": [
              "array([ 0,  1,  1,  2,  3, -1,  4,  0,  5,  4,  0,  0,  1,  1,  0,  1,  0,\n",
              "        5,  5,  3,  0,  4,  3,  5,  1, -1, -1,  1, -1,  5,  5,  4,  1,  0,\n",
              "        0,  0,  3,  3,  4,  0,  0,  5,  3,  0,  0,  5,  4,  1,  3,  0,  3,\n",
              "        0,  1,  1,  0,  0,  0,  6,  5,  5,  3,  0,  1,  5,  3,  5,  4,  3,\n",
              "        4,  2,  3,  4,  5,  0,  5,  0,  0,  0,  2,  0,  3, -1,  0,  4,  4,\n",
              "        0,  1,  5,  4,  3,  0,  3,  0,  0,  4,  5,  4,  0, -1,  4,  5,  4,\n",
              "        1,  0,  0,  0,  3,  4,  3,  5,  4,  5,  1,  5,  0,  0,  1,  0,  1,\n",
              "        5,  1,  3,  4,  0, -1,  2, -1,  0,  3,  5,  3,  5,  4,  0,  0,  0,\n",
              "        0,  4,  5, -1,  0,  4,  3,  7,  6,  1,  3,  3,  4,  1,  4,  5,  0,\n",
              "        1,  0,  0, -1,  1,  4,  1, -1,  4,  1,  2,  4,  8, -1,  5,  0,  3,\n",
              "        0,  5,  0,  0,  3,  5,  5,  4,  5,  0,  5,  2,  3, -1,  1,  5,  5,\n",
              "        3,  1, -1,  0,  3, -1,  3,  4,  4,  1,  1,  0,  0,  4,  4,  4,  8,\n",
              "       -1,  5,  0,  4,  0,  0,  5,  0,  0,  1,  3,  0,  4,  5,  0,  0,  5,\n",
              "        0,  1,  4,  1,  0,  5,  4,  2,  5,  5,  5,  5,  5,  5, -1,  4,  0,\n",
              "        4,  0,  5,  0,  3,  4,  3,  4,  4,  5,  0,  4,  0,  5,  0,  5,  0,\n",
              "        5,  5,  0,  0,  3,  3,  4,  1,  4,  0,  5,  4,  1,  3,  4,  4,  5,\n",
              "        4,  0,  1,  4,  5,  5,  9,  5,  1,  0,  0,  3,  5,  0, -1,  0,  4,\n",
              "        4,  5,  0,  0,  4,  5,  0,  0,  4,  2,  0,  0,  4,  2,  3,  0,  3,\n",
              "        3,  3,  4,  3,  0,  4,  4,  5,  3,  9,  5,  3,  3,  2,  0,  4,  1,\n",
              "        0,  0,  0,  0,  2,  3,  0,  4,  4,  1,  2, 10,  1,  0,  0,  3,  7,\n",
              "        0,  4,  0,  4,  0,  1,  3,  4,  3, 10,  0, 10,  1,  0,  5,  0,  1,\n",
              "        0,  3,  5,  3,  5,  4,  0,  0,  1,  4,  0,  0,  1,  0,  7,  5,  0,\n",
              "        0,  2,  0,  0,  4,  3,  5,  0,  3,  1,  0,  3,  0,  3,  4,  5,  3,\n",
              "        5,  0,  3,  0,  4,  1,  3,  0,  0,  0,  0,  0,  3,  4,  1,  1,  4,\n",
              "        0,  0,  0,  0,  1,  3,  4,  4,  0,  3,  3,  1,  0,  3,  4,  3,  1,\n",
              "        3,  0,  4,  4,  1,  0,  0,  3,  0,  0,  4,  5,  1,  0,  4,  0,  0,\n",
              "        0,  1,  0,  0,  0,  0,  1,  3,  3,  3,  0,  0,  4,  3,  0,  0,  5,\n",
              "        0,  0,  3,  4,  0,  0,  0,  4,  5,  3,  0,  1,  0,  4,  1,  0,  0,\n",
              "        3,  3,  4,  0,  0,  0,  2,  3,  0,  5,  4,  0,  4,  0,  0,  2,  3,\n",
              "        3,  0,  3,  0,  4,  5,  1,  5,  4,  4,  4,  0,  3,  1,  3,  5,  3,\n",
              "        4,  4,  0,  4,  2,  1, -1,  0,  0,  0,  1,  2,  0,  0,  0,  0,  5,\n",
              "        4,  1,  3,  0,  5,  3,  1,  4, -1,  3,  5,  1,  8,  4,  0,  4,  0,\n",
              "        4,  4,  5,  0,  4,  4,  0,  0,  5,  4,  0,  3,  2,  0,  3,  4,  5,\n",
              "        0,  0, -1,  0,  0,  0,  0,  5,  4,  1,  0,  4,  1,  4,  5, -1,  0,\n",
              "        4,  0,  3, -1,  0,  4,  0,  5,  4,  3,  0,  3, -1,  5,  0,  5,  3,\n",
              "        0,  3,  1,  9,  3, -1, -1,  0,  1,  0,  0,  0,  3,  0,  0,  6,  1,\n",
              "        2,  5,  4,  0,  1,  3,  4,  4,  4,  4,  5,  0,  0,  0,  4,  3,  4,\n",
              "        4,  4,  5,  0,  3,  0,  0,  4,  0,  3,  4,  0,  4,  0,  1,  3,  1,\n",
              "       -1,  5,  3,  0,  0,  3,  0,  4,  5,  0,  4,  4,  1,  0,  4,  0,  3,\n",
              "        0,  0,  4, -1,  3,  5,  1,  0,  4,  0,  1,  0, -1,  0,  4,  1,  0,\n",
              "        0,  1, -1,  5,  0,  2,  0,  0,  0,  0,  4,  0,  1,  0,  1,  1,  4,\n",
              "        1,  5,  5,  0,  3,  4,  3,  1,  0,  0,  3, -1,  3,  0,  0,  0,  4,\n",
              "        3,  4,  0,  3,  5, -1, -1,  0,  0,  3,  1,  3,  3,  1,  0,  4, -1,\n",
              "        4,  1,  1,  4,  4,  5,  5,  0,  3,  0,  0,  0,  4,  0,  4,  5,  4,\n",
              "        5,  0,  1,  4, -1,  1,  0,  3,  5,  1,  0,  0,  2,  5,  3,  4,  5,\n",
              "        0,  1,  0,  5,  0,  0,  1,  3,  0,  5,  1,  0,  0,  3,  5,  0,  1,\n",
              "        5,  4,  3,  4,  0,  0,  4,  0,  0,  4,  4,  0,  0,  0,  5,  0,  3,\n",
              "        4,  5,  4,  2,  4,  9,  4,  4,  3,  3, -1,  3,  5,  4,  4,  3,  0,\n",
              "        0,  0, -1,  1,  0,  0,  0,  0,  4,  1, -1,  4,  5,  3,  0,  5,  5,\n",
              "        1,  0, -1,  0,  4,  4,  3,  0,  0,  0,  3,  4,  4,  0,  0,  1,  0,\n",
              "        5,  5,  1,  3,  4,  2,  3,  4,  0,  5,  3,  0,  3,  2,  0,  4,  0,\n",
              "       -1,  0,  5,  0,  0,  0,  1,  3,  3,  3,  1,  4,  5,  0,  7,  0,  4,\n",
              "        1,  0,  5,  4,  4,  4,  4,  0,  4, -1,  4,  0,  5,  0, -1,  0,  0,\n",
              "        3,  1,  0,  4,  3,  4,  4,  0,  3,  3,  1,  4,  3,  0,  0,  3, -1,\n",
              "        4,  0,  1,  1,  0,  0,  1,  4,  0, -1,  0,  1,  2,  1,  1,  0,  0,\n",
              "        0,  1,  4,  1,  4,  4,  0,  3,  5,  0,  4,  4,  4,  0,  0,  3,  0,\n",
              "        0,  2,  4,  0,  5,  0,  4,  3,  3,  5,  4,  0,  4,  1,  1,  3,  5,\n",
              "        4,  3,  5,  4,  0,  3,  5,  3,  1,  5,  0,  3,  5,  5,  5,  1,  5,\n",
              "        5,  0,  1,  4, 10,  0,  5,  0,  3,  5,  0,  0,  0,  0])"
            ]
          },
          "metadata": {
            "tags": []
          },
          "execution_count": 53
        }
      ]
    },
    {
      "cell_type": "code",
      "metadata": {
        "colab": {
          "base_uri": "https://localhost:8080/"
        },
        "id": "WKOMdW9VEAFg",
        "outputId": "a1d4773b-83c0-492f-87f8-0a9f67ba86b7"
      },
      "source": [
        "len(dbscan.core_sample_indices_)"
      ],
      "execution_count": 54,
      "outputs": [
        {
          "output_type": "execute_result",
          "data": {
            "text/plain": [
              "922"
            ]
          },
          "metadata": {
            "tags": []
          },
          "execution_count": 54
        }
      ]
    },
    {
      "cell_type": "code",
      "metadata": {
        "colab": {
          "base_uri": "https://localhost:8080/"
        },
        "id": "3EOsHivNGXtU",
        "outputId": "8a24ccdb-228c-474d-b34f-beefdd57106b"
      },
      "source": [
        "dbscan.core_sample_indices_"
      ],
      "execution_count": 55,
      "outputs": [
        {
          "output_type": "execute_result",
          "data": {
            "text/plain": [
              "array([  0,   1,   2,   3,   4,   6,   7,   8,   9,  10,  11,  12,  13,\n",
              "        14,  15,  16,  18,  19,  20,  21,  22,  23,  24,  27,  29,  30,\n",
              "        31,  32,  33,  34,  35,  36,  38,  39,  40,  41,  42,  43,  44,\n",
              "        45,  46,  47,  48,  49,  51,  52,  53,  54,  55,  56,  57,  58,\n",
              "        59,  60,  61,  62,  63,  64,  65,  66,  67,  68,  69,  70,  71,\n",
              "        72,  73,  74,  75,  76,  77,  78,  79,  80,  82,  83,  84,  85,\n",
              "        86,  87,  88,  89,  90,  91,  92,  93,  94,  95,  96,  97,  99,\n",
              "       100, 101, 102, 103, 104, 105, 106, 107, 108, 109, 110, 111, 112,\n",
              "       113, 114, 115, 117, 118, 120, 121, 122, 123, 125, 128, 129, 130,\n",
              "       131, 132, 133, 134, 135, 136, 137, 138, 140, 141, 142, 143, 144,\n",
              "       145, 146, 147, 148, 149, 151, 152, 153, 154, 155, 157, 158, 159,\n",
              "       161, 162, 163, 164, 165, 167, 168, 169, 170, 171, 172, 173, 174,\n",
              "       176, 177, 178, 179, 180, 182, 184, 185, 186, 187, 188, 190, 191,\n",
              "       193, 194, 195, 196, 197, 198, 199, 200, 201, 202, 203, 207, 208,\n",
              "       209, 210, 211, 212, 213, 214, 215, 216, 217, 218, 220, 221, 222,\n",
              "       223, 224, 225, 226, 227, 228, 229, 230, 231, 232, 233, 234, 236,\n",
              "       237, 238, 239, 240, 241, 242, 243, 244, 245, 246, 247, 248, 249,\n",
              "       250, 251, 252, 253, 254, 255, 256, 257, 258, 259, 260, 261, 262,\n",
              "       263, 264, 265, 266, 268, 269, 270, 271, 272, 273, 274, 275, 276,\n",
              "       277, 278, 279, 280, 281, 282, 283, 284, 285, 287, 288, 289, 290,\n",
              "       291, 292, 293, 294, 295, 296, 297, 298, 299, 300, 301, 302, 303,\n",
              "       304, 305, 306, 307, 308, 309, 310, 311, 312, 313, 314, 316, 318,\n",
              "       319, 320, 321, 322, 323, 324, 325, 326, 327, 328, 329, 330, 331,\n",
              "       332, 333, 334, 335, 336, 337, 338, 340, 341, 342, 343, 344, 345,\n",
              "       346, 347, 348, 349, 350, 351, 352, 353, 354, 355, 356, 357, 358,\n",
              "       359, 360, 361, 362, 363, 364, 365, 366, 367, 368, 369, 370, 371,\n",
              "       372, 373, 374, 375, 376, 377, 378, 379, 380, 381, 382, 383, 384,\n",
              "       385, 386, 387, 388, 389, 390, 391, 392, 393, 394, 395, 396, 397,\n",
              "       398, 399, 400, 401, 403, 404, 405, 406, 407, 408, 409, 410, 411,\n",
              "       412, 413, 414, 415, 416, 417, 418, 419, 420, 421, 422, 423, 424,\n",
              "       425, 426, 427, 428, 429, 430, 431, 432, 433, 434, 435, 436, 437,\n",
              "       438, 439, 440, 441, 442, 443, 444, 445, 446, 447, 448, 449, 450,\n",
              "       451, 452, 453, 454, 455, 456, 457, 458, 459, 460, 461, 462, 463,\n",
              "       464, 465, 466, 467, 468, 469, 470, 471, 472, 473, 474, 475, 476,\n",
              "       477, 478, 479, 480, 481, 482, 483, 484, 485, 486, 487, 488, 489,\n",
              "       490, 492, 493, 494, 495, 496, 497, 498, 499, 500, 501, 502, 503,\n",
              "       504, 505, 506, 507, 508, 509, 510, 511, 512, 513, 514, 515, 517,\n",
              "       518, 519, 520, 521, 522, 523, 524, 525, 526, 527, 528, 529, 530,\n",
              "       531, 532, 533, 534, 536, 537, 538, 539, 540, 541, 542, 543, 544,\n",
              "       545, 546, 547, 548, 549, 550, 551, 552, 553, 554, 555, 556, 557,\n",
              "       558, 559, 560, 561, 562, 564, 565, 566, 567, 568, 569, 570, 571,\n",
              "       572, 573, 574, 575, 577, 578, 579, 580, 582, 583, 584, 585, 586,\n",
              "       587, 588, 589, 591, 592, 593, 594, 596, 597, 599, 602, 603, 604,\n",
              "       605, 606, 607, 609, 610, 611, 612, 613, 614, 615, 616, 617, 618,\n",
              "       619, 620, 621, 622, 623, 624, 625, 626, 627, 628, 629, 630, 631,\n",
              "       632, 633, 634, 635, 636, 637, 638, 639, 640, 641, 642, 643, 647,\n",
              "       648, 649, 650, 651, 652, 653, 654, 655, 656, 657, 658, 659, 660,\n",
              "       661, 662, 663, 664, 667, 668, 669, 670, 671, 672, 673, 674, 676,\n",
              "       677, 678, 679, 680, 681, 683, 684, 685, 686, 687, 688, 689, 690,\n",
              "       691, 692, 693, 694, 695, 696, 697, 698, 699, 700, 701, 702, 703,\n",
              "       704, 705, 706, 707, 709, 710, 711, 712, 713, 714, 715, 716, 718,\n",
              "       721, 722, 723, 724, 725, 726, 727, 728, 729, 731, 732, 734, 735,\n",
              "       736, 737, 738, 739, 740, 741, 742, 744, 745, 746, 747, 748, 749,\n",
              "       750, 751, 753, 754, 756, 757, 758, 759, 760, 761, 762, 763, 764,\n",
              "       765, 767, 768, 769, 770, 771, 773, 774, 775, 776, 777, 778, 779,\n",
              "       780, 781, 782, 783, 784, 785, 786, 787, 788, 789, 790, 791, 792,\n",
              "       793, 794, 795, 796, 797, 798, 799, 800, 801, 802, 803, 804, 805,\n",
              "       806, 807, 808, 810, 811, 812, 813, 814, 815, 816, 817, 819, 820,\n",
              "       821, 822, 823, 824, 825, 827, 828, 829, 830, 831, 832, 833, 834,\n",
              "       836, 837, 838, 839, 840, 841, 842, 843, 844, 845, 846, 847, 848,\n",
              "       849, 850, 851, 852, 853, 854, 855, 856, 857, 858, 859, 860, 861,\n",
              "       862, 863, 864, 865, 868, 869, 870, 871, 872, 873, 874, 875, 876,\n",
              "       877, 878, 879, 880, 882, 883, 884, 885, 886, 887, 888, 889, 890,\n",
              "       891, 894, 895, 896, 897, 899, 900, 902, 903, 904, 905, 906, 907,\n",
              "       908, 909, 910, 911, 912, 913, 914, 915, 916, 918, 919, 920, 921,\n",
              "       922, 923, 924, 925, 926, 928, 929, 930, 931, 932, 933, 934, 935,\n",
              "       936, 937, 938, 939, 940, 941, 942, 943, 944, 945, 946, 947, 948,\n",
              "       949, 950, 951, 952, 953, 954, 955, 956, 957, 958, 959, 960, 961,\n",
              "       962, 963, 964, 965, 966, 967, 968, 969, 970, 971, 972, 973, 974,\n",
              "       975, 976, 977, 978, 979, 980, 981, 982, 983, 984, 985, 986, 987,\n",
              "       988, 989, 990, 991, 992, 993, 994, 995, 996, 997, 998, 999])"
            ]
          },
          "metadata": {
            "tags": []
          },
          "execution_count": 55
        }
      ]
    },
    {
      "cell_type": "code",
      "metadata": {
        "colab": {
          "base_uri": "https://localhost:8080/"
        },
        "id": "0ia-Vo3-Gixl",
        "outputId": "9a3b56a7-84e4-423f-e124-97188825701c"
      },
      "source": [
        "dbscan.components_"
      ],
      "execution_count": 56,
      "outputs": [
        {
          "output_type": "execute_result",
          "data": {
            "text/plain": [
              "array([[ 0.77288387,  0.61052415],\n",
              "       [ 1.00564224, -0.41655201],\n",
              "       [ 0.51559998, -0.34723462],\n",
              "       ...,\n",
              "       [ 0.91935675,  0.11763695],\n",
              "       [ 0.93135174,  0.13697006],\n",
              "       [ 0.78310932,  0.56231147]])"
            ]
          },
          "metadata": {
            "tags": []
          },
          "execution_count": 56
        }
      ]
    },
    {
      "cell_type": "code",
      "metadata": {
        "id": "VoSKxrUcGtKd"
      },
      "source": [
        "from sklearn.neighbors import KNeighborsClassifier"
      ],
      "execution_count": 47,
      "outputs": []
    },
    {
      "cell_type": "code",
      "metadata": {
        "id": "cvBts8V0HajM"
      },
      "source": [
        "knn = KNeighborsClassifier(n_neighbors=50)"
      ],
      "execution_count": 48,
      "outputs": []
    },
    {
      "cell_type": "code",
      "metadata": {
        "colab": {
          "base_uri": "https://localhost:8080/"
        },
        "id": "fFkLAEYuHgGI",
        "outputId": "43bf0b95-5236-4439-902f-bf5dd514373e"
      },
      "source": [
        "knn.fit(dbscan.components_, dbscan.labels_[dbscan.core_sample_indices_])"
      ],
      "execution_count": 57,
      "outputs": [
        {
          "output_type": "execute_result",
          "data": {
            "text/plain": [
              "KNeighborsClassifier(algorithm='auto', leaf_size=30, metric='minkowski',\n",
              "                     metric_params=None, n_jobs=None, n_neighbors=50, p=2,\n",
              "                     weights='uniform')"
            ]
          },
          "metadata": {
            "tags": []
          },
          "execution_count": 57
        }
      ]
    },
    {
      "cell_type": "code",
      "metadata": {
        "id": "EjsQrW-VHtm3"
      },
      "source": [
        "X_new = np.array([[-0.5, 0],[1.0, 2]])"
      ],
      "execution_count": 58,
      "outputs": []
    },
    {
      "cell_type": "code",
      "metadata": {
        "colab": {
          "base_uri": "https://localhost:8080/"
        },
        "id": "CCDcPwWIIDUH",
        "outputId": "1dc7a5d9-9ef0-45f1-fcd1-c5ff041d872f"
      },
      "source": [
        "knn.predict(X_new)"
      ],
      "execution_count": 59,
      "outputs": [
        {
          "output_type": "execute_result",
          "data": {
            "text/plain": [
              "array([3, 0])"
            ]
          },
          "metadata": {
            "tags": []
          },
          "execution_count": 59
        }
      ]
    },
    {
      "cell_type": "code",
      "metadata": {
        "id": "yN7dBOFtIG3h"
      },
      "source": [
        ""
      ],
      "execution_count": null,
      "outputs": []
    }
  ]
}