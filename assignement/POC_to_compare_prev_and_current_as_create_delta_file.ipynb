{
  "nbformat": 4,
  "nbformat_minor": 0,
  "metadata": {
    "colab": {
      "name": "POC to compare prev and current as create delta file.ipynb",
      "provenance": [],
      "collapsed_sections": []
    },
    "kernelspec": {
      "name": "python3",
      "display_name": "Python 3"
    }
  },
  "cells": [
    {
      "cell_type": "code",
      "metadata": {
        "id": "etaXryT1AwjU"
      },
      "source": [
        "import pandas as pd"
      ],
      "execution_count": 2,
      "outputs": []
    },
    {
      "cell_type": "code",
      "metadata": {
        "id": "gDNDA_gkgSHD"
      },
      "source": [
        "# Prev version\r\n",
        "data1 = pd.DataFrame({\r\n",
        "    \"associate_id\" : [1001, 1001, 1001, 1002, 1002, 1002, 1003, 1003, 1003],\r\n",
        "    \"activity_pk\"  : [2001, 2002, 2003, 2002, 2004, 2005, 2003, 2005, 2001],\r\n",
        "    \"rank\" : [1,2,3,1,2,3,1,2,3]\r\n",
        "    })"
      ],
      "execution_count": 3,
      "outputs": []
    },
    {
      "cell_type": "code",
      "metadata": {
        "id": "-fxvxVaQg0Eb"
      },
      "source": [
        "# Current version\r\n",
        "data2 = pd.DataFrame({\r\n",
        "    \"associate_id\" : [1002, 1002, 1002, 1003, 1003, 1003, 1003, 1004],\r\n",
        "    \"activity_pk\"  : [2022, 2024, 2005, 2003, 2005, 2001, 2006, 2001],\r\n",
        "    \"rank\" : [1,2,3,1,2,3,4,1]\r\n",
        "    })"
      ],
      "execution_count": 4,
      "outputs": []
    },
    {
      "cell_type": "code",
      "metadata": {
        "id": "pjAZS3ifhkPY"
      },
      "source": [
        "class DataRestruct:\r\n",
        "  def __init__(self, data):\r\n",
        "    self.data = data\r\n",
        "    self.associate_id_list = list(set(data['associate_id']))\r\n",
        "\r\n",
        "  def activity_reshape(self, associate_id):\r\n",
        "    activity_pk_list = list(self.data['activity_pk'][self.data['associate_id'] == associate_id])\r\n",
        "    return str(activity_pk_list).strip(\"[]\")\r\n",
        "\r\n",
        "  def rank_reshape(self, associate_id):\r\n",
        "    rank_list = list(self.data['rank'][self.data['associate_id'] == associate_id])\r\n",
        "    return str(rank_list).strip(\"[]\")"
      ],
      "execution_count": 14,
      "outputs": []
    },
    {
      "cell_type": "code",
      "metadata": {
        "id": "2Y_rwhT6jTpZ"
      },
      "source": [
        "# Previous Dataset\r\n",
        "data_obj1 = DataRestruct(data1)\r\n",
        "\r\n",
        "id_list = data_obj1.associate_id_list\r\n",
        "\r\n",
        "activity_pk = []\r\n",
        "rank = []\r\n",
        "for id in id_list:\r\n",
        "  activity_pk.append(data_obj1.activity_reshape(id))\r\n",
        "  rank.append(data_obj1.rank_reshape(id))\r\n",
        "\r\n",
        "new_data1 = pd.DataFrame({\r\n",
        "    'associate_id' : id_list,\r\n",
        "    'activity_pk' : activity_pk,\r\n",
        "    'rank' : rank\r\n",
        "})\r\n",
        "\r\n",
        "# Current Dataset\r\n",
        "data_obj2 = DataRestruct(data2)\r\n",
        "\r\n",
        "id_list = data_obj2.associate_id_list\r\n",
        "\r\n",
        "activity_pk = []\r\n",
        "rank = []\r\n",
        "for id in id_list:\r\n",
        "  activity_pk.append(data_obj2.activity_reshape(id))\r\n",
        "  rank.append(data_obj2.rank_reshape(id))\r\n",
        "\r\n",
        "new_data2 = pd.DataFrame({\r\n",
        "    'associate_id' : id_list,\r\n",
        "    'activity_pk' : activity_pk,\r\n",
        "    'rank' : rank\r\n",
        "})"
      ],
      "execution_count": 18,
      "outputs": []
    },
    {
      "cell_type": "code",
      "metadata": {
        "colab": {
          "base_uri": "https://localhost:8080/"
        },
        "id": "XyWyNmTKlm71",
        "outputId": "fe26712f-c012-441f-c29a-668757f97c77"
      },
      "source": [
        "new_data1, new_data2"
      ],
      "execution_count": 19,
      "outputs": [
        {
          "output_type": "execute_result",
          "data": {
            "text/plain": [
              "(   associate_id       activity_pk     rank\n",
              " 0          1001  2001, 2002, 2003  1, 2, 3\n",
              " 1          1002  2002, 2004, 2005  1, 2, 3\n",
              " 2          1003  2003, 2005, 2001  1, 2, 3,\n",
              "    associate_id             activity_pk        rank\n",
              " 0          1002        2022, 2024, 2005     1, 2, 3\n",
              " 1          1003  2003, 2005, 2001, 2006  1, 2, 3, 4\n",
              " 2          1004                    2001           1)"
            ]
          },
          "metadata": {
            "tags": []
          },
          "execution_count": 19
        }
      ]
    },
    {
      "cell_type": "code",
      "metadata": {
        "colab": {
          "base_uri": "https://localhost:8080/",
          "height": 136
        },
        "id": "-T8bun18olkA",
        "outputId": "9a815520-2a2b-4ddc-a53c-36c008f90047"
      },
      "source": [
        "new_data1.merge(new_data2, on=['associate_id'], how='right')"
      ],
      "execution_count": 20,
      "outputs": [
        {
          "output_type": "execute_result",
          "data": {
            "text/html": [
              "<div>\n",
              "<style scoped>\n",
              "    .dataframe tbody tr th:only-of-type {\n",
              "        vertical-align: middle;\n",
              "    }\n",
              "\n",
              "    .dataframe tbody tr th {\n",
              "        vertical-align: top;\n",
              "    }\n",
              "\n",
              "    .dataframe thead th {\n",
              "        text-align: right;\n",
              "    }\n",
              "</style>\n",
              "<table border=\"1\" class=\"dataframe\">\n",
              "  <thead>\n",
              "    <tr style=\"text-align: right;\">\n",
              "      <th></th>\n",
              "      <th>associate_id</th>\n",
              "      <th>activity_pk_x</th>\n",
              "      <th>rank_x</th>\n",
              "      <th>activity_pk_y</th>\n",
              "      <th>rank_y</th>\n",
              "    </tr>\n",
              "  </thead>\n",
              "  <tbody>\n",
              "    <tr>\n",
              "      <th>0</th>\n",
              "      <td>1002</td>\n",
              "      <td>2002, 2004, 2005</td>\n",
              "      <td>1, 2, 3</td>\n",
              "      <td>2022, 2024, 2005</td>\n",
              "      <td>1, 2, 3</td>\n",
              "    </tr>\n",
              "    <tr>\n",
              "      <th>1</th>\n",
              "      <td>1003</td>\n",
              "      <td>2003, 2005, 2001</td>\n",
              "      <td>1, 2, 3</td>\n",
              "      <td>2003, 2005, 2001, 2006</td>\n",
              "      <td>1, 2, 3, 4</td>\n",
              "    </tr>\n",
              "    <tr>\n",
              "      <th>2</th>\n",
              "      <td>1004</td>\n",
              "      <td>NaN</td>\n",
              "      <td>NaN</td>\n",
              "      <td>2001</td>\n",
              "      <td>1</td>\n",
              "    </tr>\n",
              "  </tbody>\n",
              "</table>\n",
              "</div>"
            ],
            "text/plain": [
              "   associate_id     activity_pk_x   rank_x           activity_pk_y      rank_y\n",
              "0          1002  2002, 2004, 2005  1, 2, 3        2022, 2024, 2005     1, 2, 3\n",
              "1          1003  2003, 2005, 2001  1, 2, 3  2003, 2005, 2001, 2006  1, 2, 3, 4\n",
              "2          1004               NaN      NaN                    2001           1"
            ]
          },
          "metadata": {
            "tags": []
          },
          "execution_count": 20
        }
      ]
    }
  ]
}