{
  "nbformat": 4,
  "nbformat_minor": 0,
  "metadata": {
    "colab": {
      "name": "Practice Python Day# 22.ipynb",
      "provenance": [],
      "collapsed_sections": []
    },
    "kernelspec": {
      "name": "python3",
      "display_name": "Python 3"
    }
  },
  "cells": [
    {
      "cell_type": "markdown",
      "metadata": {
        "id": "HXZD9ioMLxl9"
      },
      "source": [
        "## Polynomial Regression"
      ]
    },
    {
      "cell_type": "code",
      "metadata": {
        "id": "iX1ITWNJLxKE"
      },
      "source": [
        "import numpy as np"
      ],
      "execution_count": 1,
      "outputs": []
    },
    {
      "cell_type": "code",
      "metadata": {
        "id": "wy0vo3EiLxBM"
      },
      "source": [
        "m = 100\r\n",
        "X = 6 * np.random.rand(m, 1) - 3\r\n",
        "y = 0.5 * X**2 + X + 2 + np.random.randn(m, 1)"
      ],
      "execution_count": 2,
      "outputs": []
    },
    {
      "cell_type": "code",
      "metadata": {
        "colab": {
          "base_uri": "https://localhost:8080/"
        },
        "id": "SAJrzF90LwnN",
        "outputId": "f0e0b1eb-fd75-48df-a408-45b9b8a71444"
      },
      "source": [
        "from sklearn.preprocessing import PolynomialFeatures\r\n",
        "\r\n",
        "poly_features = PolynomialFeatures(degree=2, include_bias = False)\r\n",
        "X_poly = poly_features.fit_transform(X)\r\n",
        "\r\n",
        "X[0], X_poly[0]"
      ],
      "execution_count": 7,
      "outputs": [
        {
          "output_type": "execute_result",
          "data": {
            "text/plain": [
              "(array([-2.09830657]), array([-2.09830657,  4.40289046]))"
            ]
          },
          "metadata": {
            "tags": []
          },
          "execution_count": 7
        }
      ]
    },
    {
      "cell_type": "code",
      "metadata": {
        "colab": {
          "base_uri": "https://localhost:8080/"
        },
        "id": "ObDZ1BUgNwgk",
        "outputId": "eac9e4cc-c422-40f1-aba8-fe00de7591fe"
      },
      "source": [
        "from sklearn.linear_model import LinearRegression\r\n",
        "\r\n",
        "lin_reg = LinearRegression()\r\n",
        "lin_reg.fit(X_poly, y)\r\n",
        "lin_reg.intercept_, lin_reg.coef_"
      ],
      "execution_count": 8,
      "outputs": [
        {
          "output_type": "execute_result",
          "data": {
            "text/plain": [
              "(array([2.08788329]), array([[0.96914194, 0.48241085]]))"
            ]
          },
          "metadata": {
            "tags": []
          },
          "execution_count": 8
        }
      ]
    },
    {
      "cell_type": "code",
      "metadata": {
        "colab": {
          "base_uri": "https://localhost:8080/"
        },
        "id": "OyDHZOmPQYng",
        "outputId": "60db7634-a8b3-4104-c5b5-2edbee5fe0a6"
      },
      "source": [
        "lin_reg1 = LinearRegression()\r\n",
        "lin_reg1.fit(X, y)\r\n",
        "lin_reg1.intercept_, lin_reg.coef_"
      ],
      "execution_count": 14,
      "outputs": [
        {
          "output_type": "execute_result",
          "data": {
            "text/plain": [
              "(array([3.58020652]), array([[0.96914194, 0.48241085]]))"
            ]
          },
          "metadata": {
            "tags": []
          },
          "execution_count": 14
        }
      ]
    },
    {
      "cell_type": "code",
      "metadata": {
        "colab": {
          "base_uri": "https://localhost:8080/",
          "height": 282
        },
        "id": "1uuXFFrgNwcd",
        "outputId": "6554d337-158e-4e22-e6ce-7e16c9151d61"
      },
      "source": [
        "import matplotlib.pyplot as plt\r\n",
        "\r\n",
        "plt.plot(X, y, 'g.')\r\n",
        "x_new = np.array([-3, -2, -1, 0, 1, 2, 3])\r\n",
        "y_hat = 0.48 * x_new**2 + x_new * 0.97 + 2.08\r\n",
        "y_hat1 = 0.48 * x_new + x_new * 0.97 + 3.58\r\n",
        "plt.plot(x_new, y_hat, 'r-')\r\n",
        "plt.plot(x_new, y_hat1, 'b-')"
      ],
      "execution_count": 16,
      "outputs": [
        {
          "output_type": "execute_result",
          "data": {
            "text/plain": [
              "[<matplotlib.lines.Line2D at 0x7f6807bf7050>]"
            ]
          },
          "metadata": {
            "tags": []
          },
          "execution_count": 16
        },
        {
          "output_type": "display_data",
          "data": {
            "image/png": "[encoded data removed]",
            "text/plain": [
              "<Figure size 432x288 with 1 Axes>"
            ]
          },
          "metadata": {
            "tags": [],
            "needs_background": "light"
          }
        }
      ]
    },
    {
      "cell_type": "code",
      "metadata": {
        "id": "8J6EzF7SNwZN"
      },
      "source": [
        "x_n = np.linspace(-3,3,num=30)\r\n",
        "x_new = [[i] for i in x_n]\r\n",
        "\r\n",
        "x_npoly = poly_features.fit_transform(x_new)"
      ],
      "execution_count": 12,
      "outputs": []
    },
    {
      "cell_type": "code",
      "metadata": {
        "colab": {
          "base_uri": "https://localhost:8080/",
          "height": 265
        },
        "id": "VW15V0luNwKE",
        "outputId": "e960f2eb-ba2a-4a76-bfc0-71ae6d1ce47c"
      },
      "source": [
        "y_hat = lin_reg.predict(x_npoly)\r\n",
        "plt.plot(X, y, 'g.')\r\n",
        "plt.plot(x_new, y_hat, 'r-')\r\n",
        "plt.show()"
      ],
      "execution_count": 13,
      "outputs": [
        {
          "output_type": "display_data",
          "data": {
            "image/png": "[encoded data removed]",
            "text/plain": [
              "<Figure size 432x288 with 1 Axes>"
            ]
          },
          "metadata": {
            "tags": [],
            "needs_background": "light"
          }
        }
      ]
    },
    {
      "cell_type": "markdown",
      "metadata": {
        "id": "heXZi4G0LAd7"
      },
      "source": [
        "## Regularization"
      ]
    },
    {
      "cell_type": "code",
      "metadata": {
        "id": "gtoyHc-ERtS6"
      },
      "source": [
        "m = 100\r\n",
        "X = 6 * np.random.rand(m, 1) - 3\r\n",
        "y = 0.5 * X + 2 + np.random.randn(m, 1)"
      ],
      "execution_count": 17,
      "outputs": []
    },
    {
      "cell_type": "code",
      "metadata": {
        "colab": {
          "base_uri": "https://localhost:8080/"
        },
        "id": "8z28ghidSoOn",
        "outputId": "47b2fe81-40f0-4fb3-ce6c-3caeae6f9c66"
      },
      "source": [
        "from sklearn.linear_model import LinearRegression\r\n",
        "\r\n",
        "lin_reg = LinearRegression()\r\n",
        "lin_reg.fit(X, y)\r\n",
        "lin_reg.predict([[1.5]]) # y_hat"
      ],
      "execution_count": 19,
      "outputs": [
        {
          "output_type": "execute_result",
          "data": {
            "text/plain": [
              "array([[2.85986875]])"
            ]
          },
          "metadata": {
            "tags": []
          },
          "execution_count": 19
        }
      ]
    },
    {
      "cell_type": "markdown",
      "metadata": {
        "id": "ztlOcLskRc-x"
      },
      "source": [
        "#### Ridge Regression"
      ]
    },
    {
      "cell_type": "code",
      "metadata": {
        "colab": {
          "base_uri": "https://localhost:8080/"
        },
        "id": "T_QeCofgKzTl",
        "outputId": "bb270103-30fd-4e24-ef71-fada775a9531"
      },
      "source": [
        "from sklearn.linear_model import Ridge\r\n",
        "ridge_reg = Ridge(alpha = 1, solver=\"cholesky\")\r\n",
        "ridge_reg.fit(X, y)\r\n",
        "ridge_reg.predict([[1.5]]) # y_hat"
      ],
      "execution_count": 18,
      "outputs": [
        {
          "output_type": "execute_result",
          "data": {
            "text/plain": [
              "array([[2.8569748]])"
            ]
          },
          "metadata": {
            "tags": []
          },
          "execution_count": 18
        }
      ]
    },
    {
      "cell_type": "code",
      "metadata": {
        "colab": {
          "base_uri": "https://localhost:8080/"
        },
        "id": "3s5AtT35Rgop",
        "outputId": "ba288469-67c1-4fbd-f8d5-7c39987e24ff"
      },
      "source": [
        "from sklearn.linear_model import SGDRegressor\r\n",
        "sgd_reg = SGDRegressor(penalty = 'l2')\r\n",
        "sgd_reg.fit(X, y.ravel())\r\n",
        "sgd_reg.predict([[1.5]]) # y_hat"
      ],
      "execution_count": 21,
      "outputs": [
        {
          "output_type": "execute_result",
          "data": {
            "text/plain": [
              "array([2.82360854])"
            ]
          },
          "metadata": {
            "tags": []
          },
          "execution_count": 21
        }
      ]
    },
    {
      "cell_type": "markdown",
      "metadata": {
        "id": "kOkaGP_hRij7"
      },
      "source": [
        "#### Lasso Regression"
      ]
    },
    {
      "cell_type": "code",
      "metadata": {
        "colab": {
          "base_uri": "https://localhost:8080/"
        },
        "id": "P0YzcSuXRgrT",
        "outputId": "e7594968-21ab-44b0-de1f-bb8b01b8e922"
      },
      "source": [
        "from sklearn.linear_model import Lasso\r\n",
        "\r\n",
        "lasso_reg = Lasso(alpha = 0.1)\r\n",
        "lasso_reg.fit(X, y)\r\n",
        "lasso_reg.predict([[1.5]])"
      ],
      "execution_count": 24,
      "outputs": [
        {
          "output_type": "execute_result",
          "data": {
            "text/plain": [
              "array([2.80334018])"
            ]
          },
          "metadata": {
            "tags": []
          },
          "execution_count": 24
        }
      ]
    },
    {
      "cell_type": "code",
      "metadata": {
        "colab": {
          "base_uri": "https://localhost:8080/"
        },
        "id": "Mlpno6rNRgux",
        "outputId": "59470fb6-6176-4653-dbb4-39723804aa28"
      },
      "source": [
        "from sklearn.linear_model import SGDRegressor\r\n",
        "sgd_reg = SGDRegressor(penalty = 'l1')\r\n",
        "sgd_reg.fit(X, y.ravel())\r\n",
        "sgd_reg.predict([[1.5]]) # y_hat"
      ],
      "execution_count": 22,
      "outputs": [
        {
          "output_type": "execute_result",
          "data": {
            "text/plain": [
              "array([2.82665302])"
            ]
          },
          "metadata": {
            "tags": []
          },
          "execution_count": 22
        }
      ]
    },
    {
      "cell_type": "markdown",
      "metadata": {
        "id": "oTN2lH0fZArr"
      },
      "source": [
        "#### Elastic Net"
      ]
    },
    {
      "cell_type": "code",
      "metadata": {
        "colab": {
          "base_uri": "https://localhost:8080/"
        },
        "id": "3T2h5xNPZDPq",
        "outputId": "d871f728-3be8-4a13-b111-7989925d413e"
      },
      "source": [
        "from sklearn.linear_model import ElasticNet\r\n",
        "\r\n",
        "elastic_net = ElasticNet(alpha = 0.1, l1_ratio = 0.5)\r\n",
        "elastic_net.fit(X, y)\r\n",
        "elastic_net.predict([[1.5]])"
      ],
      "execution_count": 25,
      "outputs": [
        {
          "output_type": "execute_result",
          "data": {
            "text/plain": [
              "array([2.81787396])"
            ]
          },
          "metadata": {
            "tags": []
          },
          "execution_count": 25
        }
      ]
    },
    {
      "cell_type": "markdown",
      "metadata": {
        "id": "vX2Csd-Ya2Fk"
      },
      "source": [
        "## PCA"
      ]
    },
    {
      "cell_type": "code",
      "metadata": {
        "id": "zS0Cp6eGZX47"
      },
      "source": [
        "import numpy as np\r\n",
        "import matplotlib.pyplot as plt\r\n",
        "import pandas as pd\r\n",
        " \r\n",
        "from sklearn import datasets\r\n",
        "from sklearn.decomposition import PCA\r\n",
        "from sklearn.linear_model import LogisticRegression\r\n",
        "from sklearn.pipeline import Pipeline\r\n",
        "from sklearn.model_selection import GridSearchCV"
      ],
      "execution_count": 26,
      "outputs": []
    },
    {
      "cell_type": "code",
      "metadata": {
        "id": "kqaJ6uvpd6NQ"
      },
      "source": [
        "# Define a pipeline to search for the best combination of PCA truncation\r\n",
        "# and classifier regularization.\r\n",
        "pca = PCA()\r\n",
        "# set the tolerance to a large value to make the example faster\r\n",
        "logistic = LogisticRegression(max_iter=10000, tol=0.1)\r\n",
        "pipe = Pipeline(steps=[('pca', pca), ('logistic', logistic)])"
      ],
      "execution_count": 27,
      "outputs": []
    },
    {
      "cell_type": "code",
      "metadata": {
        "id": "cT-1MbhFd8Ct"
      },
      "source": [
        "X_digits, y_digits = datasets.load_digits(return_X_y=True)"
      ],
      "execution_count": 28,
      "outputs": []
    },
    {
      "cell_type": "code",
      "metadata": {
        "colab": {
          "base_uri": "https://localhost:8080/"
        },
        "id": "8qgSRgnoeAYi",
        "outputId": "b5edebf2-da7b-4c35-ecd3-fca7f2e21808"
      },
      "source": [
        "X_digits.shape, y_digits.shape"
      ],
      "execution_count": 29,
      "outputs": [
        {
          "output_type": "execute_result",
          "data": {
            "text/plain": [
              "((1797, 64), (1797,))"
            ]
          },
          "metadata": {
            "tags": []
          },
          "execution_count": 29
        }
      ]
    },
    {
      "cell_type": "code",
      "metadata": {
        "colab": {
          "base_uri": "https://localhost:8080/"
        },
        "id": "zK2cn5bDeD-f",
        "outputId": "59d8d1b4-d97e-431d-e1e5-3c1001fbbe9e"
      },
      "source": [
        "# Parameters of pipelines can be set using ‘__’ separated parameter names:\r\n",
        "param_grid = {\r\n",
        "    'pca__n_components': [5, 15, 30, 45, 64],\r\n",
        "    'logistic__C': np.logspace(-4, 4, 4),\r\n",
        "}\r\n",
        "search = GridSearchCV(pipe, param_grid, n_jobs=-1)\r\n",
        "search.fit(X_digits, y_digits)\r\n",
        "print(\"Best parameter (CV score=%0.3f):\" % search.best_score_)\r\n",
        "print(search.best_params_)"
      ],
      "execution_count": 30,
      "outputs": [
        {
          "output_type": "stream",
          "text": [
            "Best parameter (CV score=0.920):\n",
            "{'logistic__C': 0.046415888336127774, 'pca__n_components': 45}\n"
          ],
          "name": "stdout"
        }
      ]
    },
    {
      "cell_type": "code",
      "metadata": {
        "colab": {
          "base_uri": "https://localhost:8080/",
          "height": 441
        },
        "id": "J3U5-g6MeSG8",
        "outputId": "e7525911-b4f5-4f8f-8d1a-3ca958033b71"
      },
      "source": [
        "# Plot the PCA spectrum\r\n",
        "pca.fit(X_digits)\r\n",
        " \r\n",
        "fig, (ax0, ax1) = plt.subplots(nrows=2, sharex=True, figsize=(6, 6))\r\n",
        "ax0.plot(np.arange(1, pca.n_components_ + 1),\r\n",
        "         pca.explained_variance_ratio_, '+', linewidth=2)\r\n",
        "ax0.set_ylabel('PCA explained variance ratio')\r\n",
        " \r\n",
        "ax0.axvline(search.best_estimator_.named_steps['pca'].n_components,\r\n",
        "            linestyle=':', label='n_components chosen')\r\n",
        "ax0.legend(prop=dict(size=12))\r\n",
        " \r\n",
        "# For each number of components, find the best classifier results\r\n",
        "results = pd.DataFrame(search.cv_results_)\r\n",
        "components_col = 'param_pca__n_components'\r\n",
        "best_clfs = results.groupby(components_col).apply(\r\n",
        "    lambda g: g.nlargest(1, 'mean_test_score'))\r\n",
        " \r\n",
        "best_clfs.plot(x=components_col, y='mean_test_score', yerr='std_test_score',\r\n",
        "               legend=False, ax=ax1)\r\n",
        "ax1.set_ylabel('Classification accuracy (val)')\r\n",
        "ax1.set_xlabel('n_components')\r\n",
        " \r\n",
        "plt.xlim(-1, 70)\r\n",
        " \r\n",
        "plt.tight_layout()\r\n",
        "plt.show()"
      ],
      "execution_count": 31,
      "outputs": [
        {
          "output_type": "display_data",
          "data": {
            "image/png": "[encoded data removed]",
            "text/plain": [
              "<Figure size 432x432 with 2 Axes>"
            ]
          },
          "metadata": {
            "tags": [],
            "needs_background": "light"
          }
        }
      ]
    },
    {
      "cell_type": "code",
      "metadata": {
        "colab": {
          "base_uri": "https://localhost:8080/"
        },
        "id": "f5EvgVP1fDdL",
        "outputId": "d1b49cee-5434-4a18-c88d-94b5f86290c0"
      },
      "source": [
        "X_digits[0,:].shape"
      ],
      "execution_count": 33,
      "outputs": [
        {
          "output_type": "execute_result",
          "data": {
            "text/plain": [
              "(64,)"
            ]
          },
          "metadata": {
            "tags": []
          },
          "execution_count": 33
        }
      ]
    },
    {
      "cell_type": "code",
      "metadata": {
        "colab": {
          "base_uri": "https://localhost:8080/",
          "height": 265
        },
        "id": "DavFs4offFXh",
        "outputId": "72619431-bbc0-4eab-acae-736bd33b4a4e"
      },
      "source": [
        "plt.imshow(X_digits[0,:].reshape(8,8), cmap='Greys',  interpolation='nearest')\r\n",
        "plt.savefig('blkwht.png')\r\n",
        " \r\n",
        "plt.show()"
      ],
      "execution_count": 35,
      "outputs": [
        {
          "output_type": "display_data",
          "data": {
            "image/png": "[encoded data removed]",
            "text/plain": [
              "<Figure size 432x288 with 1 Axes>"
            ]
          },
          "metadata": {
            "tags": [],
            "needs_background": "light"
          }
        }
      ]
    },
    {
      "cell_type": "code",
      "metadata": {
        "id": "5wfJcPH3fYoN"
      },
      "source": [
        ""
      ],
      "execution_count": null,
      "outputs": []
    }
  ]
}