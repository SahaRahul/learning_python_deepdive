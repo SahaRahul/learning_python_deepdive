{
 "metadata": {
  "language_info": {
   "codemirror_mode": {
    "name": "ipython",
    "version": 3
   },
   "file_extension": ".py",
   "mimetype": "text/x-python",
   "name": "python",
   "nbconvert_exporter": "python",
   "pygments_lexer": "ipython3",
   "version": "3.6.6-final"
  },
  "orig_nbformat": 2,
  "kernelspec": {
   "name": "Python 3.6.6 64-bit",
   "display_name": "Python 3.6.6 64-bit",
   "metadata": {
    "interpreter": {
     "hash": "4c65b98e956c6ae24f8ae0bc56d1e465ff92310dbdec0a4bd6b48ffdf1441c98"
    }
   }
  }
 },
 "nbformat": 4,
 "nbformat_minor": 2,
 "cells": [
  {
   "cell_type": "markdown",
   "metadata": {},
   "source": [
    "# Dictionary"
   ]
  },
  {
   "cell_type": "code",
   "execution_count": 4,
   "metadata": {},
   "outputs": [],
   "source": [
    "rect = {'length' : 10, 'breadth' : 5, 'color' : 'red'}"
   ]
  },
  {
   "cell_type": "code",
   "execution_count": 5,
   "metadata": {},
   "outputs": [
    {
     "output_type": "execute_result",
     "data": {
      "text/plain": [
       "50"
      ]
     },
     "metadata": {},
     "execution_count": 5
    }
   ],
   "source": [
    "area = rect['length'] * rect['breadth']\n",
    "area"
   ]
  },
  {
   "cell_type": "code",
   "execution_count": 6,
   "metadata": {},
   "outputs": [
    {
     "output_type": "execute_result",
     "data": {
      "text/plain": [
       "dict"
      ]
     },
     "metadata": {},
     "execution_count": 6
    }
   ],
   "source": [
    "type(rect)"
   ]
  },
  {
   "cell_type": "markdown",
   "metadata": {},
   "source": [
    "### Modification"
   ]
  },
  {
   "cell_type": "code",
   "execution_count": 7,
   "metadata": {},
   "outputs": [],
   "source": [
    "rect['length'] = 15"
   ]
  },
  {
   "cell_type": "code",
   "execution_count": 8,
   "metadata": {},
   "outputs": [
    {
     "output_type": "execute_result",
     "data": {
      "text/plain": [
       "75"
      ]
     },
     "metadata": {},
     "execution_count": 8
    }
   ],
   "source": [
    "area = rect['length'] * rect['breadth']\n",
    "area"
   ]
  },
  {
   "cell_type": "code",
   "execution_count": 10,
   "metadata": {},
   "outputs": [
    {
     "output_type": "execute_result",
     "data": {
      "text/plain": [
       "{'length': 15, 'breadth': 5, 'color': 'red'}"
      ]
     },
     "metadata": {},
     "execution_count": 10
    }
   ],
   "source": [
    "rect"
   ]
  },
  {
   "cell_type": "code",
   "execution_count": 11,
   "metadata": {},
   "outputs": [],
   "source": [
    "rectlist = [{'length': 15, 'breadth': 5, 'color': 'red'}, {'length' : 10, 'breadth' : 5, 'color' : 'red'}]"
   ]
  },
  {
   "cell_type": "code",
   "execution_count": 12,
   "metadata": {},
   "outputs": [
    {
     "output_type": "execute_result",
     "data": {
      "text/plain": [
       "{'length': 15, 'breadth': 5, 'color': 'red'}"
      ]
     },
     "metadata": {},
     "execution_count": 12
    }
   ],
   "source": [
    "rectlist[0]"
   ]
  },
  {
   "cell_type": "code",
   "execution_count": 15,
   "metadata": {},
   "outputs": [
    {
     "output_type": "execute_result",
     "data": {
      "text/plain": [
       "2"
      ]
     },
     "metadata": {},
     "execution_count": 15
    }
   ],
   "source": [
    "len(rectlist)"
   ]
  },
  {
   "cell_type": "code",
   "execution_count": 17,
   "metadata": {},
   "outputs": [
    {
     "output_type": "execute_result",
     "data": {
      "text/plain": [
       "5"
      ]
     },
     "metadata": {},
     "execution_count": 17
    }
   ],
   "source": [
    "rectlist[0]['breadth']"
   ]
  },
  {
   "cell_type": "code",
   "execution_count": 18,
   "metadata": {},
   "outputs": [
    {
     "output_type": "execute_result",
     "data": {
      "text/plain": [
       "'Red'"
      ]
     },
     "metadata": {},
     "execution_count": 18
    }
   ],
   "source": [
    "rectlist[0]['color'].title()"
   ]
  },
  {
   "cell_type": "code",
   "execution_count": 20,
   "metadata": {},
   "outputs": [
    {
     "output_type": "stream",
     "name": "stdout",
     "text": [
      "item - length 15\nitem - breadth 5\nitem - color red\n"
     ]
    }
   ],
   "source": [
    "for key, value in rect.items():\n",
    "    print(f'item - {key} {value}')"
   ]
  },
  {
   "cell_type": "code",
   "execution_count": 27,
   "metadata": {},
   "outputs": [
    {
     "output_type": "stream",
     "name": "stdout",
     "text": [
      "387\n"
     ]
    }
   ],
   "source": [
    "joyrajexam = {'math' : 99, 'phy' : 100, 'bio' : 89, 'chem' : 99}\n",
    "\n",
    "total = 0\n",
    "for subj, mark in joyrajexam.items():\n",
    "    total = total + mark\n",
    "\n",
    "print(total)"
   ]
  },
  {
   "cell_type": "code",
   "execution_count": 22,
   "metadata": {},
   "outputs": [
    {
     "output_type": "stream",
     "name": "stdout",
     "text": [
      "math\nphy\nbio\nchem\n"
     ]
    }
   ],
   "source": [
    "for item in joyrajexam:\n",
    "    print(item)"
   ]
  },
  {
   "cell_type": "code",
   "execution_count": 23,
   "metadata": {},
   "outputs": [
    {
     "output_type": "stream",
     "name": "stdout",
     "text": [
      "math\nphy\nbio\nchem\n"
     ]
    }
   ],
   "source": [
    "for item in joyrajexam.keys():\n",
    "    print(item)"
   ]
  },
  {
   "cell_type": "code",
   "execution_count": 24,
   "metadata": {},
   "outputs": [
    {
     "output_type": "stream",
     "name": "stdout",
     "text": [
      "99\n100\n89\n99\n"
     ]
    }
   ],
   "source": [
    "for v in joyrajexam.values():\n",
    "    print(v)"
   ]
  },
  {
   "cell_type": "code",
   "execution_count": 29,
   "metadata": {},
   "outputs": [
    {
     "output_type": "stream",
     "name": "stdout",
     "text": [
      "298\n"
     ]
    }
   ],
   "source": [
    "total = 0\n",
    "for subj, mark in joyrajexam.items():\n",
    "    if subj != 'bio':\n",
    "        total = mark + total\n",
    "\n",
    "print(total)"
   ]
  },
  {
   "cell_type": "markdown",
   "metadata": {},
   "source": [
    "## SET"
   ]
  },
  {
   "cell_type": "code",
   "execution_count": 33,
   "metadata": {},
   "outputs": [],
   "source": [
    "state = {'westbengal', 'andra', 'ladhak', 'goa', 'andra'}"
   ]
  },
  {
   "cell_type": "code",
   "execution_count": 34,
   "metadata": {},
   "outputs": [
    {
     "output_type": "execute_result",
     "data": {
      "text/plain": [
       "set"
      ]
     },
     "metadata": {},
     "execution_count": 34
    }
   ],
   "source": [
    "type(state)"
   ]
  },
  {
   "cell_type": "code",
   "execution_count": 39,
   "metadata": {},
   "outputs": [
    {
     "output_type": "stream",
     "name": "stdout",
     "text": [
      "{'goa', 'westbengal', 'ladhak', 'andra'}\n"
     ]
    }
   ],
   "source": [
    "print(state)"
   ]
  },
  {
   "cell_type": "code",
   "execution_count": 41,
   "metadata": {},
   "outputs": [
    {
     "output_type": "stream",
     "name": "stdout",
     "text": [
      "goa\nwestbengal\nladhak\nandra\n"
     ]
    }
   ],
   "source": [
    "for v in state:\n",
    "    print(v)"
   ]
  },
  {
   "cell_type": "code",
   "execution_count": 42,
   "metadata": {},
   "outputs": [],
   "source": [
    "statelist = ['westbengal', 'andra', 'ladhak', 'goa', 'andra']"
   ]
  },
  {
   "cell_type": "code",
   "execution_count": 45,
   "metadata": {},
   "outputs": [
    {
     "output_type": "execute_result",
     "data": {
      "text/plain": [
       "{'andra', 'goa', 'ladhak', 'westbengal'}"
      ]
     },
     "metadata": {},
     "execution_count": 45
    }
   ],
   "source": [
    "set(statelist)"
   ]
  },
  {
   "cell_type": "code",
   "execution_count": 51,
   "metadata": {},
   "outputs": [
    {
     "output_type": "stream",
     "name": "stdout",
     "text": [
      "{'len': 3, 'bre': 36, 'fav_color': ['red', 'blue']}\n{'len': 7, 'bre': 15, 'fav_color': ['red', 'blue']}\n{'len': 49, 'bre': 49, 'fav_color': ['red', 'blue']}\n{'len': 26, 'bre': 22, 'fav_color': ['red', 'blue']}\n{'len': 46, 'bre': 28, 'fav_color': ['red', 'blue']}\n"
     ]
    }
   ],
   "source": [
    "import random\n",
    "\n",
    "rectlist = []\n",
    "\n",
    "for rect in range(30):\n",
    "    new_rect = {'len' : 0, 'bre' : 0, 'fav_color' : ['red','blue']}\n",
    "    new_rect['len'] = random.randint(1, 50)\n",
    "    new_rect['bre'] = random.randint(1, 50)\n",
    "\n",
    "    rectlist.append(new_rect)\n",
    "\n",
    "for rect in rectlist[:5]:\n",
    "    print(rect)\n"
   ]
  },
  {
   "cell_type": "code",
   "execution_count": 52,
   "metadata": {},
   "outputs": [
    {
     "output_type": "execute_result",
     "data": {
      "text/plain": [
       "[{'len': 3, 'bre': 36, 'fav_color': ['red', 'blue']},\n",
       " {'len': 7, 'bre': 15, 'fav_color': ['red', 'blue']},\n",
       " {'len': 49, 'bre': 49, 'fav_color': ['red', 'blue']},\n",
       " {'len': 26, 'bre': 22, 'fav_color': ['red', 'blue']},\n",
       " {'len': 46, 'bre': 28, 'fav_color': ['red', 'blue']},\n",
       " {'len': 42, 'bre': 5, 'fav_color': ['red', 'blue']},\n",
       " {'len': 11, 'bre': 28, 'fav_color': ['red', 'blue']},\n",
       " {'len': 9, 'bre': 50, 'fav_color': ['red', 'blue']},\n",
       " {'len': 34, 'bre': 21, 'fav_color': ['red', 'blue']},\n",
       " {'len': 17, 'bre': 30, 'fav_color': ['red', 'blue']},\n",
       " {'len': 3, 'bre': 25, 'fav_color': ['red', 'blue']},\n",
       " {'len': 15, 'bre': 35, 'fav_color': ['red', 'blue']},\n",
       " {'len': 12, 'bre': 5, 'fav_color': ['red', 'blue']},\n",
       " {'len': 31, 'bre': 13, 'fav_color': ['red', 'blue']},\n",
       " {'len': 28, 'bre': 31, 'fav_color': ['red', 'blue']},\n",
       " {'len': 46, 'bre': 20, 'fav_color': ['red', 'blue']},\n",
       " {'len': 34, 'bre': 43, 'fav_color': ['red', 'blue']},\n",
       " {'len': 23, 'bre': 20, 'fav_color': ['red', 'blue']},\n",
       " {'len': 37, 'bre': 50, 'fav_color': ['red', 'blue']},\n",
       " {'len': 35, 'bre': 19, 'fav_color': ['red', 'blue']},\n",
       " {'len': 38, 'bre': 10, 'fav_color': ['red', 'blue']},\n",
       " {'len': 5, 'bre': 1, 'fav_color': ['red', 'blue']},\n",
       " {'len': 47, 'bre': 33, 'fav_color': ['red', 'blue']},\n",
       " {'len': 32, 'bre': 3, 'fav_color': ['red', 'blue']},\n",
       " {'len': 17, 'bre': 3, 'fav_color': ['red', 'blue']},\n",
       " {'len': 24, 'bre': 11, 'fav_color': ['red', 'blue']},\n",
       " {'len': 25, 'bre': 40, 'fav_color': ['red', 'blue']},\n",
       " {'len': 39, 'bre': 41, 'fav_color': ['red', 'blue']},\n",
       " {'len': 26, 'bre': 35, 'fav_color': ['red', 'blue']},\n",
       " {'len': 29, 'bre': 5, 'fav_color': ['red', 'blue']}]"
      ]
     },
     "metadata": {},
     "execution_count": 52
    }
   ],
   "source": [
    "rectlist"
   ]
  },
  {
   "cell_type": "code",
   "execution_count": null,
   "metadata": {},
   "outputs": [],
   "source": []
  },
  {
   "cell_type": "code",
   "execution_count": 53,
   "metadata": {},
   "outputs": [
    {
     "output_type": "execute_result",
     "data": {
      "text/plain": [
       "['abs', 'bgd', 'yyu', 'jjj']"
      ]
     },
     "metadata": {},
     "execution_count": 53
    }
   ],
   "source": [
    "a = ['abs', 'bgd']\n",
    "b = ['yyu', 'jjj']\n",
    "\n",
    "a + b"
   ]
  },
  {
   "cell_type": "code",
   "execution_count": 54,
   "metadata": {},
   "outputs": [],
   "source": [
    "a[len(a):] = b"
   ]
  },
  {
   "cell_type": "code",
   "execution_count": 55,
   "metadata": {},
   "outputs": [
    {
     "output_type": "execute_result",
     "data": {
      "text/plain": [
       "['abs', 'bgd', 'yyu', 'jjj']"
      ]
     },
     "metadata": {},
     "execution_count": 55
    }
   ],
   "source": [
    "a"
   ]
  },
  {
   "cell_type": "code",
   "execution_count": 56,
   "metadata": {},
   "outputs": [],
   "source": [
    "aset = {'abc', 'aaa', 'bbb', 'ccc'}\n",
    "bset = {'abc', 'aaa', 'xrf'}"
   ]
  },
  {
   "cell_type": "code",
   "execution_count": 57,
   "metadata": {},
   "outputs": [
    {
     "output_type": "execute_result",
     "data": {
      "text/plain": [
       "{'bbb', 'ccc'}"
      ]
     },
     "metadata": {},
     "execution_count": 57
    }
   ],
   "source": [
    "aset - bset"
   ]
  },
  {
   "cell_type": "code",
   "execution_count": 59,
   "metadata": {},
   "outputs": [
    {
     "output_type": "execute_result",
     "data": {
      "text/plain": [
       "{'aaa', 'abc', 'bbb', 'ccc', 'xrf'}"
      ]
     },
     "metadata": {},
     "execution_count": 59
    }
   ],
   "source": [
    "aset.union(bset)"
   ]
  },
  {
   "cell_type": "code",
   "execution_count": null,
   "metadata": {},
   "outputs": [],
   "source": [
    "add()\n",
    "clear()\n",
    "copy()\n",
    "difference()\n",
    "intersection()\n",
    "isdisjoint()"
   ]
  },
  {
   "cell_type": "code",
   "execution_count": 60,
   "metadata": {},
   "outputs": [
    {
     "output_type": "execute_result",
     "data": {
      "text/plain": [
       "False"
      ]
     },
     "metadata": {},
     "execution_count": 60
    }
   ],
   "source": [
    "aset.isdisjoint(bset)"
   ]
  },
  {
   "cell_type": "code",
   "execution_count": 67,
   "metadata": {},
   "outputs": [],
   "source": [
    "aset = {'bbb', 'ccc'}\n",
    "bset = {'abc', 'aaa'}"
   ]
  },
  {
   "cell_type": "code",
   "execution_count": 69,
   "metadata": {},
   "outputs": [
    {
     "output_type": "execute_result",
     "data": {
      "text/plain": [
       "set()"
      ]
     },
     "metadata": {},
     "execution_count": 69
    }
   ],
   "source": [
    "aset.intersection(bset)"
   ]
  },
  {
   "cell_type": "code",
   "execution_count": 68,
   "metadata": {},
   "outputs": [
    {
     "output_type": "execute_result",
     "data": {
      "text/plain": [
       "True"
      ]
     },
     "metadata": {},
     "execution_count": 68
    }
   ],
   "source": [
    "aset.isdisjoint(bset)"
   ]
  },
  {
   "cell_type": "code",
   "execution_count": 70,
   "metadata": {},
   "outputs": [],
   "source": [
    "aset = {'bbb', 'ccc'}\n",
    "bset = {'bbb', 'ccc'}"
   ]
  },
  {
   "cell_type": "code",
   "execution_count": 71,
   "metadata": {},
   "outputs": [
    {
     "output_type": "execute_result",
     "data": {
      "text/plain": [
       "False"
      ]
     },
     "metadata": {},
     "execution_count": 71
    }
   ],
   "source": [
    "aset.isdisjoint(bset)"
   ]
  },
  {
   "cell_type": "code",
   "execution_count": 72,
   "metadata": {},
   "outputs": [
    {
     "output_type": "execute_result",
     "data": {
      "text/plain": [
       "{'bbb', 'ccc'}"
      ]
     },
     "metadata": {},
     "execution_count": 72
    }
   ],
   "source": [
    "aset.intersection(bset)"
   ]
  },
  {
   "cell_type": "code",
   "execution_count": 73,
   "metadata": {},
   "outputs": [],
   "source": [
    "aset.add('lll')"
   ]
  },
  {
   "cell_type": "code",
   "execution_count": 74,
   "metadata": {},
   "outputs": [
    {
     "output_type": "execute_result",
     "data": {
      "text/plain": [
       "{'bbb', 'ccc', 'lll'}"
      ]
     },
     "metadata": {},
     "execution_count": 74
    }
   ],
   "source": [
    "aset"
   ]
  },
  {
   "cell_type": "code",
   "execution_count": null,
   "metadata": {},
   "outputs": [],
   "source": []
  }
 ]
}