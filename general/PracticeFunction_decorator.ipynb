{
  "nbformat": 4,
  "nbformat_minor": 0,
  "metadata": {
    "colab": {
      "name": "PracticeFunction_decorator.ipynb",
      "provenance": [],
      "authorship_tag": "ABX9TyOmzOtoFNrp+5UIgRqDHAwj",
      "include_colab_link": true
    },
    "kernelspec": {
      "name": "python3",
      "display_name": "Python 3"
    },
    "language_info": {
      "name": "python"
    }
  },
  "cells": [
    {
      "cell_type": "markdown",
      "metadata": {
        "id": "view-in-github",
        "colab_type": "text"
      },
      "source": [
        "<a href=\"https://colab.research.google.com/github/SahaRahul/learning_python_deepdive/blob/main/general/PracticeFunction_decorator.ipynb\" target=\"_parent\"><img src=\"https://colab.research.google.com/assets/colab-badge.svg\" alt=\"Open In Colab\"/></a>"
      ]
    },
    {
      "cell_type": "markdown",
      "metadata": {
        "id": "0A4BSCPYJOnw"
      },
      "source": [
        "## Initial understanding of function"
      ]
    },
    {
      "cell_type": "code",
      "metadata": {
        "id": "89aNQqpDIj2b"
      },
      "source": [
        "def add1(a, b):\n",
        "  c = a + b\n",
        "  return c"
      ],
      "execution_count": null,
      "outputs": []
    },
    {
      "cell_type": "code",
      "metadata": {
        "colab": {
          "base_uri": "https://localhost:8080/"
        },
        "id": "2ZNG3W9cIvEj",
        "outputId": "2741d45f-cd7e-46fe-f399-8115920d1498"
      },
      "source": [
        "help(add1)"
      ],
      "execution_count": null,
      "outputs": [
        {
          "output_type": "stream",
          "text": [
            "Help on function add1 in module __main__:\n",
            "\n",
            "add1(a, b)\n",
            "\n"
          ],
          "name": "stdout"
        }
      ]
    },
    {
      "cell_type": "markdown",
      "metadata": {
        "id": "uHsFScnkl2Ih"
      },
      "source": [
        "### Advantage of doc"
      ]
    },
    {
      "cell_type": "code",
      "metadata": {
        "id": "HxVj37ePIzp3"
      },
      "source": [
        "def add2(a : int, b : int) -> int:\n",
        "  '''\n",
        "  Add operation to enter two int values.\n",
        "  Returns: int value\n",
        "  '''\n",
        "  c = a + b\n",
        "  \n",
        "  # returns c\n",
        "  return c"
      ],
      "execution_count": null,
      "outputs": []
    },
    {
      "cell_type": "code",
      "metadata": {
        "colab": {
          "base_uri": "https://localhost:8080/"
        },
        "id": "BGlDToYRJE9Y",
        "outputId": "8c0c75b2-4533-4448-d7ca-f2f3dbdcbd5f"
      },
      "source": [
        "help(add2)"
      ],
      "execution_count": null,
      "outputs": [
        {
          "output_type": "stream",
          "text": [
            "Help on function add2 in module __main__:\n",
            "\n",
            "add2(a: int, b: int) -> int\n",
            "    Add operation to enter two int values.\n",
            "    Returns: int value\n",
            "\n"
          ],
          "name": "stdout"
        }
      ]
    },
    {
      "cell_type": "code",
      "metadata": {
        "colab": {
          "base_uri": "https://localhost:8080/"
        },
        "id": "B8vR0pjul73t",
        "outputId": "6a7c5057-44d4-450f-f289-a8f616da1075"
      },
      "source": [
        "print(add2.__name__)\n",
        "print(add2.__doc__)"
      ],
      "execution_count": null,
      "outputs": [
        {
          "output_type": "stream",
          "text": [
            "add2\n",
            "\n",
            "  Add operation to enter two int values.\n",
            "  Returns: int value\n",
            "  \n"
          ],
          "name": "stdout"
        }
      ]
    },
    {
      "cell_type": "code",
      "metadata": {
        "colab": {
          "base_uri": "https://localhost:8080/"
        },
        "id": "6rgVfR_PJGlU",
        "outputId": "33313bbd-f412-4ef0-fad5-3d3b99a759f3"
      },
      "source": [
        "add1(4, 5)"
      ],
      "execution_count": null,
      "outputs": [
        {
          "output_type": "execute_result",
          "data": {
            "text/plain": [
              "9"
            ]
          },
          "metadata": {
            "tags": []
          },
          "execution_count": 9
        }
      ]
    },
    {
      "cell_type": "code",
      "metadata": {
        "colab": {
          "base_uri": "https://localhost:8080/"
        },
        "id": "gS8ZRG0GJZWU",
        "outputId": "1b165a32-4142-4de8-ec88-e1c50d0e976e"
      },
      "source": [
        "add2(4,5)"
      ],
      "execution_count": null,
      "outputs": [
        {
          "output_type": "execute_result",
          "data": {
            "text/plain": [
              "9"
            ]
          },
          "metadata": {
            "tags": []
          },
          "execution_count": 10
        }
      ]
    },
    {
      "cell_type": "markdown",
      "metadata": {
        "id": "unM7O1nZLFBp"
      },
      "source": [
        "Decorators are very powerful and useful tool in Python since it allows programmers to modify the behavior of function or class. Decorators allow us to wrap another function in order to extend the behavior of the wrapped function, without permanently modifying it. But before diving deep into decorators let us understand some concepts that will come in handy in learning the decorators."
      ]
    },
    {
      "cell_type": "markdown",
      "metadata": {
        "id": "kW4CoGViOCf-"
      },
      "source": [
        "## Example 1: Treating the functions as objects."
      ]
    },
    {
      "cell_type": "code",
      "metadata": {
        "colab": {
          "base_uri": "https://localhost:8080/"
        },
        "id": "aOP01J8_JbW2",
        "outputId": "c093e137-efff-46a8-c440-efe8ea307870"
      },
      "source": [
        "# Python program to illustrate functions \n",
        "# can be treated as objects \n",
        "def shout(text): \n",
        "    return text.upper() \n",
        "  \n",
        "print(shout('Hello')) \n"
      ],
      "execution_count": null,
      "outputs": [
        {
          "output_type": "stream",
          "text": [
            "HELLO\n"
          ],
          "name": "stdout"
        }
      ]
    },
    {
      "cell_type": "code",
      "metadata": {
        "colab": {
          "base_uri": "https://localhost:8080/"
        },
        "id": "y0F3BOQfNKTb",
        "outputId": "0060bef4-0313-44ec-f3d1-a7ac07488aac"
      },
      "source": [
        "# Creating another function from the previous function\n",
        "yell = shout \n",
        "  \n",
        "print(yell('Hello')) "
      ],
      "execution_count": null,
      "outputs": [
        {
          "output_type": "stream",
          "text": [
            "HELLO\n"
          ],
          "name": "stdout"
        }
      ]
    },
    {
      "cell_type": "markdown",
      "metadata": {
        "id": "IlmIPNxdNZTP"
      },
      "source": [
        "##Example 2: Passing the function as argument"
      ]
    },
    {
      "cell_type": "code",
      "metadata": {
        "colab": {
          "base_uri": "https://localhost:8080/"
        },
        "id": "YDK5t7QoNM62",
        "outputId": "17712e5e-ab94-4b22-b951-1c6741e9e86f"
      },
      "source": [
        "\n",
        "# Python program to illustrate functions \n",
        "# can be passed as arguments to other functions \n",
        "def shout(text): \n",
        "    return text.upper() \n",
        "  \n",
        "def whisper(text): \n",
        "    return text.lower() \n",
        "  \n",
        "def greet(func): \n",
        "    # storing the function in a variable \n",
        "    greeting = func(\"\"\"Hi, I am created by a function passed as an argument.\"\"\") \n",
        "    print (greeting) \n",
        "  \n",
        "greet(shout) \n",
        "greet(whisper) "
      ],
      "execution_count": null,
      "outputs": [
        {
          "output_type": "stream",
          "text": [
            "HI, I AM CREATED BY A FUNCTION PASSED AS AN ARGUMENT.\n",
            "hi, i am created by a function passed as an argument.\n"
          ],
          "name": "stdout"
        }
      ]
    },
    {
      "cell_type": "markdown",
      "metadata": {
        "id": "CYam7EvPP1IZ"
      },
      "source": [
        "## Create documentation with the help of single function"
      ]
    },
    {
      "cell_type": "code",
      "metadata": {
        "id": "5l5vsux7NgSj"
      },
      "source": [
        "def get_def(func):\n",
        "  return help(func)"
      ],
      "execution_count": null,
      "outputs": []
    },
    {
      "cell_type": "code",
      "metadata": {
        "colab": {
          "base_uri": "https://localhost:8080/"
        },
        "id": "Nc8AY0jJPcpH",
        "outputId": "77cfa3d8-a5b5-4d98-a121-af5261588286"
      },
      "source": [
        "get_def(add1)"
      ],
      "execution_count": null,
      "outputs": [
        {
          "output_type": "stream",
          "text": [
            "Help on function add1 in module __main__:\n",
            "\n",
            "add1(a, b)\n",
            "\n"
          ],
          "name": "stdout"
        }
      ]
    },
    {
      "cell_type": "code",
      "metadata": {
        "colab": {
          "base_uri": "https://localhost:8080/"
        },
        "id": "5WAlCRgPPfse",
        "outputId": "4912736b-1224-4efb-8d88-3eb8566dbbf8"
      },
      "source": [
        "get_def(add2)"
      ],
      "execution_count": null,
      "outputs": [
        {
          "output_type": "stream",
          "text": [
            "Help on function add2 in module __main__:\n",
            "\n",
            "add2(a: int, b: int) -> int\n",
            "    Add operation to enter two int values.\n",
            "    Returns: int value\n",
            "\n"
          ],
          "name": "stdout"
        }
      ]
    },
    {
      "cell_type": "code",
      "metadata": {
        "id": "l_m0R2ZVQGG-"
      },
      "source": [
        "def decorator_getDef(func):\n",
        "\n",
        "  def inner1(*args, **kwargs):\n",
        "    \n",
        "    val = func(*args, **kwargs)\n",
        "\n",
        "    print(f\"Help for function : {func.__name__}\")\n",
        "    help(func)\n",
        "    \n",
        "    return val\n",
        "  \n",
        "  return inner1\n",
        "\n",
        "\n",
        "@decorator_getDef\n",
        "def add_new(a: int, b: int) -> int:\n",
        "\n",
        "  c = a + b\n",
        "\n",
        "  return c"
      ],
      "execution_count": null,
      "outputs": []
    },
    {
      "cell_type": "code",
      "metadata": {
        "colab": {
          "base_uri": "https://localhost:8080/"
        },
        "id": "8gIQRJB3X1Iy",
        "outputId": "876d2dac-a47e-4095-8d40-407273ee9690"
      },
      "source": [
        "add_new(5, 7)"
      ],
      "execution_count": null,
      "outputs": [
        {
          "output_type": "stream",
          "text": [
            "Help for function : add_new\n",
            "Help on function add_new in module __main__:\n",
            "\n",
            "add_new(a: int, b: int) -> int\n",
            "\n"
          ],
          "name": "stdout"
        },
        {
          "output_type": "execute_result",
          "data": {
            "text/plain": [
              "12"
            ]
          },
          "metadata": {
            "tags": []
          },
          "execution_count": 47
        }
      ]
    },
    {
      "cell_type": "code",
      "metadata": {
        "colab": {
          "base_uri": "https://localhost:8080/"
        },
        "id": "CPu7ouz9ZQW8",
        "outputId": "eccb381b-090a-41b2-e209-7c83edf55dc8"
      },
      "source": [
        "help(add_new)"
      ],
      "execution_count": null,
      "outputs": [
        {
          "output_type": "stream",
          "text": [
            "Help on function inner1 in module __main__:\n",
            "\n",
            "inner1(*args, **kwargs)\n",
            "\n"
          ],
          "name": "stdout"
        }
      ]
    },
    {
      "cell_type": "markdown",
      "metadata": {
        "id": "HH_JpVsVQHl5"
      },
      "source": [
        "## Now, here comes the decorator. To do the magic."
      ]
    },
    {
      "cell_type": "code",
      "metadata": {
        "id": "qhqc7lx_Pi7p"
      },
      "source": [
        "''' With decorator\n",
        "\n",
        "@gfg_decorator\n",
        "def hello_decorator():\n",
        "    print(\"Gfg\")\n",
        "\n",
        "'''\n",
        "\n",
        "'''Without decorator the above code can be written in below format -\n",
        "\n",
        "def hello_decorator():\n",
        "    print(\"Gfg\")\n",
        "    \n",
        "hello_decorator = gfg_decorator(hello_decorator)'''"
      ],
      "execution_count": null,
      "outputs": []
    },
    {
      "cell_type": "markdown",
      "metadata": {
        "id": "2lvnvkCoRIMF"
      },
      "source": [
        "#### What I did in the above code is that I am not calling gfg_decorator() with the function hello_decorator() as a argument. It is taking care automatically."
      ]
    },
    {
      "cell_type": "code",
      "metadata": {
        "colab": {
          "base_uri": "https://localhost:8080/"
        },
        "id": "wdRQcs02QS8q",
        "outputId": "2264af9c-2d0b-4c4c-9247-22f9a8cbaf5b"
      },
      "source": [
        "# importing libraries\n",
        "import time\n",
        "import math\n",
        "  \n",
        "# decorator to calculate duration\n",
        "# taken by any function.\n",
        "def calculate_time(func):\n",
        "      \n",
        "    # added arguments inside the inner1,\n",
        "    # if function takes any arguments,\n",
        "    # can be added like this.\n",
        "    def inner1(*args, **kwargs):\n",
        "  \n",
        "        # storing time before function execution\n",
        "        begin = time.time()\n",
        "          \n",
        "        func(*args, **kwargs)\n",
        "  \n",
        "        # storing time after function execution\n",
        "        end = time.time()\n",
        "        print(\"Total time taken in : \", func.__name__, end - begin)\n",
        "  \n",
        "    return inner1\n",
        "  \n",
        "  \n",
        "  \n",
        "# this can be added to any function present,\n",
        "# in this case to calculate a factorial\n",
        "@calculate_time\n",
        "def factorial(num):\n",
        "  \n",
        "    # sleep 2 seconds because it takes very less time\n",
        "    # so that you can see the actual difference\n",
        "    time.sleep(2)\n",
        "    print(math.factorial(num))\n",
        "  \n",
        "# calling the function.\n",
        "result = factorial(10)\n",
        "print(result)"
      ],
      "execution_count": null,
      "outputs": [
        {
          "output_type": "stream",
          "text": [
            "3628800\n",
            "Total time taken in :  factorial 2.0014331340789795\n",
            "None\n"
          ],
          "name": "stdout"
        }
      ]
    },
    {
      "cell_type": "code",
      "metadata": {
        "id": "0cPE07udaDUk"
      },
      "source": [
        ""
      ],
      "execution_count": null,
      "outputs": []
    },
    {
      "cell_type": "markdown",
      "metadata": {
        "id": "QpZRntoea8IF"
      },
      "source": [
        "## Decorator to add debugger, and also return object of the function"
      ]
    },
    {
      "cell_type": "code",
      "metadata": {
        "id": "8F-z8D0OaDGC"
      },
      "source": [
        "\n",
        "def hello_decorator(func):\n",
        "    def inner1(*args, **kwargs):\n",
        "          \n",
        "        print(\"*** Before Execution ***\")\n",
        "          \n",
        "        # getting the returned value\n",
        "        returned_value = func(*args, **kwargs)\n",
        "        print(f\"Function name :{func.__name__}\")\n",
        "        print(\"*** After Execution ***\")\n",
        "          \n",
        "        # returning the value to the original frame\n",
        "        return returned_value\n",
        "          \n",
        "    return inner1\n",
        "  \n",
        "  \n",
        "# adding decorator to the function\n",
        "@hello_decorator\n",
        "def sum_two_numbers(a, b):\n",
        "    print(\"Inside the function\")\n",
        "    return a + b\n",
        "  "
      ],
      "execution_count": null,
      "outputs": []
    },
    {
      "cell_type": "code",
      "metadata": {
        "colab": {
          "base_uri": "https://localhost:8080/"
        },
        "id": "i2qR-N3zatE-",
        "outputId": "6d852625-3fdc-4e31-da2e-88f8fe02bc6c"
      },
      "source": [
        "a, b = 1, 2\n",
        "  \n",
        "# getting the value through return of the function\n",
        "print(\"Sum =\", sum_two_numbers(a, b))"
      ],
      "execution_count": null,
      "outputs": [
        {
          "output_type": "stream",
          "text": [
            "*** Before Execution ***\n",
            "Inside the function\n",
            "Function name :sum_two_numbers\n",
            "*** After Execution ***\n",
            "Sum = 3\n"
          ],
          "name": "stdout"
        }
      ]
    },
    {
      "cell_type": "code",
      "metadata": {
        "id": "mohxba8Gbt44"
      },
      "source": [
        ""
      ],
      "execution_count": null,
      "outputs": []
    }
  ]
}